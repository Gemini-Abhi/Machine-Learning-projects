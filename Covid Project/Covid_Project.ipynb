{
 "cells": [
  {
   "cell_type": "markdown",
   "metadata": {},
   "source": [
    "## "
   ]
  },
  {
   "cell_type": "markdown",
   "metadata": {},
   "source": [
    "## Covid-19 Prediction"
   ]
  },
  {
   "cell_type": "markdown",
   "metadata": {},
   "source": [
    "***A speedy and accurate diagnosis of COVID-19 is made possible by effective SARS-CoV-2 screening, which can also lessen the burden on healthcare systems. There have been built prediction models that assess the likelihood of infection by combining a number of parameters. These are meant to help medical professionals all over the world treat patients, especially in light of the scarcity of healthcare resources. The current dataset has been downloaded from ‘ABC’ government website and contains around 2,78,848 individuals who have gone through the RT-PCR test. Data set contains 11 columns, including 8 features suspected to play an important role in the prediction of COVID19 outcome. Outcome variable is covid result test positive or negative. We have data from 11th March 2020 till 30th April 2020.***\n"
   ]
  },
  {
   "cell_type": "markdown",
   "metadata": {},
   "source": [
    "## Features:"
   ]
  },
  {
   "cell_type": "markdown",
   "metadata": {},
   "source": [
    "A. Basic information: \n",
    "1. ID (Individual ID)\n",
    "\n",
    "2. Sex (male/female). \n",
    "\n",
    "3. Age ≥60 above years (true/false) \n",
    "\n",
    "4. Test date (date when tested for COVID)\n",
    "\n",
    "\n",
    "B. Symptoms: \n",
    "\n",
    "5. Cough (true/false).\n",
    "\n",
    "6. Fever (true/false). \n",
    "\n",
    "7. Sore throat (true/false). \n",
    "\n",
    "8. Shortness of breath (true/false). \n",
    "\n",
    "9. Headache (true/false). \n",
    "\n",
    "\n",
    "C. Other information: \n",
    "\n",
    "10. Known contact with an individual confirmed to have COVID-19 (true/false).\n",
    "\n",
    "\n",
    "D. Covid report\n",
    "\n",
    "11. Corona positive or negative"
   ]
  },
  {
   "cell_type": "markdown",
   "metadata": {},
   "source": []
  }
 ],
 "metadata": {
  "language_info": {
   "name": "python"
  },
  "orig_nbformat": 4
 },
 "nbformat": 4,
 "nbformat_minor": 2
}
