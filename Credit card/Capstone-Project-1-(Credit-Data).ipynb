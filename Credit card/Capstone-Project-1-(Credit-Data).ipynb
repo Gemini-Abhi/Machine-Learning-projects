{
 "cells": [
  {
   "cell_type": "markdown",
   "id": "9adef423",
   "metadata": {},
   "source": [
    "# CREDIT CARD APPROVAL PROJECT\n",
    "\n",
    "***by Abhijeet Sethy***\n",
    "\n",
    "***Student ID: S3805***\n",
    "\n",
    "***Batch: DS27A***"
   ]
  },
  {
   "cell_type": "markdown",
   "id": "539b7035",
   "metadata": {},
   "source": [
    "********************\n",
    "### Machine learning algorithms are being used to predict credit card acceptance based on consumer information.\n",
    "********************"
   ]
  },
  {
   "cell_type": "markdown",
   "id": "5bc38f0d",
   "metadata": {},
   "source": [
    "A bank's credit card department is one of the top adopters of data science. A top focus for the bank has always been acquiring new credit card customers. Giving out credit cards without doing proper research or evaluating applicants' creditworthiness is quite risky.\n",
    "So, here we will try to make Machine Learning models to predict customer worthiness of getting a creditcard."
   ]
  },
  {
   "cell_type": "markdown",
   "id": "8203d252",
   "metadata": {},
   "source": [
    "## Available Features"
   ]
  },
  {
   "cell_type": "markdown",
   "id": "f63dde17",
   "metadata": {},
   "source": [
    "**Features name:** (Credit_Card.csv)\n",
    "\n",
    "**Ind_ID:** Client ID\n",
    "\n",
    "**Gender:** Gender information\n",
    "\n",
    "**Car_owner:** Having car or not\n",
    "\n",
    "**Propert_owner:** Having property or not\n",
    "\n",
    "**Children:** Count of children\n",
    "\n",
    "**Annual_income:** Annual income\n",
    "\n",
    "**Type_Income:** Income type\n",
    "\n",
    "**Education:** Education level\n",
    "\n",
    "**Marital_status:** Marital_status\n",
    "\n",
    "**Housing_type:** Living style\n",
    "\n",
    "**Birthday_count:** Use backward count from current day (0), -1 means yesterday.\n",
    "\n",
    "**Employed_days:** Start date of employment. Use backward count from current day (0). Positive value means, individual is currently unemployed.\n",
    "\n",
    "**Mobile_phone:** Any mobile phone\n",
    "\n",
    "**Work_phone:** Any work phone\n",
    "\n",
    "**Phone:** Any phone number\n",
    "\n",
    "**EMAIL_ID:** Any email ID\n",
    "\n",
    "**Type_Occupation:** Occupation\n",
    "\n",
    "**Family_Members:** Family size"
   ]
  },
  {
   "cell_type": "markdown",
   "id": "ac971b32",
   "metadata": {},
   "source": [
    "### **The whole Data Analysis and Machine Learning Process consist of 6 steps:**\n",
    "\n",
    "**1.**Data Understanding\n",
    "\n",
    "**2.**Data Cleaning\n",
    "\n",
    "**3.**Exploratory Data Analysis\n",
    "\n",
    "**4.**Feature Selection and Feature Engineering\n",
    "\n",
    "**5.**Modeling\n",
    "\n",
    "**6.**Train-Test Split\n",
    "\n",
    "**7.**Model Training\n",
    "\n",
    "**8.**Evaluation\n",
    "\n",
    "**9.**Deployment"
   ]
  },
  {
   "cell_type": "markdown",
   "id": "41b6fa8b",
   "metadata": {},
   "source": [
    "## 1.Data Understanding"
   ]
  },
  {
   "cell_type": "markdown",
   "id": "cbba8830",
   "metadata": {},
   "source": [
    "A bank's credit card department heavily relies on data science for customer acquisition. They prioritize assessing creditworthiness to avoid risky lending. They use a data-driven system called Credit Scoring, specifically an application scorecard, to determine the cutoff value for credit card applications, which helps assess risk levels based on current strategic priorities.\n",
    "\n",
    "To apply for a credit card, customers submit application data, either physically or online. This data is used alongside external Credit Bureau Scores (e.g., FICO Score in the US or CIBIL Score in India) and internal information to make informed credit decisions. The bank is also increasingly incorporating external data to improve its credit assessments."
   ]
  },
  {
   "cell_type": "markdown",
   "id": "ebaa46fb",
   "metadata": {},
   "source": [
    "***The dataset contains customer information that will be utilized to predict their creditworthiness in the future.***"
   ]
  },
  {
   "cell_type": "markdown",
   "id": "49e9e7ee",
   "metadata": {},
   "source": [
    "### Available Features"
   ]
  },
  {
   "cell_type": "markdown",
   "id": "55038f20",
   "metadata": {},
   "source": [
    "******************************************************\n",
    "***First Dataset Name*** (Credit_Card.csv) \n",
    "******************************************************\n",
    "#### **************** Features****************\n",
    "**Ind_ID:** Client ID\n",
    "\n",
    "**Gender:** Gender information\n",
    "\n",
    "**Car_owner:** Having car or not\n",
    "\n",
    "**Propert_owner:** Having property or not\n",
    "\n",
    "**Children:** Count of children\n",
    "\n",
    "**Annual_income:** Annual income\n",
    "\n",
    "**Type_Income:** Income type\n",
    "\n",
    "**Education:** Education level\n",
    "\n",
    "**Marital_status:** Marital_status\n",
    "\n",
    "**Housing_type:** Living style\n",
    "\n",
    "**Birthday_count:** Use backward count from current day (0), -1 means yesterday.\n",
    "\n",
    "**Employed_days:** Start date of employment. Use backward count from current day (0). Positive value means, individual is currently unemployed.\n",
    "\n",
    "**Mobile_phone:** Any mobile phone\n",
    "\n",
    "**Work_phone:** Any work phone\n",
    "\n",
    "**Phone:** Any phone number\n",
    "\n",
    "**EMAIL_ID:** Any email ID\n",
    "\n",
    "**Type_Occupation:** Occupation\n",
    "\n",
    "**Family_Members:** Family size\n",
    "\n",
    "\n",
    "\n",
    "************************************************************\n",
    "\n",
    "***Second Dataset Name:*** Credit_card_label.csv\n",
    "************************************************************\n",
    "#### **************** Features****************\n",
    "\n",
    "**Ind_ID:** Client ID\n",
    "\n",
    "**Label:** Whether worthy for Credit or not"
   ]
  },
  {
   "cell_type": "code",
   "execution_count": 279,
   "id": "99390418",
   "metadata": {},
   "outputs": [],
   "source": [
    "import pandas as pd\n",
    "import numpy as np\n",
    "import matplotlib.pyplot as plt\n",
    "import seaborn as sns\n",
    "%matplotlib inline"
   ]
  },
  {
   "cell_type": "markdown",
   "id": "6a9faf4b",
   "metadata": {},
   "source": [
    "Importing the data to dataframes for analysis"
   ]
  },
  {
   "cell_type": "code",
   "execution_count": 280,
   "id": "df0648ad",
   "metadata": {},
   "outputs": [],
   "source": [
    "credit_data = pd.read_csv(r\"E:\\Data Analyst Journey\\Odin SChool\\Notes\\EDA&ML\\Capstone Project\\Credit_card.csv\")\n",
    "credit_label = pd.read_csv(r\"E:\\Data Analyst Journey\\Odin SChool\\Notes\\EDA&ML\\Capstone Project\\Credit_card_label.csv\")"
   ]
  },
  {
   "cell_type": "markdown",
   "id": "a808d78e",
   "metadata": {},
   "source": [
    "Now we have to merge both the dataset with the help of merge function w.r.t a common column.(Ind_ID)"
   ]
  },
  {
   "cell_type": "code",
   "execution_count": 281,
   "id": "41b22fa2",
   "metadata": {},
   "outputs": [],
   "source": [
    "credit_data_merged = pd.merge(credit_data,credit_label, on = [\"Ind_ID\"])"
   ]
  },
  {
   "cell_type": "code",
   "execution_count": 282,
   "id": "0531a9ab",
   "metadata": {},
   "outputs": [
    {
     "data": {
      "text/plain": [
       "(1548, 19)"
      ]
     },
     "execution_count": 282,
     "metadata": {},
     "output_type": "execute_result"
    }
   ],
   "source": [
    "credit_data_merged.shape"
   ]
  },
  {
   "cell_type": "code",
   "execution_count": 283,
   "id": "9d543b49",
   "metadata": {},
   "outputs": [],
   "source": [
    "creditdata = credit_data_merged.copy()"
   ]
  },
  {
   "cell_type": "code",
   "execution_count": 284,
   "id": "393bbf2f",
   "metadata": {
    "scrolled": false
   },
   "outputs": [
    {
     "data": {
      "text/html": [
       "<div>\n",
       "<style scoped>\n",
       "    .dataframe tbody tr th:only-of-type {\n",
       "        vertical-align: middle;\n",
       "    }\n",
       "\n",
       "    .dataframe tbody tr th {\n",
       "        vertical-align: top;\n",
       "    }\n",
       "\n",
       "    .dataframe thead th {\n",
       "        text-align: right;\n",
       "    }\n",
       "</style>\n",
       "<table border=\"1\" class=\"dataframe\">\n",
       "  <thead>\n",
       "    <tr style=\"text-align: right;\">\n",
       "      <th></th>\n",
       "      <th>Ind_ID</th>\n",
       "      <th>CHILDREN</th>\n",
       "      <th>Annual_income</th>\n",
       "      <th>Birthday_count</th>\n",
       "      <th>Employed_days</th>\n",
       "      <th>Mobile_phone</th>\n",
       "      <th>Work_Phone</th>\n",
       "      <th>Phone</th>\n",
       "      <th>EMAIL_ID</th>\n",
       "      <th>Family_Members</th>\n",
       "      <th>label</th>\n",
       "    </tr>\n",
       "  </thead>\n",
       "  <tbody>\n",
       "    <tr>\n",
       "      <th>count</th>\n",
       "      <td>1.548000e+03</td>\n",
       "      <td>1548.000000</td>\n",
       "      <td>1.525000e+03</td>\n",
       "      <td>1526.000000</td>\n",
       "      <td>1548.000000</td>\n",
       "      <td>1548.0</td>\n",
       "      <td>1548.000000</td>\n",
       "      <td>1548.000000</td>\n",
       "      <td>1548.000000</td>\n",
       "      <td>1548.000000</td>\n",
       "      <td>1548.000000</td>\n",
       "    </tr>\n",
       "    <tr>\n",
       "      <th>mean</th>\n",
       "      <td>5.078920e+06</td>\n",
       "      <td>0.412791</td>\n",
       "      <td>1.913993e+05</td>\n",
       "      <td>-16040.342071</td>\n",
       "      <td>59364.689922</td>\n",
       "      <td>1.0</td>\n",
       "      <td>0.208010</td>\n",
       "      <td>0.309432</td>\n",
       "      <td>0.092377</td>\n",
       "      <td>2.161499</td>\n",
       "      <td>0.113049</td>\n",
       "    </tr>\n",
       "    <tr>\n",
       "      <th>std</th>\n",
       "      <td>4.171759e+04</td>\n",
       "      <td>0.776691</td>\n",
       "      <td>1.132530e+05</td>\n",
       "      <td>4229.503202</td>\n",
       "      <td>137808.062701</td>\n",
       "      <td>0.0</td>\n",
       "      <td>0.406015</td>\n",
       "      <td>0.462409</td>\n",
       "      <td>0.289651</td>\n",
       "      <td>0.947772</td>\n",
       "      <td>0.316755</td>\n",
       "    </tr>\n",
       "    <tr>\n",
       "      <th>min</th>\n",
       "      <td>5.008827e+06</td>\n",
       "      <td>0.000000</td>\n",
       "      <td>3.375000e+04</td>\n",
       "      <td>-24946.000000</td>\n",
       "      <td>-14887.000000</td>\n",
       "      <td>1.0</td>\n",
       "      <td>0.000000</td>\n",
       "      <td>0.000000</td>\n",
       "      <td>0.000000</td>\n",
       "      <td>1.000000</td>\n",
       "      <td>0.000000</td>\n",
       "    </tr>\n",
       "    <tr>\n",
       "      <th>25%</th>\n",
       "      <td>5.045070e+06</td>\n",
       "      <td>0.000000</td>\n",
       "      <td>1.215000e+05</td>\n",
       "      <td>-19553.000000</td>\n",
       "      <td>-3174.500000</td>\n",
       "      <td>1.0</td>\n",
       "      <td>0.000000</td>\n",
       "      <td>0.000000</td>\n",
       "      <td>0.000000</td>\n",
       "      <td>2.000000</td>\n",
       "      <td>0.000000</td>\n",
       "    </tr>\n",
       "    <tr>\n",
       "      <th>50%</th>\n",
       "      <td>5.078842e+06</td>\n",
       "      <td>0.000000</td>\n",
       "      <td>1.665000e+05</td>\n",
       "      <td>-15661.500000</td>\n",
       "      <td>-1565.000000</td>\n",
       "      <td>1.0</td>\n",
       "      <td>0.000000</td>\n",
       "      <td>0.000000</td>\n",
       "      <td>0.000000</td>\n",
       "      <td>2.000000</td>\n",
       "      <td>0.000000</td>\n",
       "    </tr>\n",
       "    <tr>\n",
       "      <th>75%</th>\n",
       "      <td>5.115673e+06</td>\n",
       "      <td>1.000000</td>\n",
       "      <td>2.250000e+05</td>\n",
       "      <td>-12417.000000</td>\n",
       "      <td>-431.750000</td>\n",
       "      <td>1.0</td>\n",
       "      <td>0.000000</td>\n",
       "      <td>1.000000</td>\n",
       "      <td>0.000000</td>\n",
       "      <td>3.000000</td>\n",
       "      <td>0.000000</td>\n",
       "    </tr>\n",
       "    <tr>\n",
       "      <th>max</th>\n",
       "      <td>5.150412e+06</td>\n",
       "      <td>14.000000</td>\n",
       "      <td>1.575000e+06</td>\n",
       "      <td>-7705.000000</td>\n",
       "      <td>365243.000000</td>\n",
       "      <td>1.0</td>\n",
       "      <td>1.000000</td>\n",
       "      <td>1.000000</td>\n",
       "      <td>1.000000</td>\n",
       "      <td>15.000000</td>\n",
       "      <td>1.000000</td>\n",
       "    </tr>\n",
       "  </tbody>\n",
       "</table>\n",
       "</div>"
      ],
      "text/plain": [
       "             Ind_ID     CHILDREN  Annual_income  Birthday_count  \\\n",
       "count  1.548000e+03  1548.000000   1.525000e+03     1526.000000   \n",
       "mean   5.078920e+06     0.412791   1.913993e+05   -16040.342071   \n",
       "std    4.171759e+04     0.776691   1.132530e+05     4229.503202   \n",
       "min    5.008827e+06     0.000000   3.375000e+04   -24946.000000   \n",
       "25%    5.045070e+06     0.000000   1.215000e+05   -19553.000000   \n",
       "50%    5.078842e+06     0.000000   1.665000e+05   -15661.500000   \n",
       "75%    5.115673e+06     1.000000   2.250000e+05   -12417.000000   \n",
       "max    5.150412e+06    14.000000   1.575000e+06    -7705.000000   \n",
       "\n",
       "       Employed_days  Mobile_phone   Work_Phone        Phone     EMAIL_ID  \\\n",
       "count    1548.000000        1548.0  1548.000000  1548.000000  1548.000000   \n",
       "mean    59364.689922           1.0     0.208010     0.309432     0.092377   \n",
       "std    137808.062701           0.0     0.406015     0.462409     0.289651   \n",
       "min    -14887.000000           1.0     0.000000     0.000000     0.000000   \n",
       "25%     -3174.500000           1.0     0.000000     0.000000     0.000000   \n",
       "50%     -1565.000000           1.0     0.000000     0.000000     0.000000   \n",
       "75%      -431.750000           1.0     0.000000     1.000000     0.000000   \n",
       "max    365243.000000           1.0     1.000000     1.000000     1.000000   \n",
       "\n",
       "       Family_Members        label  \n",
       "count     1548.000000  1548.000000  \n",
       "mean         2.161499     0.113049  \n",
       "std          0.947772     0.316755  \n",
       "min          1.000000     0.000000  \n",
       "25%          2.000000     0.000000  \n",
       "50%          2.000000     0.000000  \n",
       "75%          3.000000     0.000000  \n",
       "max         15.000000     1.000000  "
      ]
     },
     "execution_count": 284,
     "metadata": {},
     "output_type": "execute_result"
    }
   ],
   "source": [
    "creditdata.describe()"
   ]
  },
  {
   "cell_type": "code",
   "execution_count": 285,
   "id": "b9384459",
   "metadata": {},
   "outputs": [
    {
     "name": "stdout",
     "output_type": "stream",
     "text": [
      "<class 'pandas.core.frame.DataFrame'>\n",
      "Int64Index: 1548 entries, 0 to 1547\n",
      "Data columns (total 19 columns):\n",
      " #   Column           Non-Null Count  Dtype  \n",
      "---  ------           --------------  -----  \n",
      " 0   Ind_ID           1548 non-null   int64  \n",
      " 1   GENDER           1541 non-null   object \n",
      " 2   Car_Owner        1548 non-null   object \n",
      " 3   Propert_Owner    1548 non-null   object \n",
      " 4   CHILDREN         1548 non-null   int64  \n",
      " 5   Annual_income    1525 non-null   float64\n",
      " 6   Type_Income      1548 non-null   object \n",
      " 7   EDUCATION        1548 non-null   object \n",
      " 8   Marital_status   1548 non-null   object \n",
      " 9   Housing_type     1548 non-null   object \n",
      " 10  Birthday_count   1526 non-null   float64\n",
      " 11  Employed_days    1548 non-null   int64  \n",
      " 12  Mobile_phone     1548 non-null   int64  \n",
      " 13  Work_Phone       1548 non-null   int64  \n",
      " 14  Phone            1548 non-null   int64  \n",
      " 15  EMAIL_ID         1548 non-null   int64  \n",
      " 16  Type_Occupation  1060 non-null   object \n",
      " 17  Family_Members   1548 non-null   int64  \n",
      " 18  label            1548 non-null   int64  \n",
      "dtypes: float64(2), int64(9), object(8)\n",
      "memory usage: 241.9+ KB\n"
     ]
    }
   ],
   "source": [
    "creditdata.info()"
   ]
  },
  {
   "cell_type": "markdown",
   "id": "b005cc60",
   "metadata": {},
   "source": [
    "### Missing values"
   ]
  },
  {
   "cell_type": "code",
   "execution_count": 286,
   "id": "04e21bec",
   "metadata": {
    "scrolled": true
   },
   "outputs": [
    {
     "data": {
      "text/plain": [
       "Ind_ID               0\n",
       "GENDER               7\n",
       "Car_Owner            0\n",
       "Propert_Owner        0\n",
       "CHILDREN             0\n",
       "Annual_income       23\n",
       "Type_Income          0\n",
       "EDUCATION            0\n",
       "Marital_status       0\n",
       "Housing_type         0\n",
       "Birthday_count      22\n",
       "Employed_days        0\n",
       "Mobile_phone         0\n",
       "Work_Phone           0\n",
       "Phone                0\n",
       "EMAIL_ID             0\n",
       "Type_Occupation    488\n",
       "Family_Members       0\n",
       "label                0\n",
       "dtype: int64"
      ]
     },
     "execution_count": 286,
     "metadata": {},
     "output_type": "execute_result"
    }
   ],
   "source": [
    "creditdata.isnull().sum()"
   ]
  },
  {
   "cell_type": "code",
   "execution_count": 287,
   "id": "8fa69156",
   "metadata": {
    "scrolled": true
   },
   "outputs": [
    {
     "data": {
      "text/plain": [
       "<AxesSubplot:>"
      ]
     },
     "execution_count": 287,
     "metadata": {},
     "output_type": "execute_result"
    },
    {
     "data": {
      "image/png": "[encoded data removed]",
      "text/plain": [
       "<Figure size 432x288 with 1 Axes>"
      ]
     },
     "metadata": {
      "needs_background": "light"
     },
     "output_type": "display_data"
    }
   ],
   "source": [
    "sns.heatmap(creditdata.isnull(),cbar = False,yticklabels = False)"
   ]
  },
  {
   "cell_type": "markdown",
   "id": "1240783e",
   "metadata": {},
   "source": [
    "From above heatmap it is to be noticed that number of missing values are more for 'Type_Occupation' feature."
   ]
  },
  {
   "cell_type": "markdown",
   "id": "0f4031ff",
   "metadata": {},
   "source": [
    "### Converting some Features to more appropiate value"
   ]
  },
  {
   "cell_type": "code",
   "execution_count": 288,
   "id": "22416416",
   "metadata": {},
   "outputs": [],
   "source": [
    "creditdata[\"Birthday_count\"] = round(creditdata[\"Birthday_count\"] * (-1) / 365,1)\n",
    "creditdata[\"Employed_days\"] = np.where(creditdata[\"Employed_days\"] < 0,round((creditdata[\"Employed_days\"]*-1)/365,1),np.where(creditdata[\"Employed_days\"] > 0,0,\"NaN\"))\n",
    "creditdata.rename(columns = {\"Employed_days\":\"Employed(in years)\",\"Birthday_count\":\"Age\",'Propert_Owner':\"Property_Owner\"},inplace = True)"
   ]
  },
  {
   "cell_type": "code",
   "execution_count": 289,
   "id": "c060f0f0",
   "metadata": {},
   "outputs": [],
   "source": [
    "creditdata1 = creditdata.copy()"
   ]
  },
  {
   "cell_type": "code",
   "execution_count": 290,
   "id": "3bae07c6",
   "metadata": {
    "scrolled": true
   },
   "outputs": [
    {
     "data": {
      "text/html": [
       "<div>\n",
       "<style scoped>\n",
       "    .dataframe tbody tr th:only-of-type {\n",
       "        vertical-align: middle;\n",
       "    }\n",
       "\n",
       "    .dataframe tbody tr th {\n",
       "        vertical-align: top;\n",
       "    }\n",
       "\n",
       "    .dataframe thead th {\n",
       "        text-align: right;\n",
       "    }\n",
       "</style>\n",
       "<table border=\"1\" class=\"dataframe\">\n",
       "  <thead>\n",
       "    <tr style=\"text-align: right;\">\n",
       "      <th></th>\n",
       "      <th>Ind_ID</th>\n",
       "      <th>GENDER</th>\n",
       "      <th>Car_Owner</th>\n",
       "      <th>Property_Owner</th>\n",
       "      <th>CHILDREN</th>\n",
       "      <th>Annual_income</th>\n",
       "      <th>Type_Income</th>\n",
       "      <th>EDUCATION</th>\n",
       "      <th>Marital_status</th>\n",
       "      <th>Housing_type</th>\n",
       "      <th>Age</th>\n",
       "      <th>Employed(in years)</th>\n",
       "      <th>Mobile_phone</th>\n",
       "      <th>Work_Phone</th>\n",
       "      <th>Phone</th>\n",
       "      <th>EMAIL_ID</th>\n",
       "      <th>Type_Occupation</th>\n",
       "      <th>Family_Members</th>\n",
       "      <th>label</th>\n",
       "    </tr>\n",
       "  </thead>\n",
       "  <tbody>\n",
       "    <tr>\n",
       "      <th>0</th>\n",
       "      <td>5008827</td>\n",
       "      <td>M</td>\n",
       "      <td>Y</td>\n",
       "      <td>Y</td>\n",
       "      <td>0</td>\n",
       "      <td>180000.0</td>\n",
       "      <td>Pensioner</td>\n",
       "      <td>Higher education</td>\n",
       "      <td>Married</td>\n",
       "      <td>House / apartment</td>\n",
       "      <td>51.4</td>\n",
       "      <td>0</td>\n",
       "      <td>1</td>\n",
       "      <td>0</td>\n",
       "      <td>0</td>\n",
       "      <td>0</td>\n",
       "      <td>NaN</td>\n",
       "      <td>2</td>\n",
       "      <td>1</td>\n",
       "    </tr>\n",
       "    <tr>\n",
       "      <th>1</th>\n",
       "      <td>5009744</td>\n",
       "      <td>F</td>\n",
       "      <td>Y</td>\n",
       "      <td>N</td>\n",
       "      <td>0</td>\n",
       "      <td>315000.0</td>\n",
       "      <td>Commercial associate</td>\n",
       "      <td>Higher education</td>\n",
       "      <td>Married</td>\n",
       "      <td>House / apartment</td>\n",
       "      <td>37.1</td>\n",
       "      <td>1.6</td>\n",
       "      <td>1</td>\n",
       "      <td>1</td>\n",
       "      <td>1</td>\n",
       "      <td>0</td>\n",
       "      <td>NaN</td>\n",
       "      <td>2</td>\n",
       "      <td>1</td>\n",
       "    </tr>\n",
       "    <tr>\n",
       "      <th>2</th>\n",
       "      <td>5009746</td>\n",
       "      <td>F</td>\n",
       "      <td>Y</td>\n",
       "      <td>N</td>\n",
       "      <td>0</td>\n",
       "      <td>315000.0</td>\n",
       "      <td>Commercial associate</td>\n",
       "      <td>Higher education</td>\n",
       "      <td>Married</td>\n",
       "      <td>House / apartment</td>\n",
       "      <td>NaN</td>\n",
       "      <td>1.6</td>\n",
       "      <td>1</td>\n",
       "      <td>1</td>\n",
       "      <td>1</td>\n",
       "      <td>0</td>\n",
       "      <td>NaN</td>\n",
       "      <td>2</td>\n",
       "      <td>1</td>\n",
       "    </tr>\n",
       "    <tr>\n",
       "      <th>3</th>\n",
       "      <td>5009749</td>\n",
       "      <td>F</td>\n",
       "      <td>Y</td>\n",
       "      <td>N</td>\n",
       "      <td>0</td>\n",
       "      <td>NaN</td>\n",
       "      <td>Commercial associate</td>\n",
       "      <td>Higher education</td>\n",
       "      <td>Married</td>\n",
       "      <td>House / apartment</td>\n",
       "      <td>37.1</td>\n",
       "      <td>1.6</td>\n",
       "      <td>1</td>\n",
       "      <td>1</td>\n",
       "      <td>1</td>\n",
       "      <td>0</td>\n",
       "      <td>NaN</td>\n",
       "      <td>2</td>\n",
       "      <td>1</td>\n",
       "    </tr>\n",
       "    <tr>\n",
       "      <th>4</th>\n",
       "      <td>5009752</td>\n",
       "      <td>F</td>\n",
       "      <td>Y</td>\n",
       "      <td>N</td>\n",
       "      <td>0</td>\n",
       "      <td>315000.0</td>\n",
       "      <td>Commercial associate</td>\n",
       "      <td>Higher education</td>\n",
       "      <td>Married</td>\n",
       "      <td>House / apartment</td>\n",
       "      <td>37.1</td>\n",
       "      <td>1.6</td>\n",
       "      <td>1</td>\n",
       "      <td>1</td>\n",
       "      <td>1</td>\n",
       "      <td>0</td>\n",
       "      <td>NaN</td>\n",
       "      <td>2</td>\n",
       "      <td>1</td>\n",
       "    </tr>\n",
       "    <tr>\n",
       "      <th>5</th>\n",
       "      <td>5009753</td>\n",
       "      <td>NaN</td>\n",
       "      <td>Y</td>\n",
       "      <td>N</td>\n",
       "      <td>0</td>\n",
       "      <td>315000.0</td>\n",
       "      <td>Pensioner</td>\n",
       "      <td>Higher education</td>\n",
       "      <td>Married</td>\n",
       "      <td>House / apartment</td>\n",
       "      <td>37.1</td>\n",
       "      <td>1.6</td>\n",
       "      <td>1</td>\n",
       "      <td>1</td>\n",
       "      <td>1</td>\n",
       "      <td>0</td>\n",
       "      <td>NaN</td>\n",
       "      <td>2</td>\n",
       "      <td>1</td>\n",
       "    </tr>\n",
       "    <tr>\n",
       "      <th>6</th>\n",
       "      <td>5009754</td>\n",
       "      <td>F</td>\n",
       "      <td>Y</td>\n",
       "      <td>N</td>\n",
       "      <td>0</td>\n",
       "      <td>315000.0</td>\n",
       "      <td>Commercial associate</td>\n",
       "      <td>Higher education</td>\n",
       "      <td>Married</td>\n",
       "      <td>House / apartment</td>\n",
       "      <td>37.1</td>\n",
       "      <td>1.6</td>\n",
       "      <td>1</td>\n",
       "      <td>1</td>\n",
       "      <td>1</td>\n",
       "      <td>0</td>\n",
       "      <td>NaN</td>\n",
       "      <td>2</td>\n",
       "      <td>1</td>\n",
       "    </tr>\n",
       "    <tr>\n",
       "      <th>7</th>\n",
       "      <td>5009894</td>\n",
       "      <td>F</td>\n",
       "      <td>N</td>\n",
       "      <td>N</td>\n",
       "      <td>0</td>\n",
       "      <td>180000.0</td>\n",
       "      <td>Pensioner</td>\n",
       "      <td>Secondary / secondary special</td>\n",
       "      <td>Married</td>\n",
       "      <td>House / apartment</td>\n",
       "      <td>60.6</td>\n",
       "      <td>0</td>\n",
       "      <td>1</td>\n",
       "      <td>0</td>\n",
       "      <td>0</td>\n",
       "      <td>0</td>\n",
       "      <td>NaN</td>\n",
       "      <td>2</td>\n",
       "      <td>1</td>\n",
       "    </tr>\n",
       "    <tr>\n",
       "      <th>8</th>\n",
       "      <td>5010864</td>\n",
       "      <td>M</td>\n",
       "      <td>Y</td>\n",
       "      <td>Y</td>\n",
       "      <td>1</td>\n",
       "      <td>450000.0</td>\n",
       "      <td>Commercial associate</td>\n",
       "      <td>Secondary / secondary special</td>\n",
       "      <td>Married</td>\n",
       "      <td>House / apartment</td>\n",
       "      <td>49.8</td>\n",
       "      <td>1.9</td>\n",
       "      <td>1</td>\n",
       "      <td>0</td>\n",
       "      <td>1</td>\n",
       "      <td>1</td>\n",
       "      <td>Core staff</td>\n",
       "      <td>3</td>\n",
       "      <td>1</td>\n",
       "    </tr>\n",
       "    <tr>\n",
       "      <th>9</th>\n",
       "      <td>5010868</td>\n",
       "      <td>M</td>\n",
       "      <td>Y</td>\n",
       "      <td>Y</td>\n",
       "      <td>1</td>\n",
       "      <td>450000.0</td>\n",
       "      <td>Pensioner</td>\n",
       "      <td>Secondary / secondary special</td>\n",
       "      <td>Married</td>\n",
       "      <td>House / apartment</td>\n",
       "      <td>49.8</td>\n",
       "      <td>1.9</td>\n",
       "      <td>1</td>\n",
       "      <td>0</td>\n",
       "      <td>1</td>\n",
       "      <td>1</td>\n",
       "      <td>Core staff</td>\n",
       "      <td>3</td>\n",
       "      <td>1</td>\n",
       "    </tr>\n",
       "  </tbody>\n",
       "</table>\n",
       "</div>"
      ],
      "text/plain": [
       "    Ind_ID GENDER Car_Owner Property_Owner  CHILDREN  Annual_income  \\\n",
       "0  5008827      M         Y              Y         0       180000.0   \n",
       "1  5009744      F         Y              N         0       315000.0   \n",
       "2  5009746      F         Y              N         0       315000.0   \n",
       "3  5009749      F         Y              N         0            NaN   \n",
       "4  5009752      F         Y              N         0       315000.0   \n",
       "5  5009753    NaN         Y              N         0       315000.0   \n",
       "6  5009754      F         Y              N         0       315000.0   \n",
       "7  5009894      F         N              N         0       180000.0   \n",
       "8  5010864      M         Y              Y         1       450000.0   \n",
       "9  5010868      M         Y              Y         1       450000.0   \n",
       "\n",
       "            Type_Income                      EDUCATION Marital_status  \\\n",
       "0             Pensioner               Higher education        Married   \n",
       "1  Commercial associate               Higher education        Married   \n",
       "2  Commercial associate               Higher education        Married   \n",
       "3  Commercial associate               Higher education        Married   \n",
       "4  Commercial associate               Higher education        Married   \n",
       "5             Pensioner               Higher education        Married   \n",
       "6  Commercial associate               Higher education        Married   \n",
       "7             Pensioner  Secondary / secondary special        Married   \n",
       "8  Commercial associate  Secondary / secondary special        Married   \n",
       "9             Pensioner  Secondary / secondary special        Married   \n",
       "\n",
       "        Housing_type   Age Employed(in years)  Mobile_phone  Work_Phone  \\\n",
       "0  House / apartment  51.4                  0             1           0   \n",
       "1  House / apartment  37.1                1.6             1           1   \n",
       "2  House / apartment   NaN                1.6             1           1   \n",
       "3  House / apartment  37.1                1.6             1           1   \n",
       "4  House / apartment  37.1                1.6             1           1   \n",
       "5  House / apartment  37.1                1.6             1           1   \n",
       "6  House / apartment  37.1                1.6             1           1   \n",
       "7  House / apartment  60.6                  0             1           0   \n",
       "8  House / apartment  49.8                1.9             1           0   \n",
       "9  House / apartment  49.8                1.9             1           0   \n",
       "\n",
       "   Phone  EMAIL_ID Type_Occupation  Family_Members  label  \n",
       "0      0         0             NaN               2      1  \n",
       "1      1         0             NaN               2      1  \n",
       "2      1         0             NaN               2      1  \n",
       "3      1         0             NaN               2      1  \n",
       "4      1         0             NaN               2      1  \n",
       "5      1         0             NaN               2      1  \n",
       "6      1         0             NaN               2      1  \n",
       "7      0         0             NaN               2      1  \n",
       "8      1         1      Core staff               3      1  \n",
       "9      1         1      Core staff               3      1  "
      ]
     },
     "execution_count": 290,
     "metadata": {},
     "output_type": "execute_result"
    }
   ],
   "source": [
    "creditdata1.head(10)"
   ]
  },
  {
   "cell_type": "code",
   "execution_count": null,
   "id": "508110c0",
   "metadata": {},
   "outputs": [],
   "source": []
  },
  {
   "cell_type": "markdown",
   "id": "6a43e212",
   "metadata": {},
   "source": [
    "### Outlier Detection"
   ]
  },
  {
   "cell_type": "code",
   "execution_count": 291,
   "id": "bcc8dedf",
   "metadata": {},
   "outputs": [
    {
     "data": {
      "text/html": [
       "<div>\n",
       "<style scoped>\n",
       "    .dataframe tbody tr th:only-of-type {\n",
       "        vertical-align: middle;\n",
       "    }\n",
       "\n",
       "    .dataframe tbody tr th {\n",
       "        vertical-align: top;\n",
       "    }\n",
       "\n",
       "    .dataframe thead th {\n",
       "        text-align: right;\n",
       "    }\n",
       "</style>\n",
       "<table border=\"1\" class=\"dataframe\">\n",
       "  <thead>\n",
       "    <tr style=\"text-align: right;\">\n",
       "      <th></th>\n",
       "      <th>Ind_ID</th>\n",
       "      <th>CHILDREN</th>\n",
       "      <th>Annual_income</th>\n",
       "      <th>Age</th>\n",
       "      <th>Mobile_phone</th>\n",
       "      <th>Work_Phone</th>\n",
       "      <th>Phone</th>\n",
       "      <th>EMAIL_ID</th>\n",
       "      <th>Family_Members</th>\n",
       "      <th>label</th>\n",
       "    </tr>\n",
       "  </thead>\n",
       "  <tbody>\n",
       "    <tr>\n",
       "      <th>count</th>\n",
       "      <td>1.548000e+03</td>\n",
       "      <td>1548.000000</td>\n",
       "      <td>1.525000e+03</td>\n",
       "      <td>1526.000000</td>\n",
       "      <td>1548.0</td>\n",
       "      <td>1548.000000</td>\n",
       "      <td>1548.000000</td>\n",
       "      <td>1548.000000</td>\n",
       "      <td>1548.000000</td>\n",
       "      <td>1548.000000</td>\n",
       "    </tr>\n",
       "    <tr>\n",
       "      <th>mean</th>\n",
       "      <td>5.078920e+06</td>\n",
       "      <td>0.412791</td>\n",
       "      <td>1.913993e+05</td>\n",
       "      <td>43.947706</td>\n",
       "      <td>1.0</td>\n",
       "      <td>0.208010</td>\n",
       "      <td>0.309432</td>\n",
       "      <td>0.092377</td>\n",
       "      <td>2.161499</td>\n",
       "      <td>0.113049</td>\n",
       "    </tr>\n",
       "    <tr>\n",
       "      <th>std</th>\n",
       "      <td>4.171759e+04</td>\n",
       "      <td>0.776691</td>\n",
       "      <td>1.132530e+05</td>\n",
       "      <td>11.587893</td>\n",
       "      <td>0.0</td>\n",
       "      <td>0.406015</td>\n",
       "      <td>0.462409</td>\n",
       "      <td>0.289651</td>\n",
       "      <td>0.947772</td>\n",
       "      <td>0.316755</td>\n",
       "    </tr>\n",
       "    <tr>\n",
       "      <th>min</th>\n",
       "      <td>5.008827e+06</td>\n",
       "      <td>0.000000</td>\n",
       "      <td>3.375000e+04</td>\n",
       "      <td>21.100000</td>\n",
       "      <td>1.0</td>\n",
       "      <td>0.000000</td>\n",
       "      <td>0.000000</td>\n",
       "      <td>0.000000</td>\n",
       "      <td>1.000000</td>\n",
       "      <td>0.000000</td>\n",
       "    </tr>\n",
       "    <tr>\n",
       "      <th>25%</th>\n",
       "      <td>5.045070e+06</td>\n",
       "      <td>0.000000</td>\n",
       "      <td>1.215000e+05</td>\n",
       "      <td>34.000000</td>\n",
       "      <td>1.0</td>\n",
       "      <td>0.000000</td>\n",
       "      <td>0.000000</td>\n",
       "      <td>0.000000</td>\n",
       "      <td>2.000000</td>\n",
       "      <td>0.000000</td>\n",
       "    </tr>\n",
       "    <tr>\n",
       "      <th>50%</th>\n",
       "      <td>5.078842e+06</td>\n",
       "      <td>0.000000</td>\n",
       "      <td>1.665000e+05</td>\n",
       "      <td>42.900000</td>\n",
       "      <td>1.0</td>\n",
       "      <td>0.000000</td>\n",
       "      <td>0.000000</td>\n",
       "      <td>0.000000</td>\n",
       "      <td>2.000000</td>\n",
       "      <td>0.000000</td>\n",
       "    </tr>\n",
       "    <tr>\n",
       "      <th>75%</th>\n",
       "      <td>5.115673e+06</td>\n",
       "      <td>1.000000</td>\n",
       "      <td>2.250000e+05</td>\n",
       "      <td>53.575000</td>\n",
       "      <td>1.0</td>\n",
       "      <td>0.000000</td>\n",
       "      <td>1.000000</td>\n",
       "      <td>0.000000</td>\n",
       "      <td>3.000000</td>\n",
       "      <td>0.000000</td>\n",
       "    </tr>\n",
       "    <tr>\n",
       "      <th>max</th>\n",
       "      <td>5.150412e+06</td>\n",
       "      <td>14.000000</td>\n",
       "      <td>1.575000e+06</td>\n",
       "      <td>68.300000</td>\n",
       "      <td>1.0</td>\n",
       "      <td>1.000000</td>\n",
       "      <td>1.000000</td>\n",
       "      <td>1.000000</td>\n",
       "      <td>15.000000</td>\n",
       "      <td>1.000000</td>\n",
       "    </tr>\n",
       "  </tbody>\n",
       "</table>\n",
       "</div>"
      ],
      "text/plain": [
       "             Ind_ID     CHILDREN  Annual_income          Age  Mobile_phone  \\\n",
       "count  1.548000e+03  1548.000000   1.525000e+03  1526.000000        1548.0   \n",
       "mean   5.078920e+06     0.412791   1.913993e+05    43.947706           1.0   \n",
       "std    4.171759e+04     0.776691   1.132530e+05    11.587893           0.0   \n",
       "min    5.008827e+06     0.000000   3.375000e+04    21.100000           1.0   \n",
       "25%    5.045070e+06     0.000000   1.215000e+05    34.000000           1.0   \n",
       "50%    5.078842e+06     0.000000   1.665000e+05    42.900000           1.0   \n",
       "75%    5.115673e+06     1.000000   2.250000e+05    53.575000           1.0   \n",
       "max    5.150412e+06    14.000000   1.575000e+06    68.300000           1.0   \n",
       "\n",
       "        Work_Phone        Phone     EMAIL_ID  Family_Members        label  \n",
       "count  1548.000000  1548.000000  1548.000000     1548.000000  1548.000000  \n",
       "mean      0.208010     0.309432     0.092377        2.161499     0.113049  \n",
       "std       0.406015     0.462409     0.289651        0.947772     0.316755  \n",
       "min       0.000000     0.000000     0.000000        1.000000     0.000000  \n",
       "25%       0.000000     0.000000     0.000000        2.000000     0.000000  \n",
       "50%       0.000000     0.000000     0.000000        2.000000     0.000000  \n",
       "75%       0.000000     1.000000     0.000000        3.000000     0.000000  \n",
       "max       1.000000     1.000000     1.000000       15.000000     1.000000  "
      ]
     },
     "execution_count": 291,
     "metadata": {},
     "output_type": "execute_result"
    }
   ],
   "source": [
    "creditdata1.describe()"
   ]
  },
  {
   "cell_type": "code",
   "execution_count": 292,
   "id": "d6ed6094",
   "metadata": {},
   "outputs": [
    {
     "data": {
      "image/png": "[encoded data removed]",
      "text/plain": [
       "<Figure size 432x288 with 1 Axes>"
      ]
     },
     "metadata": {
      "needs_background": "light"
     },
     "output_type": "display_data"
    },
    {
     "data": {
      "image/png": "[encoded data removed]",
      "text/plain": [
       "<Figure size 432x288 with 1 Axes>"
      ]
     },
     "metadata": {
      "needs_background": "light"
     },
     "output_type": "display_data"
    },
    {
     "data": {
      "image/png": "[encoded data removed]",
      "text/plain": [
       "<Figure size 432x288 with 1 Axes>"
      ]
     },
     "metadata": {
      "needs_background": "light"
     },
     "output_type": "display_data"
    },
    {
     "data": {
      "image/png": "[encoded data removed]",
      "text/plain": [
       "<Figure size 432x288 with 1 Axes>"
      ]
     },
     "metadata": {
      "needs_background": "light"
     },
     "output_type": "display_data"
    },
    {
     "data": {
      "image/png": "[encoded data removed]",
      "text/plain": [
       "<Figure size 432x288 with 1 Axes>"
      ]
     },
     "metadata": {
      "needs_background": "light"
     },
     "output_type": "display_data"
    },
    {
     "data": {
      "image/png": "[encoded data removed]",
      "text/plain": [
       "<Figure size 432x288 with 1 Axes>"
      ]
     },
     "metadata": {
      "needs_background": "light"
     },
     "output_type": "display_data"
    },
    {
     "data": {
      "image/png": "[encoded data removed]",
      "text/plain": [
       "<Figure size 432x288 with 1 Axes>"
      ]
     },
     "metadata": {
      "needs_background": "light"
     },
     "output_type": "display_data"
    },
    {
     "data": {
      "image/png": "[encoded data removed]",
      "text/plain": [
       "<Figure size 432x288 with 1 Axes>"
      ]
     },
     "metadata": {
      "needs_background": "light"
     },
     "output_type": "display_data"
    },
    {
     "data": {
      "image/png": "[encoded data removed]",
      "text/plain": [
       "<Figure size 432x288 with 1 Axes>"
      ]
     },
     "metadata": {
      "needs_background": "light"
     },
     "output_type": "display_data"
    },
    {
     "data": {
      "image/png": "[encoded data removed]",
      "text/plain": [
       "<Figure size 432x288 with 1 Axes>"
      ]
     },
     "metadata": {
      "needs_background": "light"
     },
     "output_type": "display_data"
    }
   ],
   "source": [
    "for i in creditdata1.select_dtypes(np.number).columns:\n",
    "    plt.figure()\n",
    "    sns.boxplot( y = i,data = creditdata1)"
   ]
  },
  {
   "cell_type": "markdown",
   "id": "18a21e2b",
   "metadata": {},
   "source": [
    "***We determined from the preceding that certain features has missing data and others have outliers, which will be addressed in the following stage.***"
   ]
  },
  {
   "cell_type": "code",
   "execution_count": null,
   "id": "df2209a7",
   "metadata": {},
   "outputs": [],
   "source": []
  },
  {
   "cell_type": "markdown",
   "id": "e7878117",
   "metadata": {},
   "source": [
    "## 2.Data Cleaning"
   ]
  },
  {
   "cell_type": "markdown",
   "id": "5acd35fa",
   "metadata": {
    "scrolled": true
   },
   "source": [
    "Here, a special function is being defined which will clean outliers in required feature."
   ]
  },
  {
   "cell_type": "code",
   "execution_count": 293,
   "id": "a05593ff",
   "metadata": {},
   "outputs": [],
   "source": [
    "def outlier_removal(column):\n",
    "    Q1=creditdata1[column].quantile(0.25)\n",
    "    Q3=creditdata1[column].quantile(0.75)\n",
    "    IQR= Q3-Q1\n",
    "    global UB,LB\n",
    "    UB=Q3+1.5*IQR\n",
    "    LB=Q1-1.5*IQR\n",
    "    print(f\"For {column} column the IQR value is:{IQR} \")\n",
    "    print(f\"For {column} column the UB  value is:{UB} \")\n",
    "    print(f\"For {column} column the LB  value is:{LB} \")\n",
    "    creditdata1[column] =np.where(creditdata1[column]>UB,UB,np.where(creditdata1[column]<LB,LB,creditdata1[column]))"
   ]
  },
  {
   "cell_type": "code",
   "execution_count": 294,
   "id": "79a60e8b",
   "metadata": {},
   "outputs": [
    {
     "name": "stdout",
     "output_type": "stream",
     "text": [
      "For CHILDREN column the IQR value is:1.0 \n",
      "For CHILDREN column the UB  value is:2.5 \n",
      "For CHILDREN column the LB  value is:-1.5 \n"
     ]
    }
   ],
   "source": [
    "outlier_removal('CHILDREN')"
   ]
  },
  {
   "cell_type": "code",
   "execution_count": 428,
   "id": "4df3a208",
   "metadata": {},
   "outputs": [],
   "source": [
    "creditdata1.dropna(inplace = True)"
   ]
  },
  {
   "cell_type": "code",
   "execution_count": 429,
   "id": "e4faf73d",
   "metadata": {},
   "outputs": [
    {
     "data": {
      "text/plain": [
       "index                 0\n",
       "Ind_ID                0\n",
       "GENDER                0\n",
       "Car_Owner             0\n",
       "Property_Owner        0\n",
       "CHILDREN              0\n",
       "Annual_income         0\n",
       "Type_Income           0\n",
       "EDUCATION             0\n",
       "Marital_status        0\n",
       "Housing_type          0\n",
       "Age                   0\n",
       "Employed(in years)    0\n",
       "Mobile_phone          0\n",
       "Work_Phone            0\n",
       "Phone                 0\n",
       "EMAIL_ID              0\n",
       "Type_Occupation       0\n",
       "Family_Members        0\n",
       "label                 0\n",
       "dtype: int64"
      ]
     },
     "execution_count": 429,
     "metadata": {},
     "output_type": "execute_result"
    }
   ],
   "source": [
    "creditdata1.isnull().sum()"
   ]
  },
  {
   "cell_type": "code",
   "execution_count": 297,
   "id": "154005ac",
   "metadata": {},
   "outputs": [
    {
     "data": {
      "text/html": [
       "<div>\n",
       "<style scoped>\n",
       "    .dataframe tbody tr th:only-of-type {\n",
       "        vertical-align: middle;\n",
       "    }\n",
       "\n",
       "    .dataframe tbody tr th {\n",
       "        vertical-align: top;\n",
       "    }\n",
       "\n",
       "    .dataframe thead th {\n",
       "        text-align: right;\n",
       "    }\n",
       "</style>\n",
       "<table border=\"1\" class=\"dataframe\">\n",
       "  <thead>\n",
       "    <tr style=\"text-align: right;\">\n",
       "      <th></th>\n",
       "      <th>Ind_ID</th>\n",
       "      <th>GENDER</th>\n",
       "      <th>Car_Owner</th>\n",
       "      <th>Property_Owner</th>\n",
       "      <th>CHILDREN</th>\n",
       "      <th>Annual_income</th>\n",
       "      <th>Type_Income</th>\n",
       "      <th>EDUCATION</th>\n",
       "      <th>Marital_status</th>\n",
       "      <th>Housing_type</th>\n",
       "      <th>Age</th>\n",
       "      <th>Employed(in years)</th>\n",
       "      <th>Mobile_phone</th>\n",
       "      <th>Work_Phone</th>\n",
       "      <th>Phone</th>\n",
       "      <th>EMAIL_ID</th>\n",
       "      <th>Type_Occupation</th>\n",
       "      <th>Family_Members</th>\n",
       "      <th>label</th>\n",
       "    </tr>\n",
       "  </thead>\n",
       "  <tbody>\n",
       "    <tr>\n",
       "      <th>8</th>\n",
       "      <td>5010864</td>\n",
       "      <td>M</td>\n",
       "      <td>Y</td>\n",
       "      <td>Y</td>\n",
       "      <td>1.0</td>\n",
       "      <td>450000.0</td>\n",
       "      <td>Commercial associate</td>\n",
       "      <td>Secondary / secondary special</td>\n",
       "      <td>Married</td>\n",
       "      <td>House / apartment</td>\n",
       "      <td>49.8</td>\n",
       "      <td>1.9</td>\n",
       "      <td>1</td>\n",
       "      <td>0</td>\n",
       "      <td>1</td>\n",
       "      <td>1</td>\n",
       "      <td>Core staff</td>\n",
       "      <td>3</td>\n",
       "      <td>1</td>\n",
       "    </tr>\n",
       "    <tr>\n",
       "      <th>9</th>\n",
       "      <td>5010868</td>\n",
       "      <td>M</td>\n",
       "      <td>Y</td>\n",
       "      <td>Y</td>\n",
       "      <td>1.0</td>\n",
       "      <td>450000.0</td>\n",
       "      <td>Pensioner</td>\n",
       "      <td>Secondary / secondary special</td>\n",
       "      <td>Married</td>\n",
       "      <td>House / apartment</td>\n",
       "      <td>49.8</td>\n",
       "      <td>1.9</td>\n",
       "      <td>1</td>\n",
       "      <td>0</td>\n",
       "      <td>1</td>\n",
       "      <td>1</td>\n",
       "      <td>Core staff</td>\n",
       "      <td>3</td>\n",
       "      <td>1</td>\n",
       "    </tr>\n",
       "    <tr>\n",
       "      <th>10</th>\n",
       "      <td>5010869</td>\n",
       "      <td>M</td>\n",
       "      <td>Y</td>\n",
       "      <td>Y</td>\n",
       "      <td>1.0</td>\n",
       "      <td>450000.0</td>\n",
       "      <td>Commercial associate</td>\n",
       "      <td>Secondary / secondary special</td>\n",
       "      <td>Single / not married</td>\n",
       "      <td>House / apartment</td>\n",
       "      <td>49.8</td>\n",
       "      <td>1.9</td>\n",
       "      <td>1</td>\n",
       "      <td>0</td>\n",
       "      <td>1</td>\n",
       "      <td>1</td>\n",
       "      <td>Core staff</td>\n",
       "      <td>1</td>\n",
       "      <td>1</td>\n",
       "    </tr>\n",
       "    <tr>\n",
       "      <th>11</th>\n",
       "      <td>5018498</td>\n",
       "      <td>F</td>\n",
       "      <td>Y</td>\n",
       "      <td>Y</td>\n",
       "      <td>0.0</td>\n",
       "      <td>90000.0</td>\n",
       "      <td>Working</td>\n",
       "      <td>Secondary / secondary special</td>\n",
       "      <td>Married</td>\n",
       "      <td>House / apartment</td>\n",
       "      <td>51.9</td>\n",
       "      <td>2.7</td>\n",
       "      <td>1</td>\n",
       "      <td>1</td>\n",
       "      <td>1</td>\n",
       "      <td>0</td>\n",
       "      <td>Cooking staff</td>\n",
       "      <td>2</td>\n",
       "      <td>1</td>\n",
       "    </tr>\n",
       "    <tr>\n",
       "      <th>13</th>\n",
       "      <td>5018503</td>\n",
       "      <td>F</td>\n",
       "      <td>Y</td>\n",
       "      <td>Y</td>\n",
       "      <td>0.0</td>\n",
       "      <td>90000.0</td>\n",
       "      <td>Working</td>\n",
       "      <td>Secondary / secondary special</td>\n",
       "      <td>Married</td>\n",
       "      <td>House / apartment</td>\n",
       "      <td>51.9</td>\n",
       "      <td>2.7</td>\n",
       "      <td>1</td>\n",
       "      <td>1</td>\n",
       "      <td>1</td>\n",
       "      <td>0</td>\n",
       "      <td>Cooking staff</td>\n",
       "      <td>2</td>\n",
       "      <td>1</td>\n",
       "    </tr>\n",
       "  </tbody>\n",
       "</table>\n",
       "</div>"
      ],
      "text/plain": [
       "     Ind_ID GENDER Car_Owner Property_Owner  CHILDREN  Annual_income  \\\n",
       "8   5010864      M         Y              Y       1.0       450000.0   \n",
       "9   5010868      M         Y              Y       1.0       450000.0   \n",
       "10  5010869      M         Y              Y       1.0       450000.0   \n",
       "11  5018498      F         Y              Y       0.0        90000.0   \n",
       "13  5018503      F         Y              Y       0.0        90000.0   \n",
       "\n",
       "             Type_Income                      EDUCATION        Marital_status  \\\n",
       "8   Commercial associate  Secondary / secondary special               Married   \n",
       "9              Pensioner  Secondary / secondary special               Married   \n",
       "10  Commercial associate  Secondary / secondary special  Single / not married   \n",
       "11               Working  Secondary / secondary special               Married   \n",
       "13               Working  Secondary / secondary special               Married   \n",
       "\n",
       "         Housing_type   Age Employed(in years)  Mobile_phone  Work_Phone  \\\n",
       "8   House / apartment  49.8                1.9             1           0   \n",
       "9   House / apartment  49.8                1.9             1           0   \n",
       "10  House / apartment  49.8                1.9             1           0   \n",
       "11  House / apartment  51.9                2.7             1           1   \n",
       "13  House / apartment  51.9                2.7             1           1   \n",
       "\n",
       "    Phone  EMAIL_ID Type_Occupation  Family_Members  label  \n",
       "8       1         1      Core staff               3      1  \n",
       "9       1         1      Core staff               3      1  \n",
       "10      1         1      Core staff               1      1  \n",
       "11      1         0   Cooking staff               2      1  \n",
       "13      1         0   Cooking staff               2      1  "
      ]
     },
     "execution_count": 297,
     "metadata": {},
     "output_type": "execute_result"
    }
   ],
   "source": [
    "creditdata1.head()"
   ]
  },
  {
   "cell_type": "markdown",
   "id": "2b08ac10",
   "metadata": {},
   "source": [
    "Changing the datatype of features"
   ]
  },
  {
   "cell_type": "code",
   "execution_count": 298,
   "id": "681442ef",
   "metadata": {},
   "outputs": [],
   "source": [
    "creditdata1 = creditdata1.astype({\"CHILDREN\":\"int\",\"Age\":\"float\",\"Annual_income\":\"int\",'Employed(in years)':\"float\",'Family_Members':'int'})"
   ]
  },
  {
   "cell_type": "code",
   "execution_count": 299,
   "id": "a7bc3299",
   "metadata": {},
   "outputs": [
    {
     "name": "stdout",
     "output_type": "stream",
     "text": [
      "<class 'pandas.core.frame.DataFrame'>\n",
      "Int64Index: 1025 entries, 8 to 1546\n",
      "Data columns (total 19 columns):\n",
      " #   Column              Non-Null Count  Dtype  \n",
      "---  ------              --------------  -----  \n",
      " 0   Ind_ID              1025 non-null   int64  \n",
      " 1   GENDER              1025 non-null   object \n",
      " 2   Car_Owner           1025 non-null   object \n",
      " 3   Property_Owner      1025 non-null   object \n",
      " 4   CHILDREN            1025 non-null   int32  \n",
      " 5   Annual_income       1025 non-null   int32  \n",
      " 6   Type_Income         1025 non-null   object \n",
      " 7   EDUCATION           1025 non-null   object \n",
      " 8   Marital_status      1025 non-null   object \n",
      " 9   Housing_type        1025 non-null   object \n",
      " 10  Age                 1025 non-null   float64\n",
      " 11  Employed(in years)  1025 non-null   float64\n",
      " 12  Mobile_phone        1025 non-null   int64  \n",
      " 13  Work_Phone          1025 non-null   int64  \n",
      " 14  Phone               1025 non-null   int64  \n",
      " 15  EMAIL_ID            1025 non-null   int64  \n",
      " 16  Type_Occupation     1025 non-null   object \n",
      " 17  Family_Members      1025 non-null   int32  \n",
      " 18  label               1025 non-null   int64  \n",
      "dtypes: float64(2), int32(3), int64(6), object(8)\n",
      "memory usage: 148.1+ KB\n"
     ]
    }
   ],
   "source": [
    "creditdata1.info()"
   ]
  },
  {
   "cell_type": "code",
   "execution_count": 300,
   "id": "62c4eacd",
   "metadata": {},
   "outputs": [
    {
     "name": "stdout",
     "output_type": "stream",
     "text": [
      "For Employed(in years) column the IQR value is:7.3 \n",
      "For Employed(in years) column the UB  value is:20.95 \n",
      "For Employed(in years) column the LB  value is:-8.25 \n"
     ]
    }
   ],
   "source": [
    "outlier_removal('Employed(in years)')"
   ]
  },
  {
   "cell_type": "code",
   "execution_count": 301,
   "id": "71cf8604",
   "metadata": {},
   "outputs": [
    {
     "name": "stdout",
     "output_type": "stream",
     "text": [
      "For Family_Members column the IQR value is:1.0 \n",
      "For Family_Members column the UB  value is:4.5 \n",
      "For Family_Members column the LB  value is:0.5 \n"
     ]
    }
   ],
   "source": [
    "outlier_removal('Family_Members')\n"
   ]
  },
  {
   "cell_type": "code",
   "execution_count": 302,
   "id": "f55f217d",
   "metadata": {},
   "outputs": [
    {
     "name": "stdout",
     "output_type": "stream",
     "text": [
      "For Annual_income column the IQR value is:99000.0 \n",
      "For Annual_income column the UB  value is:382500.0 \n",
      "For Annual_income column the LB  value is:-13500.0 \n"
     ]
    }
   ],
   "source": [
    "outlier_removal('Annual_income')"
   ]
  },
  {
   "cell_type": "code",
   "execution_count": 303,
   "id": "9d17da94",
   "metadata": {
    "scrolled": true
   },
   "outputs": [
    {
     "data": {
      "text/html": [
       "<div>\n",
       "<style scoped>\n",
       "    .dataframe tbody tr th:only-of-type {\n",
       "        vertical-align: middle;\n",
       "    }\n",
       "\n",
       "    .dataframe tbody tr th {\n",
       "        vertical-align: top;\n",
       "    }\n",
       "\n",
       "    .dataframe thead th {\n",
       "        text-align: right;\n",
       "    }\n",
       "</style>\n",
       "<table border=\"1\" class=\"dataframe\">\n",
       "  <thead>\n",
       "    <tr style=\"text-align: right;\">\n",
       "      <th></th>\n",
       "      <th>Ind_ID</th>\n",
       "      <th>GENDER</th>\n",
       "      <th>Car_Owner</th>\n",
       "      <th>Property_Owner</th>\n",
       "      <th>CHILDREN</th>\n",
       "      <th>Annual_income</th>\n",
       "      <th>Type_Income</th>\n",
       "      <th>EDUCATION</th>\n",
       "      <th>Marital_status</th>\n",
       "      <th>Housing_type</th>\n",
       "      <th>Age</th>\n",
       "      <th>Employed(in years)</th>\n",
       "      <th>Mobile_phone</th>\n",
       "      <th>Work_Phone</th>\n",
       "      <th>Phone</th>\n",
       "      <th>EMAIL_ID</th>\n",
       "      <th>Type_Occupation</th>\n",
       "      <th>Family_Members</th>\n",
       "      <th>label</th>\n",
       "    </tr>\n",
       "  </thead>\n",
       "  <tbody>\n",
       "    <tr>\n",
       "      <th>8</th>\n",
       "      <td>5010864</td>\n",
       "      <td>M</td>\n",
       "      <td>Y</td>\n",
       "      <td>Y</td>\n",
       "      <td>1</td>\n",
       "      <td>382500.0</td>\n",
       "      <td>Commercial associate</td>\n",
       "      <td>Secondary / secondary special</td>\n",
       "      <td>Married</td>\n",
       "      <td>House / apartment</td>\n",
       "      <td>49.8</td>\n",
       "      <td>1.9</td>\n",
       "      <td>1</td>\n",
       "      <td>0</td>\n",
       "      <td>1</td>\n",
       "      <td>1</td>\n",
       "      <td>Core staff</td>\n",
       "      <td>3.0</td>\n",
       "      <td>1</td>\n",
       "    </tr>\n",
       "    <tr>\n",
       "      <th>9</th>\n",
       "      <td>5010868</td>\n",
       "      <td>M</td>\n",
       "      <td>Y</td>\n",
       "      <td>Y</td>\n",
       "      <td>1</td>\n",
       "      <td>382500.0</td>\n",
       "      <td>Pensioner</td>\n",
       "      <td>Secondary / secondary special</td>\n",
       "      <td>Married</td>\n",
       "      <td>House / apartment</td>\n",
       "      <td>49.8</td>\n",
       "      <td>1.9</td>\n",
       "      <td>1</td>\n",
       "      <td>0</td>\n",
       "      <td>1</td>\n",
       "      <td>1</td>\n",
       "      <td>Core staff</td>\n",
       "      <td>3.0</td>\n",
       "      <td>1</td>\n",
       "    </tr>\n",
       "    <tr>\n",
       "      <th>10</th>\n",
       "      <td>5010869</td>\n",
       "      <td>M</td>\n",
       "      <td>Y</td>\n",
       "      <td>Y</td>\n",
       "      <td>1</td>\n",
       "      <td>382500.0</td>\n",
       "      <td>Commercial associate</td>\n",
       "      <td>Secondary / secondary special</td>\n",
       "      <td>Single / not married</td>\n",
       "      <td>House / apartment</td>\n",
       "      <td>49.8</td>\n",
       "      <td>1.9</td>\n",
       "      <td>1</td>\n",
       "      <td>0</td>\n",
       "      <td>1</td>\n",
       "      <td>1</td>\n",
       "      <td>Core staff</td>\n",
       "      <td>1.0</td>\n",
       "      <td>1</td>\n",
       "    </tr>\n",
       "    <tr>\n",
       "      <th>11</th>\n",
       "      <td>5018498</td>\n",
       "      <td>F</td>\n",
       "      <td>Y</td>\n",
       "      <td>Y</td>\n",
       "      <td>0</td>\n",
       "      <td>90000.0</td>\n",
       "      <td>Working</td>\n",
       "      <td>Secondary / secondary special</td>\n",
       "      <td>Married</td>\n",
       "      <td>House / apartment</td>\n",
       "      <td>51.9</td>\n",
       "      <td>2.7</td>\n",
       "      <td>1</td>\n",
       "      <td>1</td>\n",
       "      <td>1</td>\n",
       "      <td>0</td>\n",
       "      <td>Cooking staff</td>\n",
       "      <td>2.0</td>\n",
       "      <td>1</td>\n",
       "    </tr>\n",
       "    <tr>\n",
       "      <th>13</th>\n",
       "      <td>5018503</td>\n",
       "      <td>F</td>\n",
       "      <td>Y</td>\n",
       "      <td>Y</td>\n",
       "      <td>0</td>\n",
       "      <td>90000.0</td>\n",
       "      <td>Working</td>\n",
       "      <td>Secondary / secondary special</td>\n",
       "      <td>Married</td>\n",
       "      <td>House / apartment</td>\n",
       "      <td>51.9</td>\n",
       "      <td>2.7</td>\n",
       "      <td>1</td>\n",
       "      <td>1</td>\n",
       "      <td>1</td>\n",
       "      <td>0</td>\n",
       "      <td>Cooking staff</td>\n",
       "      <td>2.0</td>\n",
       "      <td>1</td>\n",
       "    </tr>\n",
       "    <tr>\n",
       "      <th>15</th>\n",
       "      <td>5021310</td>\n",
       "      <td>M</td>\n",
       "      <td>N</td>\n",
       "      <td>Y</td>\n",
       "      <td>0</td>\n",
       "      <td>270000.0</td>\n",
       "      <td>Working</td>\n",
       "      <td>Secondary / secondary special</td>\n",
       "      <td>Married</td>\n",
       "      <td>House / apartment</td>\n",
       "      <td>46.3</td>\n",
       "      <td>0.7</td>\n",
       "      <td>1</td>\n",
       "      <td>0</td>\n",
       "      <td>0</td>\n",
       "      <td>0</td>\n",
       "      <td>Laborers</td>\n",
       "      <td>2.0</td>\n",
       "      <td>1</td>\n",
       "    </tr>\n",
       "    <tr>\n",
       "      <th>16</th>\n",
       "      <td>5021314</td>\n",
       "      <td>M</td>\n",
       "      <td>N</td>\n",
       "      <td>Y</td>\n",
       "      <td>0</td>\n",
       "      <td>270000.0</td>\n",
       "      <td>Working</td>\n",
       "      <td>Secondary / secondary special</td>\n",
       "      <td>Single / not married</td>\n",
       "      <td>House / apartment</td>\n",
       "      <td>46.3</td>\n",
       "      <td>0.7</td>\n",
       "      <td>1</td>\n",
       "      <td>0</td>\n",
       "      <td>0</td>\n",
       "      <td>0</td>\n",
       "      <td>Laborers</td>\n",
       "      <td>2.0</td>\n",
       "      <td>1</td>\n",
       "    </tr>\n",
       "    <tr>\n",
       "      <th>17</th>\n",
       "      <td>5021430</td>\n",
       "      <td>F</td>\n",
       "      <td>N</td>\n",
       "      <td>Y</td>\n",
       "      <td>0</td>\n",
       "      <td>126000.0</td>\n",
       "      <td>Commercial associate</td>\n",
       "      <td>Higher education</td>\n",
       "      <td>Single / not married</td>\n",
       "      <td>House / apartment</td>\n",
       "      <td>51.8</td>\n",
       "      <td>6.8</td>\n",
       "      <td>1</td>\n",
       "      <td>0</td>\n",
       "      <td>0</td>\n",
       "      <td>0</td>\n",
       "      <td>Sales staff</td>\n",
       "      <td>1.0</td>\n",
       "      <td>1</td>\n",
       "    </tr>\n",
       "    <tr>\n",
       "      <th>18</th>\n",
       "      <td>5021431</td>\n",
       "      <td>F</td>\n",
       "      <td>N</td>\n",
       "      <td>Y</td>\n",
       "      <td>0</td>\n",
       "      <td>126000.0</td>\n",
       "      <td>Commercial associate</td>\n",
       "      <td>Higher education</td>\n",
       "      <td>Single / not married</td>\n",
       "      <td>House / apartment</td>\n",
       "      <td>51.8</td>\n",
       "      <td>6.8</td>\n",
       "      <td>1</td>\n",
       "      <td>0</td>\n",
       "      <td>0</td>\n",
       "      <td>0</td>\n",
       "      <td>Sales staff</td>\n",
       "      <td>1.0</td>\n",
       "      <td>1</td>\n",
       "    </tr>\n",
       "    <tr>\n",
       "      <th>21</th>\n",
       "      <td>5022617</td>\n",
       "      <td>M</td>\n",
       "      <td>Y</td>\n",
       "      <td>Y</td>\n",
       "      <td>0</td>\n",
       "      <td>202500.0</td>\n",
       "      <td>Commercial associate</td>\n",
       "      <td>Secondary / secondary special</td>\n",
       "      <td>Civil marriage</td>\n",
       "      <td>House / apartment</td>\n",
       "      <td>32.9</td>\n",
       "      <td>4.6</td>\n",
       "      <td>1</td>\n",
       "      <td>0</td>\n",
       "      <td>0</td>\n",
       "      <td>1</td>\n",
       "      <td>Laborers</td>\n",
       "      <td>2.0</td>\n",
       "      <td>1</td>\n",
       "    </tr>\n",
       "  </tbody>\n",
       "</table>\n",
       "</div>"
      ],
      "text/plain": [
       "     Ind_ID GENDER Car_Owner Property_Owner  CHILDREN  Annual_income  \\\n",
       "8   5010864      M         Y              Y         1       382500.0   \n",
       "9   5010868      M         Y              Y         1       382500.0   \n",
       "10  5010869      M         Y              Y         1       382500.0   \n",
       "11  5018498      F         Y              Y         0        90000.0   \n",
       "13  5018503      F         Y              Y         0        90000.0   \n",
       "15  5021310      M         N              Y         0       270000.0   \n",
       "16  5021314      M         N              Y         0       270000.0   \n",
       "17  5021430      F         N              Y         0       126000.0   \n",
       "18  5021431      F         N              Y         0       126000.0   \n",
       "21  5022617      M         Y              Y         0       202500.0   \n",
       "\n",
       "             Type_Income                      EDUCATION        Marital_status  \\\n",
       "8   Commercial associate  Secondary / secondary special               Married   \n",
       "9              Pensioner  Secondary / secondary special               Married   \n",
       "10  Commercial associate  Secondary / secondary special  Single / not married   \n",
       "11               Working  Secondary / secondary special               Married   \n",
       "13               Working  Secondary / secondary special               Married   \n",
       "15               Working  Secondary / secondary special               Married   \n",
       "16               Working  Secondary / secondary special  Single / not married   \n",
       "17  Commercial associate               Higher education  Single / not married   \n",
       "18  Commercial associate               Higher education  Single / not married   \n",
       "21  Commercial associate  Secondary / secondary special        Civil marriage   \n",
       "\n",
       "         Housing_type   Age  Employed(in years)  Mobile_phone  Work_Phone  \\\n",
       "8   House / apartment  49.8                 1.9             1           0   \n",
       "9   House / apartment  49.8                 1.9             1           0   \n",
       "10  House / apartment  49.8                 1.9             1           0   \n",
       "11  House / apartment  51.9                 2.7             1           1   \n",
       "13  House / apartment  51.9                 2.7             1           1   \n",
       "15  House / apartment  46.3                 0.7             1           0   \n",
       "16  House / apartment  46.3                 0.7             1           0   \n",
       "17  House / apartment  51.8                 6.8             1           0   \n",
       "18  House / apartment  51.8                 6.8             1           0   \n",
       "21  House / apartment  32.9                 4.6             1           0   \n",
       "\n",
       "    Phone  EMAIL_ID Type_Occupation  Family_Members  label  \n",
       "8       1         1      Core staff             3.0      1  \n",
       "9       1         1      Core staff             3.0      1  \n",
       "10      1         1      Core staff             1.0      1  \n",
       "11      1         0   Cooking staff             2.0      1  \n",
       "13      1         0   Cooking staff             2.0      1  \n",
       "15      0         0        Laborers             2.0      1  \n",
       "16      0         0        Laborers             2.0      1  \n",
       "17      0         0     Sales staff             1.0      1  \n",
       "18      0         0     Sales staff             1.0      1  \n",
       "21      0         1        Laborers             2.0      1  "
      ]
     },
     "execution_count": 303,
     "metadata": {},
     "output_type": "execute_result"
    }
   ],
   "source": [
    "creditdata1.head(10)"
   ]
  },
  {
   "cell_type": "markdown",
   "id": "a7421f7c",
   "metadata": {},
   "source": [
    "***We now review the boxplots for confirmation that there are no outliers in any of the features after capping the outliers with upper and lower bound values.***"
   ]
  },
  {
   "cell_type": "code",
   "execution_count": 304,
   "id": "2ae3737a",
   "metadata": {
    "scrolled": false
   },
   "outputs": [
    {
     "data": {
      "image/png": "[encoded data removed]",
      "text/plain": [
       "<Figure size 432x288 with 1 Axes>"
      ]
     },
     "metadata": {
      "needs_background": "light"
     },
     "output_type": "display_data"
    },
    {
     "data": {
      "image/png": "[encoded data removed]",
      "text/plain": [
       "<Figure size 432x288 with 1 Axes>"
      ]
     },
     "metadata": {
      "needs_background": "light"
     },
     "output_type": "display_data"
    },
    {
     "data": {
      "image/png": "[encoded data removed]",
      "text/plain": [
       "<Figure size 432x288 with 1 Axes>"
      ]
     },
     "metadata": {
      "needs_background": "light"
     },
     "output_type": "display_data"
    },
    {
     "data": {
      "image/png": "[encoded data removed]",
      "text/plain": [
       "<Figure size 432x288 with 1 Axes>"
      ]
     },
     "metadata": {
      "needs_background": "light"
     },
     "output_type": "display_data"
    },
    {
     "data": {
      "image/png": "[encoded data removed]",
      "text/plain": [
       "<Figure size 432x288 with 1 Axes>"
      ]
     },
     "metadata": {
      "needs_background": "light"
     },
     "output_type": "display_data"
    },
    {
     "data": {
      "image/png": "[encoded data removed]",
      "text/plain": [
       "<Figure size 432x288 with 1 Axes>"
      ]
     },
     "metadata": {
      "needs_background": "light"
     },
     "output_type": "display_data"
    },
    {
     "data": {
      "image/png": "[encoded data removed]",
      "text/plain": [
       "<Figure size 432x288 with 1 Axes>"
      ]
     },
     "metadata": {
      "needs_background": "light"
     },
     "output_type": "display_data"
    },
    {
     "data": {
      "image/png": "[encoded data removed]",
      "text/plain": [
       "<Figure size 432x288 with 1 Axes>"
      ]
     },
     "metadata": {
      "needs_background": "light"
     },
     "output_type": "display_data"
    },
    {
     "data": {
      "image/png": "[encoded data removed]",
      "text/plain": [
       "<Figure size 432x288 with 1 Axes>"
      ]
     },
     "metadata": {
      "needs_background": "light"
     },
     "output_type": "display_data"
    },
    {
     "data": {
      "image/png": "[encoded data removed]",
      "text/plain": [
       "<Figure size 432x288 with 1 Axes>"
      ]
     },
     "metadata": {
      "needs_background": "light"
     },
     "output_type": "display_data"
    },
    {
     "data": {
      "image/png": "[encoded data removed]",
      "text/plain": [
       "<Figure size 432x288 with 1 Axes>"
      ]
     },
     "metadata": {
      "needs_background": "light"
     },
     "output_type": "display_data"
    }
   ],
   "source": [
    "for i in creditdata1.select_dtypes(np.number).columns:\n",
    "    plt.figure()\n",
    "    sns.boxplot( y = i,data = creditdata1)"
   ]
  },
  {
   "cell_type": "code",
   "execution_count": 305,
   "id": "fdd770b7",
   "metadata": {},
   "outputs": [],
   "source": [
    "creditdata1.reset_index(inplace = True)"
   ]
  },
  {
   "cell_type": "code",
   "execution_count": 306,
   "id": "39d8f5ea",
   "metadata": {},
   "outputs": [],
   "source": [
    "creditdata1.to_excel(\"creditdata_cleaned.xlsx\")"
   ]
  },
  {
   "cell_type": "code",
   "execution_count": null,
   "id": "cf6e16c1",
   "metadata": {},
   "outputs": [],
   "source": []
  },
  {
   "cell_type": "markdown",
   "id": "37c48e34",
   "metadata": {},
   "source": [
    "## 3. Exploratory Data Analysis (EDA)"
   ]
  },
  {
   "cell_type": "markdown",
   "id": "72a36e27",
   "metadata": {},
   "source": [
    "Here we will understand the relations that input columns have with the output columns."
   ]
  },
  {
   "cell_type": "markdown",
   "id": "ae67d4a8",
   "metadata": {},
   "source": [
    "## Univariate Analysis\n",
    "\n",
    "It is the simplest form of analyzing data, it uses only one variable hence the name, Univariate."
   ]
  },
  {
   "cell_type": "code",
   "execution_count": 307,
   "id": "1f65ddbf",
   "metadata": {},
   "outputs": [],
   "source": [
    "num_columns=list(creditdata1.select_dtypes(include=['int','float']))"
   ]
  },
  {
   "cell_type": "code",
   "execution_count": 308,
   "id": "3bf5b2d4",
   "metadata": {},
   "outputs": [
    {
     "data": {
      "text/plain": [
       "['index',\n",
       " 'Ind_ID',\n",
       " 'CHILDREN',\n",
       " 'Annual_income',\n",
       " 'Age',\n",
       " 'Employed(in years)',\n",
       " 'Mobile_phone',\n",
       " 'Work_Phone',\n",
       " 'Phone',\n",
       " 'EMAIL_ID',\n",
       " 'Family_Members',\n",
       " 'label']"
      ]
     },
     "execution_count": 308,
     "metadata": {},
     "output_type": "execute_result"
    }
   ],
   "source": [
    "num_columns"
   ]
  },
  {
   "cell_type": "code",
   "execution_count": 309,
   "id": "acd5857a",
   "metadata": {},
   "outputs": [
    {
     "data": {
      "text/plain": [
       "<seaborn.axisgrid.FacetGrid at 0x1d7640a5940>"
      ]
     },
     "execution_count": 309,
     "metadata": {},
     "output_type": "execute_result"
    },
    {
     "data": {
      "image/png": "[encoded data removed]",
      "text/plain": [
       "<Figure size 360x360 with 1 Axes>"
      ]
     },
     "metadata": {
      "needs_background": "light"
     },
     "output_type": "display_data"
    }
   ],
   "source": [
    "sns.displot(creditdata1['Annual_income'], kde = 'True')"
   ]
  },
  {
   "cell_type": "code",
   "execution_count": 310,
   "id": "6fb05fec",
   "metadata": {},
   "outputs": [
    {
     "data": {
      "text/plain": [
       "0.714226604223688"
      ]
     },
     "execution_count": 310,
     "metadata": {},
     "output_type": "execute_result"
    }
   ],
   "source": [
    "creditdata1['Annual_income'].skew()"
   ]
  },
  {
   "cell_type": "code",
   "execution_count": 311,
   "id": "b66d2829",
   "metadata": {},
   "outputs": [
    {
     "data": {
      "text/plain": [
       "<AxesSubplot:xlabel='Age', ylabel='Count'>"
      ]
     },
     "execution_count": 311,
     "metadata": {},
     "output_type": "execute_result"
    },
    {
     "data": {
      "image/png": "[encoded data removed]",
      "text/plain": [
       "<Figure size 432x288 with 1 Axes>"
      ]
     },
     "metadata": {
      "needs_background": "light"
     },
     "output_type": "display_data"
    }
   ],
   "source": [
    "sns.histplot(creditdata['Age'], kde = 'True')"
   ]
  },
  {
   "cell_type": "markdown",
   "id": "d6925e99",
   "metadata": {},
   "source": [
    "Here the  Age feature looks normally distributed."
   ]
  },
  {
   "cell_type": "code",
   "execution_count": 312,
   "id": "af221e36",
   "metadata": {},
   "outputs": [
    {
     "data": {
      "image/png": "[encoded data removed]",
      "text/plain": [
       "<Figure size 432x288 with 1 Axes>"
      ]
     },
     "metadata": {
      "needs_background": "light"
     },
     "output_type": "display_data"
    },
    {
     "data": {
      "image/png": "[encoded data removed]",
      "text/plain": [
       "<Figure size 432x288 with 1 Axes>"
      ]
     },
     "metadata": {
      "needs_background": "light"
     },
     "output_type": "display_data"
    },
    {
     "data": {
      "image/png": "[encoded data removed]",
      "text/plain": [
       "<Figure size 432x288 with 1 Axes>"
      ]
     },
     "metadata": {
      "needs_background": "light"
     },
     "output_type": "display_data"
    },
    {
     "data": {
      "image/png": "[encoded data removed]",
      "text/plain": [
       "<Figure size 432x288 with 1 Axes>"
      ]
     },
     "metadata": {
      "needs_background": "light"
     },
     "output_type": "display_data"
    },
    {
     "data": {
      "image/png": "[encoded data removed]",
      "text/plain": [
       "<Figure size 432x288 with 1 Axes>"
      ]
     },
     "metadata": {
      "needs_background": "light"
     },
     "output_type": "display_data"
    },
    {
     "data": {
      "image/png": "[encoded data removed]",
      "text/plain": [
       "<Figure size 432x288 with 1 Axes>"
      ]
     },
     "metadata": {
      "needs_background": "light"
     },
     "output_type": "display_data"
    },
    {
     "data": {
      "image/png": "[encoded data removed]",
      "text/plain": [
       "<Figure size 432x288 with 1 Axes>"
      ]
     },
     "metadata": {
      "needs_background": "light"
     },
     "output_type": "display_data"
    },
    {
     "data": {
      "image/png": "[encoded data removed]",
      "text/plain": [
       "<Figure size 432x288 with 1 Axes>"
      ]
     },
     "metadata": {
      "needs_background": "light"
     },
     "output_type": "display_data"
    },
    {
     "data": {
      "image/png": "[encoded data removed]",
      "text/plain": [
       "<Figure size 432x288 with 1 Axes>"
      ]
     },
     "metadata": {
      "needs_background": "light"
     },
     "output_type": "display_data"
    },
    {
     "data": {
      "image/png": "[encoded data removed]",
      "text/plain": [
       "<Figure size 432x288 with 1 Axes>"
      ]
     },
     "metadata": {
      "needs_background": "light"
     },
     "output_type": "display_data"
    },
    {
     "data": {
      "image/png": "[encoded data removed]",
      "text/plain": [
       "<Figure size 432x288 with 1 Axes>"
      ]
     },
     "metadata": {
      "needs_background": "light"
     },
     "output_type": "display_data"
    },
    {
     "data": {
      "image/png": "[encoded data removed]",
      "text/plain": [
       "<Figure size 432x288 with 1 Axes>"
      ]
     },
     "metadata": {
      "needs_background": "light"
     },
     "output_type": "display_data"
    }
   ],
   "source": [
    "\n",
    "for c in num_columns:\n",
    "    plt.figure()\n",
    "    sns.histplot(creditdata1[c],kde=True)"
   ]
  },
  {
   "cell_type": "code",
   "execution_count": 313,
   "id": "1e738d83",
   "metadata": {},
   "outputs": [
    {
     "name": "stderr",
     "output_type": "stream",
     "text": [
      "C:\\Users\\ASUS\\AppData\\Local\\Temp/ipykernel_20220/3853562884.py:1: FutureWarning: Dropping of nuisance columns in DataFrame reductions (with 'numeric_only=None') is deprecated; in a future version this will raise TypeError.  Select only valid columns before calling the reduction.\n",
      "  creditdata1.skew().sort_values(ascending = False)\n"
     ]
    },
    {
     "data": {
      "text/plain": [
       "label                 2.541121\n",
       "EMAIL_ID              2.476755\n",
       "Work_Phone            1.182181\n",
       "CHILDREN              1.153493\n",
       "Employed(in years)    1.014527\n",
       "Phone                 0.881782\n",
       "Annual_income         0.714227\n",
       "Family_Members        0.554605\n",
       "Age                   0.227407\n",
       "Mobile_phone          0.000000\n",
       "index                -0.018812\n",
       "Ind_ID               -0.028286\n",
       "dtype: float64"
      ]
     },
     "execution_count": 313,
     "metadata": {},
     "output_type": "execute_result"
    }
   ],
   "source": [
    "\n",
    "creditdata1.skew().sort_values(ascending = False)"
   ]
  },
  {
   "cell_type": "markdown",
   "id": "c4a98e7e",
   "metadata": {},
   "source": [
    "***The skewness for label column is highest which indicates that the dataset is imbalanced .***\n",
    "\n",
    "***Features like Children,Employed(in years), Phone, Annual_Income are having high skewness.***\n",
    "\n",
    "***Some features like Email_ID,Work_phone,Phone,Mobile_Phone ,Ind_ID will be dropped in the next step as they are irrelevant w.r.t the output column.***"
   ]
  },
  {
   "cell_type": "markdown",
   "id": "945a7681",
   "metadata": {},
   "source": [
    "## Bivariate Analysis"
   ]
  },
  {
   "cell_type": "markdown",
   "id": "0139cdad",
   "metadata": {},
   "source": [
    "Bivariate analysis is a statistical method used to examine the relationship between two different variables or sets of data. It focuses on understanding how changes in one variable are associated with changes in another."
   ]
  },
  {
   "cell_type": "code",
   "execution_count": 314,
   "id": "c53a8231",
   "metadata": {},
   "outputs": [
    {
     "data": {
      "text/plain": [
       "<AxesSubplot:xlabel='Type_Income', ylabel='count'>"
      ]
     },
     "execution_count": 314,
     "metadata": {},
     "output_type": "execute_result"
    },
    {
     "data": {
      "image/png": "[encoded data removed]",
      "text/plain": [
       "<Figure size 432x288 with 1 Axes>"
      ]
     },
     "metadata": {
      "needs_background": "light"
     },
     "output_type": "display_data"
    }
   ],
   "source": [
    "sns.countplot(x='Type_Income', data = creditdata1, hue = 'label')"
   ]
  },
  {
   "cell_type": "code",
   "execution_count": 315,
   "id": "ab20ce6f",
   "metadata": {},
   "outputs": [
    {
     "data": {
      "text/plain": [
       "<AxesSubplot:xlabel='Type_Occupation', ylabel='count'>"
      ]
     },
     "execution_count": 315,
     "metadata": {},
     "output_type": "execute_result"
    },
    {
     "data": {
      "image/png": "[encoded data removed]",
      "text/plain": [
       "<Figure size 1440x720 with 1 Axes>"
      ]
     },
     "metadata": {
      "needs_background": "light"
     },
     "output_type": "display_data"
    }
   ],
   "source": [
    "fig, ax = plt.subplots(figsize=(20,10))   \n",
    "sns.countplot(x='Type_Occupation', data = creditdata1, hue = 'label', ax=ax)"
   ]
  },
  {
   "cell_type": "code",
   "execution_count": null,
   "id": "c7dca466",
   "metadata": {},
   "outputs": [],
   "source": []
  },
  {
   "cell_type": "code",
   "execution_count": 317,
   "id": "eecd5e52",
   "metadata": {},
   "outputs": [
    {
     "data": {
      "image/png": "[encoded data removed]",
      "text/plain": [
       "<Figure size 432x288 with 1 Axes>"
      ]
     },
     "metadata": {
      "needs_background": "light"
     },
     "output_type": "display_data"
    }
   ],
   "source": [
    "B=sns.boxplot(data = creditdata1,y='Annual_income', x = 'label' )"
   ]
  },
  {
   "cell_type": "markdown",
   "id": "f1792321",
   "metadata": {},
   "source": [
    "***From above boxplots it is to be noticed that most people who got credit card approval are  having annual income between 135000 to 234000.***"
   ]
  },
  {
   "cell_type": "code",
   "execution_count": 318,
   "id": "8fda3c9d",
   "metadata": {},
   "outputs": [
    {
     "data": {
      "text/plain": [
       "<AxesSubplot:xlabel='label', ylabel='Age'>"
      ]
     },
     "execution_count": 318,
     "metadata": {},
     "output_type": "execute_result"
    },
    {
     "data": {
      "image/png": "[encoded data removed]",
      "text/plain": [
       "<Figure size 432x288 with 1 Axes>"
      ]
     },
     "metadata": {
      "needs_background": "light"
     },
     "output_type": "display_data"
    }
   ],
   "source": [
    "sns.boxplot(data = creditdata1,y='Age', x = 'label' )"
   ]
  },
  {
   "cell_type": "markdown",
   "id": "3c962bf2",
   "metadata": {},
   "source": [
    "***Most people who got thier credit card approved  are of age between 32 to 48.***"
   ]
  },
  {
   "cell_type": "code",
   "execution_count": 319,
   "id": "bdbc037e",
   "metadata": {},
   "outputs": [
    {
     "data": {
      "text/html": [
       "<div>\n",
       "<style scoped>\n",
       "    .dataframe tbody tr th:only-of-type {\n",
       "        vertical-align: middle;\n",
       "    }\n",
       "\n",
       "    .dataframe tbody tr th {\n",
       "        vertical-align: top;\n",
       "    }\n",
       "\n",
       "    .dataframe thead th {\n",
       "        text-align: right;\n",
       "    }\n",
       "</style>\n",
       "<table border=\"1\" class=\"dataframe\">\n",
       "  <thead>\n",
       "    <tr style=\"text-align: right;\">\n",
       "      <th></th>\n",
       "      <th>index</th>\n",
       "      <th>Ind_ID</th>\n",
       "      <th>CHILDREN</th>\n",
       "      <th>Annual_income</th>\n",
       "      <th>Age</th>\n",
       "      <th>Employed(in years)</th>\n",
       "      <th>Mobile_phone</th>\n",
       "      <th>Work_Phone</th>\n",
       "      <th>Phone</th>\n",
       "      <th>EMAIL_ID</th>\n",
       "      <th>Family_Members</th>\n",
       "      <th>label</th>\n",
       "    </tr>\n",
       "  </thead>\n",
       "  <tbody>\n",
       "    <tr>\n",
       "      <th>count</th>\n",
       "      <td>1025.000000</td>\n",
       "      <td>1.025000e+03</td>\n",
       "      <td>1025.000000</td>\n",
       "      <td>1025.000000</td>\n",
       "      <td>1025.000000</td>\n",
       "      <td>1025.000000</td>\n",
       "      <td>1025.0</td>\n",
       "      <td>1025.000000</td>\n",
       "      <td>1025.000000</td>\n",
       "      <td>1025.000000</td>\n",
       "      <td>1025.000000</td>\n",
       "      <td>1025.000000</td>\n",
       "    </tr>\n",
       "    <tr>\n",
       "      <th>mean</th>\n",
       "      <td>781.068293</td>\n",
       "      <td>5.081019e+06</td>\n",
       "      <td>0.470244</td>\n",
       "      <td>191602.167805</td>\n",
       "      <td>40.705854</td>\n",
       "      <td>7.117073</td>\n",
       "      <td>1.0</td>\n",
       "      <td>0.245854</td>\n",
       "      <td>0.298537</td>\n",
       "      <td>0.111220</td>\n",
       "      <td>2.255122</td>\n",
       "      <td>0.107317</td>\n",
       "    </tr>\n",
       "    <tr>\n",
       "      <th>std</th>\n",
       "      <td>440.433670</td>\n",
       "      <td>4.193412e+04</td>\n",
       "      <td>0.695509</td>\n",
       "      <td>83469.806402</td>\n",
       "      <td>9.512919</td>\n",
       "      <td>5.748849</td>\n",
       "      <td>0.0</td>\n",
       "      <td>0.430802</td>\n",
       "      <td>0.457839</td>\n",
       "      <td>0.314557</td>\n",
       "      <td>0.896791</td>\n",
       "      <td>0.309667</td>\n",
       "    </tr>\n",
       "    <tr>\n",
       "      <th>min</th>\n",
       "      <td>8.000000</td>\n",
       "      <td>5.008865e+06</td>\n",
       "      <td>0.000000</td>\n",
       "      <td>36000.000000</td>\n",
       "      <td>21.100000</td>\n",
       "      <td>0.200000</td>\n",
       "      <td>1.0</td>\n",
       "      <td>0.000000</td>\n",
       "      <td>0.000000</td>\n",
       "      <td>0.000000</td>\n",
       "      <td>1.000000</td>\n",
       "      <td>0.000000</td>\n",
       "    </tr>\n",
       "    <tr>\n",
       "      <th>25%</th>\n",
       "      <td>403.000000</td>\n",
       "      <td>5.045380e+06</td>\n",
       "      <td>0.000000</td>\n",
       "      <td>135000.000000</td>\n",
       "      <td>32.800000</td>\n",
       "      <td>2.700000</td>\n",
       "      <td>1.0</td>\n",
       "      <td>0.000000</td>\n",
       "      <td>0.000000</td>\n",
       "      <td>0.000000</td>\n",
       "      <td>2.000000</td>\n",
       "      <td>0.000000</td>\n",
       "    </tr>\n",
       "    <tr>\n",
       "      <th>50%</th>\n",
       "      <td>784.000000</td>\n",
       "      <td>5.088503e+06</td>\n",
       "      <td>0.000000</td>\n",
       "      <td>180000.000000</td>\n",
       "      <td>40.100000</td>\n",
       "      <td>5.400000</td>\n",
       "      <td>1.0</td>\n",
       "      <td>0.000000</td>\n",
       "      <td>0.000000</td>\n",
       "      <td>0.000000</td>\n",
       "      <td>2.000000</td>\n",
       "      <td>0.000000</td>\n",
       "    </tr>\n",
       "    <tr>\n",
       "      <th>75%</th>\n",
       "      <td>1158.000000</td>\n",
       "      <td>5.116478e+06</td>\n",
       "      <td>1.000000</td>\n",
       "      <td>234000.000000</td>\n",
       "      <td>48.000000</td>\n",
       "      <td>10.000000</td>\n",
       "      <td>1.0</td>\n",
       "      <td>0.000000</td>\n",
       "      <td>1.000000</td>\n",
       "      <td>0.000000</td>\n",
       "      <td>3.000000</td>\n",
       "      <td>0.000000</td>\n",
       "    </tr>\n",
       "    <tr>\n",
       "      <th>max</th>\n",
       "      <td>1546.000000</td>\n",
       "      <td>5.150221e+06</td>\n",
       "      <td>2.000000</td>\n",
       "      <td>382500.000000</td>\n",
       "      <td>65.300000</td>\n",
       "      <td>20.950000</td>\n",
       "      <td>1.0</td>\n",
       "      <td>1.000000</td>\n",
       "      <td>1.000000</td>\n",
       "      <td>1.000000</td>\n",
       "      <td>4.500000</td>\n",
       "      <td>1.000000</td>\n",
       "    </tr>\n",
       "  </tbody>\n",
       "</table>\n",
       "</div>"
      ],
      "text/plain": [
       "             index        Ind_ID     CHILDREN  Annual_income          Age  \\\n",
       "count  1025.000000  1.025000e+03  1025.000000    1025.000000  1025.000000   \n",
       "mean    781.068293  5.081019e+06     0.470244  191602.167805    40.705854   \n",
       "std     440.433670  4.193412e+04     0.695509   83469.806402     9.512919   \n",
       "min       8.000000  5.008865e+06     0.000000   36000.000000    21.100000   \n",
       "25%     403.000000  5.045380e+06     0.000000  135000.000000    32.800000   \n",
       "50%     784.000000  5.088503e+06     0.000000  180000.000000    40.100000   \n",
       "75%    1158.000000  5.116478e+06     1.000000  234000.000000    48.000000   \n",
       "max    1546.000000  5.150221e+06     2.000000  382500.000000    65.300000   \n",
       "\n",
       "       Employed(in years)  Mobile_phone   Work_Phone        Phone  \\\n",
       "count         1025.000000        1025.0  1025.000000  1025.000000   \n",
       "mean             7.117073           1.0     0.245854     0.298537   \n",
       "std              5.748849           0.0     0.430802     0.457839   \n",
       "min              0.200000           1.0     0.000000     0.000000   \n",
       "25%              2.700000           1.0     0.000000     0.000000   \n",
       "50%              5.400000           1.0     0.000000     0.000000   \n",
       "75%             10.000000           1.0     0.000000     1.000000   \n",
       "max             20.950000           1.0     1.000000     1.000000   \n",
       "\n",
       "          EMAIL_ID  Family_Members        label  \n",
       "count  1025.000000     1025.000000  1025.000000  \n",
       "mean      0.111220        2.255122     0.107317  \n",
       "std       0.314557        0.896791     0.309667  \n",
       "min       0.000000        1.000000     0.000000  \n",
       "25%       0.000000        2.000000     0.000000  \n",
       "50%       0.000000        2.000000     0.000000  \n",
       "75%       0.000000        3.000000     0.000000  \n",
       "max       1.000000        4.500000     1.000000  "
      ]
     },
     "execution_count": 319,
     "metadata": {},
     "output_type": "execute_result"
    }
   ],
   "source": [
    "creditdata1.describe()\n"
   ]
  },
  {
   "cell_type": "code",
   "execution_count": null,
   "id": "d6acebc2",
   "metadata": {},
   "outputs": [],
   "source": []
  },
  {
   "cell_type": "code",
   "execution_count": null,
   "id": "05229c87",
   "metadata": {},
   "outputs": [],
   "source": []
  },
  {
   "cell_type": "markdown",
   "id": "3cca799c",
   "metadata": {},
   "source": [
    "Checking the correlation between features to get a better understanding of their relations."
   ]
  },
  {
   "cell_type": "code",
   "execution_count": 320,
   "id": "a16c4a5d",
   "metadata": {},
   "outputs": [
    {
     "data": {
      "image/png": "[encoded data removed]",
      "text/plain": [
       "<Figure size 720x720 with 2 Axes>"
      ]
     },
     "metadata": {
      "needs_background": "light"
     },
     "output_type": "display_data"
    }
   ],
   "source": [
    "fig, ax = plt.subplots(figsize=(10,10))   \n",
    "dataplot = sns.heatmap(creditdata1.corr() , cmap=\"YlGnBu\", annot=True,ax=ax)"
   ]
  },
  {
   "cell_type": "markdown",
   "id": "e1d0890f",
   "metadata": {},
   "source": [
    "***Here we can see that the 'Children' and 'family_memebers' columns are highly correlated with each other so we are droppig them for good.***"
   ]
  },
  {
   "cell_type": "code",
   "execution_count": 321,
   "id": "30f27cad",
   "metadata": {},
   "outputs": [],
   "source": [
    "creditdata2 = creditdata1.copy()"
   ]
  },
  {
   "cell_type": "markdown",
   "id": "4ea24fa0",
   "metadata": {},
   "source": [
    "## 4.Feature Selection and Feature Engineering"
   ]
  },
  {
   "cell_type": "markdown",
   "id": "54fe5efe",
   "metadata": {},
   "source": [
    "***Feature engineering is a crucial process in machine learning and data analysis that involves creating new, meaningful features or modifying existing ones from raw data to improve the performance of predictive models.***"
   ]
  },
  {
   "cell_type": "code",
   "execution_count": null,
   "id": "1ffb5176",
   "metadata": {},
   "outputs": [],
   "source": []
  },
  {
   "cell_type": "code",
   "execution_count": 431,
   "id": "f1a25724",
   "metadata": {},
   "outputs": [
    {
     "data": {
      "text/plain": [
       "level_0               1025\n",
       "index                 1025\n",
       "GENDER                   2\n",
       "Car_Owner                2\n",
       "Property_Owner           2\n",
       "Annual_income           71\n",
       "Type_Income              4\n",
       "Age                    339\n",
       "Employed(in years)     178\n",
       "label                    2\n",
       "dtype: int64"
      ]
     },
     "execution_count": 431,
     "metadata": {},
     "output_type": "execute_result"
    }
   ],
   "source": [
    "creditdata2.nunique()"
   ]
  },
  {
   "cell_type": "markdown",
   "id": "2524ef4e",
   "metadata": {},
   "source": [
    "***Checking for unique values in order to decide which encoding techinque to use for feature encoding.***"
   ]
  },
  {
   "cell_type": "code",
   "execution_count": 322,
   "id": "65a1fbda",
   "metadata": {},
   "outputs": [
    {
     "name": "stdout",
     "output_type": "stream",
     "text": [
      "<class 'pandas.core.frame.DataFrame'>\n",
      "RangeIndex: 1025 entries, 0 to 1024\n",
      "Data columns (total 20 columns):\n",
      " #   Column              Non-Null Count  Dtype  \n",
      "---  ------              --------------  -----  \n",
      " 0   index               1025 non-null   int64  \n",
      " 1   Ind_ID              1025 non-null   int64  \n",
      " 2   GENDER              1025 non-null   object \n",
      " 3   Car_Owner           1025 non-null   object \n",
      " 4   Property_Owner      1025 non-null   object \n",
      " 5   CHILDREN            1025 non-null   int32  \n",
      " 6   Annual_income       1025 non-null   float64\n",
      " 7   Type_Income         1025 non-null   object \n",
      " 8   EDUCATION           1025 non-null   object \n",
      " 9   Marital_status      1025 non-null   object \n",
      " 10  Housing_type        1025 non-null   object \n",
      " 11  Age                 1025 non-null   float64\n",
      " 12  Employed(in years)  1025 non-null   float64\n",
      " 13  Mobile_phone        1025 non-null   int64  \n",
      " 14  Work_Phone          1025 non-null   int64  \n",
      " 15  Phone               1025 non-null   int64  \n",
      " 16  EMAIL_ID            1025 non-null   int64  \n",
      " 17  Type_Occupation     1025 non-null   object \n",
      " 18  Family_Members      1025 non-null   float64\n",
      " 19  label               1025 non-null   int64  \n",
      "dtypes: float64(4), int32(1), int64(7), object(8)\n",
      "memory usage: 156.3+ KB\n"
     ]
    }
   ],
   "source": [
    "creditdata2.info()"
   ]
  },
  {
   "cell_type": "markdown",
   "id": "a6272805",
   "metadata": {},
   "source": [
    "***Lets drop some features which are not really relevant to the output feature.***"
   ]
  },
  {
   "cell_type": "markdown",
   "id": "e73f34db",
   "metadata": {},
   "source": [
    "Ind_ID, Children, education, Martial_status, Housing type, Mobile Phone, work phone, phone, email id, family members"
   ]
  },
  {
   "cell_type": "code",
   "execution_count": 323,
   "id": "00ab369b",
   "metadata": {},
   "outputs": [],
   "source": [
    "creditdata2.drop(['Ind_ID','CHILDREN','EDUCATION','Marital_status','Housing_type','Mobile_phone','Work_Phone','Phone','EMAIL_ID','Family_Members','Type_Occupation'],axis =1,inplace =  True)"
   ]
  },
  {
   "cell_type": "code",
   "execution_count": 324,
   "id": "49530082",
   "metadata": {},
   "outputs": [
    {
     "data": {
      "text/html": [
       "<div>\n",
       "<style scoped>\n",
       "    .dataframe tbody tr th:only-of-type {\n",
       "        vertical-align: middle;\n",
       "    }\n",
       "\n",
       "    .dataframe tbody tr th {\n",
       "        vertical-align: top;\n",
       "    }\n",
       "\n",
       "    .dataframe thead th {\n",
       "        text-align: right;\n",
       "    }\n",
       "</style>\n",
       "<table border=\"1\" class=\"dataframe\">\n",
       "  <thead>\n",
       "    <tr style=\"text-align: right;\">\n",
       "      <th></th>\n",
       "      <th>index</th>\n",
       "      <th>GENDER</th>\n",
       "      <th>Car_Owner</th>\n",
       "      <th>Property_Owner</th>\n",
       "      <th>Annual_income</th>\n",
       "      <th>Type_Income</th>\n",
       "      <th>Age</th>\n",
       "      <th>Employed(in years)</th>\n",
       "      <th>label</th>\n",
       "    </tr>\n",
       "  </thead>\n",
       "  <tbody>\n",
       "    <tr>\n",
       "      <th>0</th>\n",
       "      <td>8</td>\n",
       "      <td>M</td>\n",
       "      <td>Y</td>\n",
       "      <td>Y</td>\n",
       "      <td>382500.0</td>\n",
       "      <td>Commercial associate</td>\n",
       "      <td>49.8</td>\n",
       "      <td>1.9</td>\n",
       "      <td>1</td>\n",
       "    </tr>\n",
       "    <tr>\n",
       "      <th>1</th>\n",
       "      <td>9</td>\n",
       "      <td>M</td>\n",
       "      <td>Y</td>\n",
       "      <td>Y</td>\n",
       "      <td>382500.0</td>\n",
       "      <td>Pensioner</td>\n",
       "      <td>49.8</td>\n",
       "      <td>1.9</td>\n",
       "      <td>1</td>\n",
       "    </tr>\n",
       "    <tr>\n",
       "      <th>2</th>\n",
       "      <td>10</td>\n",
       "      <td>M</td>\n",
       "      <td>Y</td>\n",
       "      <td>Y</td>\n",
       "      <td>382500.0</td>\n",
       "      <td>Commercial associate</td>\n",
       "      <td>49.8</td>\n",
       "      <td>1.9</td>\n",
       "      <td>1</td>\n",
       "    </tr>\n",
       "    <tr>\n",
       "      <th>3</th>\n",
       "      <td>11</td>\n",
       "      <td>F</td>\n",
       "      <td>Y</td>\n",
       "      <td>Y</td>\n",
       "      <td>90000.0</td>\n",
       "      <td>Working</td>\n",
       "      <td>51.9</td>\n",
       "      <td>2.7</td>\n",
       "      <td>1</td>\n",
       "    </tr>\n",
       "    <tr>\n",
       "      <th>4</th>\n",
       "      <td>13</td>\n",
       "      <td>F</td>\n",
       "      <td>Y</td>\n",
       "      <td>Y</td>\n",
       "      <td>90000.0</td>\n",
       "      <td>Working</td>\n",
       "      <td>51.9</td>\n",
       "      <td>2.7</td>\n",
       "      <td>1</td>\n",
       "    </tr>\n",
       "    <tr>\n",
       "      <th>5</th>\n",
       "      <td>15</td>\n",
       "      <td>M</td>\n",
       "      <td>N</td>\n",
       "      <td>Y</td>\n",
       "      <td>270000.0</td>\n",
       "      <td>Working</td>\n",
       "      <td>46.3</td>\n",
       "      <td>0.7</td>\n",
       "      <td>1</td>\n",
       "    </tr>\n",
       "    <tr>\n",
       "      <th>6</th>\n",
       "      <td>16</td>\n",
       "      <td>M</td>\n",
       "      <td>N</td>\n",
       "      <td>Y</td>\n",
       "      <td>270000.0</td>\n",
       "      <td>Working</td>\n",
       "      <td>46.3</td>\n",
       "      <td>0.7</td>\n",
       "      <td>1</td>\n",
       "    </tr>\n",
       "    <tr>\n",
       "      <th>7</th>\n",
       "      <td>17</td>\n",
       "      <td>F</td>\n",
       "      <td>N</td>\n",
       "      <td>Y</td>\n",
       "      <td>126000.0</td>\n",
       "      <td>Commercial associate</td>\n",
       "      <td>51.8</td>\n",
       "      <td>6.8</td>\n",
       "      <td>1</td>\n",
       "    </tr>\n",
       "    <tr>\n",
       "      <th>8</th>\n",
       "      <td>18</td>\n",
       "      <td>F</td>\n",
       "      <td>N</td>\n",
       "      <td>Y</td>\n",
       "      <td>126000.0</td>\n",
       "      <td>Commercial associate</td>\n",
       "      <td>51.8</td>\n",
       "      <td>6.8</td>\n",
       "      <td>1</td>\n",
       "    </tr>\n",
       "    <tr>\n",
       "      <th>9</th>\n",
       "      <td>21</td>\n",
       "      <td>M</td>\n",
       "      <td>Y</td>\n",
       "      <td>Y</td>\n",
       "      <td>202500.0</td>\n",
       "      <td>Commercial associate</td>\n",
       "      <td>32.9</td>\n",
       "      <td>4.6</td>\n",
       "      <td>1</td>\n",
       "    </tr>\n",
       "  </tbody>\n",
       "</table>\n",
       "</div>"
      ],
      "text/plain": [
       "   index GENDER Car_Owner Property_Owner  Annual_income           Type_Income  \\\n",
       "0      8      M         Y              Y       382500.0  Commercial associate   \n",
       "1      9      M         Y              Y       382500.0             Pensioner   \n",
       "2     10      M         Y              Y       382500.0  Commercial associate   \n",
       "3     11      F         Y              Y        90000.0               Working   \n",
       "4     13      F         Y              Y        90000.0               Working   \n",
       "5     15      M         N              Y       270000.0               Working   \n",
       "6     16      M         N              Y       270000.0               Working   \n",
       "7     17      F         N              Y       126000.0  Commercial associate   \n",
       "8     18      F         N              Y       126000.0  Commercial associate   \n",
       "9     21      M         Y              Y       202500.0  Commercial associate   \n",
       "\n",
       "    Age  Employed(in years)  label  \n",
       "0  49.8                 1.9      1  \n",
       "1  49.8                 1.9      1  \n",
       "2  49.8                 1.9      1  \n",
       "3  51.9                 2.7      1  \n",
       "4  51.9                 2.7      1  \n",
       "5  46.3                 0.7      1  \n",
       "6  46.3                 0.7      1  \n",
       "7  51.8                 6.8      1  \n",
       "8  51.8                 6.8      1  \n",
       "9  32.9                 4.6      1  "
      ]
     },
     "execution_count": 324,
     "metadata": {},
     "output_type": "execute_result"
    }
   ],
   "source": [
    "creditdata2.head(10)"
   ]
  },
  {
   "cell_type": "code",
   "execution_count": 325,
   "id": "faf85d00",
   "metadata": {},
   "outputs": [],
   "source": [
    "creditdata2.reset_index(inplace = True )"
   ]
  },
  {
   "cell_type": "code",
   "execution_count": 326,
   "id": "c38af603",
   "metadata": {},
   "outputs": [
    {
     "data": {
      "text/html": [
       "<div>\n",
       "<style scoped>\n",
       "    .dataframe tbody tr th:only-of-type {\n",
       "        vertical-align: middle;\n",
       "    }\n",
       "\n",
       "    .dataframe tbody tr th {\n",
       "        vertical-align: top;\n",
       "    }\n",
       "\n",
       "    .dataframe thead th {\n",
       "        text-align: right;\n",
       "    }\n",
       "</style>\n",
       "<table border=\"1\" class=\"dataframe\">\n",
       "  <thead>\n",
       "    <tr style=\"text-align: right;\">\n",
       "      <th></th>\n",
       "      <th>level_0</th>\n",
       "      <th>index</th>\n",
       "      <th>GENDER</th>\n",
       "      <th>Car_Owner</th>\n",
       "      <th>Property_Owner</th>\n",
       "      <th>Annual_income</th>\n",
       "      <th>Type_Income</th>\n",
       "      <th>Age</th>\n",
       "      <th>Employed(in years)</th>\n",
       "      <th>label</th>\n",
       "    </tr>\n",
       "  </thead>\n",
       "  <tbody>\n",
       "    <tr>\n",
       "      <th>0</th>\n",
       "      <td>0</td>\n",
       "      <td>8</td>\n",
       "      <td>M</td>\n",
       "      <td>Y</td>\n",
       "      <td>Y</td>\n",
       "      <td>382500.0</td>\n",
       "      <td>Commercial associate</td>\n",
       "      <td>49.8</td>\n",
       "      <td>1.9</td>\n",
       "      <td>1</td>\n",
       "    </tr>\n",
       "    <tr>\n",
       "      <th>1</th>\n",
       "      <td>1</td>\n",
       "      <td>9</td>\n",
       "      <td>M</td>\n",
       "      <td>Y</td>\n",
       "      <td>Y</td>\n",
       "      <td>382500.0</td>\n",
       "      <td>Pensioner</td>\n",
       "      <td>49.8</td>\n",
       "      <td>1.9</td>\n",
       "      <td>1</td>\n",
       "    </tr>\n",
       "    <tr>\n",
       "      <th>2</th>\n",
       "      <td>2</td>\n",
       "      <td>10</td>\n",
       "      <td>M</td>\n",
       "      <td>Y</td>\n",
       "      <td>Y</td>\n",
       "      <td>382500.0</td>\n",
       "      <td>Commercial associate</td>\n",
       "      <td>49.8</td>\n",
       "      <td>1.9</td>\n",
       "      <td>1</td>\n",
       "    </tr>\n",
       "    <tr>\n",
       "      <th>3</th>\n",
       "      <td>3</td>\n",
       "      <td>11</td>\n",
       "      <td>F</td>\n",
       "      <td>Y</td>\n",
       "      <td>Y</td>\n",
       "      <td>90000.0</td>\n",
       "      <td>Working</td>\n",
       "      <td>51.9</td>\n",
       "      <td>2.7</td>\n",
       "      <td>1</td>\n",
       "    </tr>\n",
       "    <tr>\n",
       "      <th>4</th>\n",
       "      <td>4</td>\n",
       "      <td>13</td>\n",
       "      <td>F</td>\n",
       "      <td>Y</td>\n",
       "      <td>Y</td>\n",
       "      <td>90000.0</td>\n",
       "      <td>Working</td>\n",
       "      <td>51.9</td>\n",
       "      <td>2.7</td>\n",
       "      <td>1</td>\n",
       "    </tr>\n",
       "    <tr>\n",
       "      <th>...</th>\n",
       "      <td>...</td>\n",
       "      <td>...</td>\n",
       "      <td>...</td>\n",
       "      <td>...</td>\n",
       "      <td>...</td>\n",
       "      <td>...</td>\n",
       "      <td>...</td>\n",
       "      <td>...</td>\n",
       "      <td>...</td>\n",
       "      <td>...</td>\n",
       "    </tr>\n",
       "    <tr>\n",
       "      <th>1020</th>\n",
       "      <td>1020</td>\n",
       "      <td>1540</td>\n",
       "      <td>F</td>\n",
       "      <td>Y</td>\n",
       "      <td>Y</td>\n",
       "      <td>144000.0</td>\n",
       "      <td>Working</td>\n",
       "      <td>35.4</td>\n",
       "      <td>8.0</td>\n",
       "      <td>0</td>\n",
       "    </tr>\n",
       "    <tr>\n",
       "      <th>1021</th>\n",
       "      <td>1021</td>\n",
       "      <td>1542</td>\n",
       "      <td>M</td>\n",
       "      <td>Y</td>\n",
       "      <td>N</td>\n",
       "      <td>360000.0</td>\n",
       "      <td>State servant</td>\n",
       "      <td>30.9</td>\n",
       "      <td>9.7</td>\n",
       "      <td>0</td>\n",
       "    </tr>\n",
       "    <tr>\n",
       "      <th>1022</th>\n",
       "      <td>1022</td>\n",
       "      <td>1544</td>\n",
       "      <td>F</td>\n",
       "      <td>N</td>\n",
       "      <td>N</td>\n",
       "      <td>225000.0</td>\n",
       "      <td>Commercial associate</td>\n",
       "      <td>28.0</td>\n",
       "      <td>3.3</td>\n",
       "      <td>0</td>\n",
       "    </tr>\n",
       "    <tr>\n",
       "      <th>1023</th>\n",
       "      <td>1023</td>\n",
       "      <td>1545</td>\n",
       "      <td>M</td>\n",
       "      <td>Y</td>\n",
       "      <td>Y</td>\n",
       "      <td>180000.0</td>\n",
       "      <td>Working</td>\n",
       "      <td>36.1</td>\n",
       "      <td>6.8</td>\n",
       "      <td>0</td>\n",
       "    </tr>\n",
       "    <tr>\n",
       "      <th>1024</th>\n",
       "      <td>1024</td>\n",
       "      <td>1546</td>\n",
       "      <td>M</td>\n",
       "      <td>Y</td>\n",
       "      <td>N</td>\n",
       "      <td>270000.0</td>\n",
       "      <td>Working</td>\n",
       "      <td>41.9</td>\n",
       "      <td>1.8</td>\n",
       "      <td>0</td>\n",
       "    </tr>\n",
       "  </tbody>\n",
       "</table>\n",
       "<p>1025 rows × 10 columns</p>\n",
       "</div>"
      ],
      "text/plain": [
       "      level_0  index GENDER Car_Owner Property_Owner  Annual_income  \\\n",
       "0           0      8      M         Y              Y       382500.0   \n",
       "1           1      9      M         Y              Y       382500.0   \n",
       "2           2     10      M         Y              Y       382500.0   \n",
       "3           3     11      F         Y              Y        90000.0   \n",
       "4           4     13      F         Y              Y        90000.0   \n",
       "...       ...    ...    ...       ...            ...            ...   \n",
       "1020     1020   1540      F         Y              Y       144000.0   \n",
       "1021     1021   1542      M         Y              N       360000.0   \n",
       "1022     1022   1544      F         N              N       225000.0   \n",
       "1023     1023   1545      M         Y              Y       180000.0   \n",
       "1024     1024   1546      M         Y              N       270000.0   \n",
       "\n",
       "               Type_Income   Age  Employed(in years)  label  \n",
       "0     Commercial associate  49.8                 1.9      1  \n",
       "1                Pensioner  49.8                 1.9      1  \n",
       "2     Commercial associate  49.8                 1.9      1  \n",
       "3                  Working  51.9                 2.7      1  \n",
       "4                  Working  51.9                 2.7      1  \n",
       "...                    ...   ...                 ...    ...  \n",
       "1020               Working  35.4                 8.0      0  \n",
       "1021         State servant  30.9                 9.7      0  \n",
       "1022  Commercial associate  28.0                 3.3      0  \n",
       "1023               Working  36.1                 6.8      0  \n",
       "1024               Working  41.9                 1.8      0  \n",
       "\n",
       "[1025 rows x 10 columns]"
      ]
     },
     "execution_count": 326,
     "metadata": {},
     "output_type": "execute_result"
    }
   ],
   "source": [
    "creditdata2"
   ]
  },
  {
   "cell_type": "code",
   "execution_count": 327,
   "id": "53b5e3c7",
   "metadata": {},
   "outputs": [
    {
     "data": {
      "text/plain": [
       "level_0               1025\n",
       "index                 1025\n",
       "GENDER                   2\n",
       "Car_Owner                2\n",
       "Property_Owner           2\n",
       "Annual_income           71\n",
       "Type_Income              4\n",
       "Age                    339\n",
       "Employed(in years)     178\n",
       "label                    2\n",
       "dtype: int64"
      ]
     },
     "execution_count": 327,
     "metadata": {},
     "output_type": "execute_result"
    }
   ],
   "source": [
    "creditdata2.nunique()"
   ]
  },
  {
   "cell_type": "markdown",
   "id": "f079e84e",
   "metadata": {},
   "source": [
    "## Feature Encoding"
   ]
  },
  {
   "cell_type": "code",
   "execution_count": 432,
   "id": "76fcb634",
   "metadata": {},
   "outputs": [
    {
     "data": {
      "application/javascript": "\n        if (window._pyforest_update_imports_cell) { window._pyforest_update_imports_cell('from sklearn.preprocessing import LabelEncoder'); }\n    ",
      "text/plain": [
       "<IPython.core.display.Javascript object>"
      ]
     },
     "metadata": {},
     "output_type": "display_data"
    }
   ],
   "source": [
    "label_encoder = LabelEncoder()\n",
    "creditdata2[\"GENDER\"] = label_encoder.fit_transform(creditdata2[\"GENDER\"])\n",
    "creditdata2[\"Car_Owner\"] = label_encoder.fit_transform(creditdata2[\"Car_Owner\"])\n",
    "creditdata2[\"Property_Owner\"] = label_encoder.fit_transform(creditdata2[\"Property_Owner\"])\n",
    "creditdata_dummies=pd.get_dummies(data = creditdata2,columns=[\"Type_Income\"],drop_first=1)"
   ]
  },
  {
   "cell_type": "markdown",
   "id": "25acc423",
   "metadata": {},
   "source": [
    "In the above we can see we have used Labelencoder for feature encoding as the used features are having only two unique values."
   ]
  },
  {
   "cell_type": "code",
   "execution_count": 329,
   "id": "38d85c2e",
   "metadata": {},
   "outputs": [
    {
     "data": {
      "text/html": [
       "<div>\n",
       "<style scoped>\n",
       "    .dataframe tbody tr th:only-of-type {\n",
       "        vertical-align: middle;\n",
       "    }\n",
       "\n",
       "    .dataframe tbody tr th {\n",
       "        vertical-align: top;\n",
       "    }\n",
       "\n",
       "    .dataframe thead th {\n",
       "        text-align: right;\n",
       "    }\n",
       "</style>\n",
       "<table border=\"1\" class=\"dataframe\">\n",
       "  <thead>\n",
       "    <tr style=\"text-align: right;\">\n",
       "      <th></th>\n",
       "      <th>level_0</th>\n",
       "      <th>index</th>\n",
       "      <th>GENDER</th>\n",
       "      <th>Car_Owner</th>\n",
       "      <th>Property_Owner</th>\n",
       "      <th>Annual_income</th>\n",
       "      <th>Age</th>\n",
       "      <th>Employed(in years)</th>\n",
       "      <th>label</th>\n",
       "      <th>Type_Income_Pensioner</th>\n",
       "      <th>Type_Income_State servant</th>\n",
       "      <th>Type_Income_Working</th>\n",
       "    </tr>\n",
       "  </thead>\n",
       "  <tbody>\n",
       "    <tr>\n",
       "      <th>0</th>\n",
       "      <td>0</td>\n",
       "      <td>8</td>\n",
       "      <td>1</td>\n",
       "      <td>1</td>\n",
       "      <td>1</td>\n",
       "      <td>382500.0</td>\n",
       "      <td>49.8</td>\n",
       "      <td>1.9</td>\n",
       "      <td>1</td>\n",
       "      <td>0</td>\n",
       "      <td>0</td>\n",
       "      <td>0</td>\n",
       "    </tr>\n",
       "    <tr>\n",
       "      <th>1</th>\n",
       "      <td>1</td>\n",
       "      <td>9</td>\n",
       "      <td>1</td>\n",
       "      <td>1</td>\n",
       "      <td>1</td>\n",
       "      <td>382500.0</td>\n",
       "      <td>49.8</td>\n",
       "      <td>1.9</td>\n",
       "      <td>1</td>\n",
       "      <td>1</td>\n",
       "      <td>0</td>\n",
       "      <td>0</td>\n",
       "    </tr>\n",
       "    <tr>\n",
       "      <th>2</th>\n",
       "      <td>2</td>\n",
       "      <td>10</td>\n",
       "      <td>1</td>\n",
       "      <td>1</td>\n",
       "      <td>1</td>\n",
       "      <td>382500.0</td>\n",
       "      <td>49.8</td>\n",
       "      <td>1.9</td>\n",
       "      <td>1</td>\n",
       "      <td>0</td>\n",
       "      <td>0</td>\n",
       "      <td>0</td>\n",
       "    </tr>\n",
       "    <tr>\n",
       "      <th>3</th>\n",
       "      <td>3</td>\n",
       "      <td>11</td>\n",
       "      <td>0</td>\n",
       "      <td>1</td>\n",
       "      <td>1</td>\n",
       "      <td>90000.0</td>\n",
       "      <td>51.9</td>\n",
       "      <td>2.7</td>\n",
       "      <td>1</td>\n",
       "      <td>0</td>\n",
       "      <td>0</td>\n",
       "      <td>1</td>\n",
       "    </tr>\n",
       "    <tr>\n",
       "      <th>4</th>\n",
       "      <td>4</td>\n",
       "      <td>13</td>\n",
       "      <td>0</td>\n",
       "      <td>1</td>\n",
       "      <td>1</td>\n",
       "      <td>90000.0</td>\n",
       "      <td>51.9</td>\n",
       "      <td>2.7</td>\n",
       "      <td>1</td>\n",
       "      <td>0</td>\n",
       "      <td>0</td>\n",
       "      <td>1</td>\n",
       "    </tr>\n",
       "    <tr>\n",
       "      <th>...</th>\n",
       "      <td>...</td>\n",
       "      <td>...</td>\n",
       "      <td>...</td>\n",
       "      <td>...</td>\n",
       "      <td>...</td>\n",
       "      <td>...</td>\n",
       "      <td>...</td>\n",
       "      <td>...</td>\n",
       "      <td>...</td>\n",
       "      <td>...</td>\n",
       "      <td>...</td>\n",
       "      <td>...</td>\n",
       "    </tr>\n",
       "    <tr>\n",
       "      <th>1020</th>\n",
       "      <td>1020</td>\n",
       "      <td>1540</td>\n",
       "      <td>0</td>\n",
       "      <td>1</td>\n",
       "      <td>1</td>\n",
       "      <td>144000.0</td>\n",
       "      <td>35.4</td>\n",
       "      <td>8.0</td>\n",
       "      <td>0</td>\n",
       "      <td>0</td>\n",
       "      <td>0</td>\n",
       "      <td>1</td>\n",
       "    </tr>\n",
       "    <tr>\n",
       "      <th>1021</th>\n",
       "      <td>1021</td>\n",
       "      <td>1542</td>\n",
       "      <td>1</td>\n",
       "      <td>1</td>\n",
       "      <td>0</td>\n",
       "      <td>360000.0</td>\n",
       "      <td>30.9</td>\n",
       "      <td>9.7</td>\n",
       "      <td>0</td>\n",
       "      <td>0</td>\n",
       "      <td>1</td>\n",
       "      <td>0</td>\n",
       "    </tr>\n",
       "    <tr>\n",
       "      <th>1022</th>\n",
       "      <td>1022</td>\n",
       "      <td>1544</td>\n",
       "      <td>0</td>\n",
       "      <td>0</td>\n",
       "      <td>0</td>\n",
       "      <td>225000.0</td>\n",
       "      <td>28.0</td>\n",
       "      <td>3.3</td>\n",
       "      <td>0</td>\n",
       "      <td>0</td>\n",
       "      <td>0</td>\n",
       "      <td>0</td>\n",
       "    </tr>\n",
       "    <tr>\n",
       "      <th>1023</th>\n",
       "      <td>1023</td>\n",
       "      <td>1545</td>\n",
       "      <td>1</td>\n",
       "      <td>1</td>\n",
       "      <td>1</td>\n",
       "      <td>180000.0</td>\n",
       "      <td>36.1</td>\n",
       "      <td>6.8</td>\n",
       "      <td>0</td>\n",
       "      <td>0</td>\n",
       "      <td>0</td>\n",
       "      <td>1</td>\n",
       "    </tr>\n",
       "    <tr>\n",
       "      <th>1024</th>\n",
       "      <td>1024</td>\n",
       "      <td>1546</td>\n",
       "      <td>1</td>\n",
       "      <td>1</td>\n",
       "      <td>0</td>\n",
       "      <td>270000.0</td>\n",
       "      <td>41.9</td>\n",
       "      <td>1.8</td>\n",
       "      <td>0</td>\n",
       "      <td>0</td>\n",
       "      <td>0</td>\n",
       "      <td>1</td>\n",
       "    </tr>\n",
       "  </tbody>\n",
       "</table>\n",
       "<p>1025 rows × 12 columns</p>\n",
       "</div>"
      ],
      "text/plain": [
       "      level_0  index  GENDER  Car_Owner  Property_Owner  Annual_income   Age  \\\n",
       "0           0      8       1          1               1       382500.0  49.8   \n",
       "1           1      9       1          1               1       382500.0  49.8   \n",
       "2           2     10       1          1               1       382500.0  49.8   \n",
       "3           3     11       0          1               1        90000.0  51.9   \n",
       "4           4     13       0          1               1        90000.0  51.9   \n",
       "...       ...    ...     ...        ...             ...            ...   ...   \n",
       "1020     1020   1540       0          1               1       144000.0  35.4   \n",
       "1021     1021   1542       1          1               0       360000.0  30.9   \n",
       "1022     1022   1544       0          0               0       225000.0  28.0   \n",
       "1023     1023   1545       1          1               1       180000.0  36.1   \n",
       "1024     1024   1546       1          1               0       270000.0  41.9   \n",
       "\n",
       "      Employed(in years)  label  Type_Income_Pensioner  \\\n",
       "0                    1.9      1                      0   \n",
       "1                    1.9      1                      1   \n",
       "2                    1.9      1                      0   \n",
       "3                    2.7      1                      0   \n",
       "4                    2.7      1                      0   \n",
       "...                  ...    ...                    ...   \n",
       "1020                 8.0      0                      0   \n",
       "1021                 9.7      0                      0   \n",
       "1022                 3.3      0                      0   \n",
       "1023                 6.8      0                      0   \n",
       "1024                 1.8      0                      0   \n",
       "\n",
       "      Type_Income_State servant  Type_Income_Working  \n",
       "0                             0                    0  \n",
       "1                             0                    0  \n",
       "2                             0                    0  \n",
       "3                             0                    1  \n",
       "4                             0                    1  \n",
       "...                         ...                  ...  \n",
       "1020                          0                    1  \n",
       "1021                          1                    0  \n",
       "1022                          0                    0  \n",
       "1023                          0                    1  \n",
       "1024                          0                    1  \n",
       "\n",
       "[1025 rows x 12 columns]"
      ]
     },
     "execution_count": 329,
     "metadata": {},
     "output_type": "execute_result"
    }
   ],
   "source": [
    "creditdata_dummies"
   ]
  },
  {
   "cell_type": "code",
   "execution_count": 330,
   "id": "4068c7e8",
   "metadata": {},
   "outputs": [],
   "source": [
    "from sklearn.feature_selection import chi2\n",
    "from sklearn.feature_selection import SelectKBest \n"
   ]
  },
  {
   "cell_type": "markdown",
   "id": "ebebb305",
   "metadata": {},
   "source": [
    "## For better analysis, we will treat X as a dataframe with all input features and Y as a dataframe with just output features from now on."
   ]
  },
  {
   "cell_type": "code",
   "execution_count": 427,
   "id": "2169a6c4",
   "metadata": {},
   "outputs": [],
   "source": [
    "X=creditdata_dummies.drop(columns = ['index','label'])\n",
    "Y=creditdata_dummies['label']"
   ]
  },
  {
   "cell_type": "code",
   "execution_count": 332,
   "id": "58b85a8a",
   "metadata": {},
   "outputs": [],
   "source": [
    "chi_scores = chi2(X,Y)"
   ]
  },
  {
   "cell_type": "code",
   "execution_count": 333,
   "id": "59b13878",
   "metadata": {},
   "outputs": [
    {
     "data": {
      "text/plain": [
       "(array([5.03741455e+04, 3.39311125e+00, 7.52071761e-02, 3.53134018e-01,\n",
       "        1.19411473e+03, 4.85156283e+00, 6.99674946e+01, 2.50422255e+01,\n",
       "        4.42125156e+00, 4.40893880e-01]),\n",
       " array([0.00000000e+000, 6.54693037e-002, 7.83900753e-001, 5.52344377e-001,\n",
       "        1.15967379e-261, 2.76210952e-002, 6.02898176e-017, 5.60884475e-007,\n",
       "        3.54939933e-002, 5.06691333e-001]))"
      ]
     },
     "execution_count": 333,
     "metadata": {},
     "output_type": "execute_result"
    }
   ],
   "source": [
    "chi_scores"
   ]
  },
  {
   "cell_type": "markdown",
   "id": "e3dea2b2",
   "metadata": {},
   "source": [
    "***Here first array represents chi square values and second array represnts p-values***"
   ]
  },
  {
   "cell_type": "markdown",
   "metadata": {},
   "source": [
    "***Null hypothesis (H0): This is the statement that there is no significant difference or relationship between the variables being studied.***\n",
    "\n",
    "***Alternative hypothesis (Ha): This is the statement that there is a significant difference or relationship between the variables being studied.***"
   ]
  },
  {
   "cell_type": "code",
   "execution_count": 334,
   "id": "69bb0480",
   "metadata": {},
   "outputs": [],
   "source": [
    "p_values = pd.Series(chi_scores[1],index = X.columns)\n",
    "p_values.sort_values(ascending = False , inplace = True)"
   ]
  },
  {
   "cell_type": "code",
   "execution_count": 335,
   "id": "06bd1e00",
   "metadata": {},
   "outputs": [
    {
     "data": {
      "text/plain": [
       "<matplotlib.lines.Line2D at 0x1d765424760>"
      ]
     },
     "execution_count": 335,
     "metadata": {},
     "output_type": "execute_result"
    },
    {
     "data": {
      "image/png": "[encoded data removed]",
      "text/plain": [
       "<Figure size 432x288 with 1 Axes>"
      ]
     },
     "metadata": {
      "needs_background": "light"
     },
     "output_type": "display_data"
    }
   ],
   "source": [
    "p_values.plot.bar()\n",
    "plt.axhline(y=0.05, color='r', linestyle='-')"
   ]
  },
  {
   "cell_type": "markdown",
   "id": "6d5a9c72",
   "metadata": {},
   "source": [
    "***P-value helps us determine how likely it is to get a particular result when the null hypothesis is assumed to be true***"
   ]
  },
  {
   "cell_type": "markdown",
   "id": "231cd148",
   "metadata": {},
   "source": [
    "***Here we may observe additional significant features with p-values less than 0.05.***\n",
    "\n",
    ">Gender\n",
    "\n",
    ">Type_Income_State servant\n",
    "\n",
    ">Age\n",
    "\n",
    ">Type_Income_Pensioner\n",
    "\n",
    ">Employed(in years)\n",
    "\n",
    ">Annual_income\n",
    "\n"
   ]
  },
  {
   "cell_type": "code",
   "execution_count": null,
   "id": "2fda0a3f",
   "metadata": {},
   "outputs": [],
   "source": []
  },
  {
   "cell_type": "code",
   "execution_count": null,
   "id": "50b9e661",
   "metadata": {},
   "outputs": [],
   "source": []
  },
  {
   "cell_type": "markdown",
   "id": "14c5eb9d",
   "metadata": {},
   "source": [
    "***We used SelectKBest to choose the features with the best chi-square. We supplied two parameters: one is the scoring metric, chi2, and the other is the value of K, which represents the number of features we want in the final dataset. Fit_transform was used to fit and transform the existing dataset into the desired dataset.*** "
   ]
  },
  {
   "cell_type": "code",
   "execution_count": 336,
   "id": "826c936a",
   "metadata": {},
   "outputs": [],
   "source": [
    "chi2_features = SelectKBest(chi2, k = 4)\n",
    "X_kbest_features = chi2_features.fit_transform(X, Y)"
   ]
  },
  {
   "cell_type": "code",
   "execution_count": 337,
   "id": "8c0c6cff",
   "metadata": {},
   "outputs": [
    {
     "name": "stdout",
     "output_type": "stream",
     "text": [
      "Original feature number: 12\n",
      "Reduced feature number: 4\n"
     ]
    }
   ],
   "source": [
    "print('Original feature number:', creditdata_dummies.shape[1])\n",
    "print('Reduced feature number:', X_kbest_features.shape[1])"
   ]
  },
  {
   "cell_type": "code",
   "execution_count": 338,
   "id": "eaa69c3a",
   "metadata": {},
   "outputs": [
    {
     "data": {
      "text/plain": [
       "array([ True, False, False, False,  True, False,  True,  True, False,\n",
       "       False])"
      ]
     },
     "execution_count": 338,
     "metadata": {},
     "output_type": "execute_result"
    }
   ],
   "source": [
    "chi2_features.get_support()"
   ]
  },
  {
   "cell_type": "code",
   "execution_count": 339,
   "id": "fa75d954",
   "metadata": {},
   "outputs": [
    {
     "data": {
      "text/html": [
       "<div>\n",
       "<style scoped>\n",
       "    .dataframe tbody tr th:only-of-type {\n",
       "        vertical-align: middle;\n",
       "    }\n",
       "\n",
       "    .dataframe tbody tr th {\n",
       "        vertical-align: top;\n",
       "    }\n",
       "\n",
       "    .dataframe thead th {\n",
       "        text-align: right;\n",
       "    }\n",
       "</style>\n",
       "<table border=\"1\" class=\"dataframe\">\n",
       "  <thead>\n",
       "    <tr style=\"text-align: right;\">\n",
       "      <th></th>\n",
       "      <th>level_0</th>\n",
       "      <th>index</th>\n",
       "      <th>GENDER</th>\n",
       "      <th>Car_Owner</th>\n",
       "      <th>Property_Owner</th>\n",
       "      <th>Annual_income</th>\n",
       "      <th>Age</th>\n",
       "      <th>Employed(in years)</th>\n",
       "      <th>label</th>\n",
       "      <th>Type_Income_Pensioner</th>\n",
       "      <th>Type_Income_State servant</th>\n",
       "      <th>Type_Income_Working</th>\n",
       "    </tr>\n",
       "  </thead>\n",
       "  <tbody>\n",
       "    <tr>\n",
       "      <th>0</th>\n",
       "      <td>0</td>\n",
       "      <td>8</td>\n",
       "      <td>1</td>\n",
       "      <td>1</td>\n",
       "      <td>1</td>\n",
       "      <td>382500.0</td>\n",
       "      <td>49.8</td>\n",
       "      <td>1.9</td>\n",
       "      <td>1</td>\n",
       "      <td>0</td>\n",
       "      <td>0</td>\n",
       "      <td>0</td>\n",
       "    </tr>\n",
       "    <tr>\n",
       "      <th>1</th>\n",
       "      <td>1</td>\n",
       "      <td>9</td>\n",
       "      <td>1</td>\n",
       "      <td>1</td>\n",
       "      <td>1</td>\n",
       "      <td>382500.0</td>\n",
       "      <td>49.8</td>\n",
       "      <td>1.9</td>\n",
       "      <td>1</td>\n",
       "      <td>1</td>\n",
       "      <td>0</td>\n",
       "      <td>0</td>\n",
       "    </tr>\n",
       "    <tr>\n",
       "      <th>2</th>\n",
       "      <td>2</td>\n",
       "      <td>10</td>\n",
       "      <td>1</td>\n",
       "      <td>1</td>\n",
       "      <td>1</td>\n",
       "      <td>382500.0</td>\n",
       "      <td>49.8</td>\n",
       "      <td>1.9</td>\n",
       "      <td>1</td>\n",
       "      <td>0</td>\n",
       "      <td>0</td>\n",
       "      <td>0</td>\n",
       "    </tr>\n",
       "    <tr>\n",
       "      <th>3</th>\n",
       "      <td>3</td>\n",
       "      <td>11</td>\n",
       "      <td>0</td>\n",
       "      <td>1</td>\n",
       "      <td>1</td>\n",
       "      <td>90000.0</td>\n",
       "      <td>51.9</td>\n",
       "      <td>2.7</td>\n",
       "      <td>1</td>\n",
       "      <td>0</td>\n",
       "      <td>0</td>\n",
       "      <td>1</td>\n",
       "    </tr>\n",
       "    <tr>\n",
       "      <th>4</th>\n",
       "      <td>4</td>\n",
       "      <td>13</td>\n",
       "      <td>0</td>\n",
       "      <td>1</td>\n",
       "      <td>1</td>\n",
       "      <td>90000.0</td>\n",
       "      <td>51.9</td>\n",
       "      <td>2.7</td>\n",
       "      <td>1</td>\n",
       "      <td>0</td>\n",
       "      <td>0</td>\n",
       "      <td>1</td>\n",
       "    </tr>\n",
       "    <tr>\n",
       "      <th>...</th>\n",
       "      <td>...</td>\n",
       "      <td>...</td>\n",
       "      <td>...</td>\n",
       "      <td>...</td>\n",
       "      <td>...</td>\n",
       "      <td>...</td>\n",
       "      <td>...</td>\n",
       "      <td>...</td>\n",
       "      <td>...</td>\n",
       "      <td>...</td>\n",
       "      <td>...</td>\n",
       "      <td>...</td>\n",
       "    </tr>\n",
       "    <tr>\n",
       "      <th>1020</th>\n",
       "      <td>1020</td>\n",
       "      <td>1540</td>\n",
       "      <td>0</td>\n",
       "      <td>1</td>\n",
       "      <td>1</td>\n",
       "      <td>144000.0</td>\n",
       "      <td>35.4</td>\n",
       "      <td>8.0</td>\n",
       "      <td>0</td>\n",
       "      <td>0</td>\n",
       "      <td>0</td>\n",
       "      <td>1</td>\n",
       "    </tr>\n",
       "    <tr>\n",
       "      <th>1021</th>\n",
       "      <td>1021</td>\n",
       "      <td>1542</td>\n",
       "      <td>1</td>\n",
       "      <td>1</td>\n",
       "      <td>0</td>\n",
       "      <td>360000.0</td>\n",
       "      <td>30.9</td>\n",
       "      <td>9.7</td>\n",
       "      <td>0</td>\n",
       "      <td>0</td>\n",
       "      <td>1</td>\n",
       "      <td>0</td>\n",
       "    </tr>\n",
       "    <tr>\n",
       "      <th>1022</th>\n",
       "      <td>1022</td>\n",
       "      <td>1544</td>\n",
       "      <td>0</td>\n",
       "      <td>0</td>\n",
       "      <td>0</td>\n",
       "      <td>225000.0</td>\n",
       "      <td>28.0</td>\n",
       "      <td>3.3</td>\n",
       "      <td>0</td>\n",
       "      <td>0</td>\n",
       "      <td>0</td>\n",
       "      <td>0</td>\n",
       "    </tr>\n",
       "    <tr>\n",
       "      <th>1023</th>\n",
       "      <td>1023</td>\n",
       "      <td>1545</td>\n",
       "      <td>1</td>\n",
       "      <td>1</td>\n",
       "      <td>1</td>\n",
       "      <td>180000.0</td>\n",
       "      <td>36.1</td>\n",
       "      <td>6.8</td>\n",
       "      <td>0</td>\n",
       "      <td>0</td>\n",
       "      <td>0</td>\n",
       "      <td>1</td>\n",
       "    </tr>\n",
       "    <tr>\n",
       "      <th>1024</th>\n",
       "      <td>1024</td>\n",
       "      <td>1546</td>\n",
       "      <td>1</td>\n",
       "      <td>1</td>\n",
       "      <td>0</td>\n",
       "      <td>270000.0</td>\n",
       "      <td>41.9</td>\n",
       "      <td>1.8</td>\n",
       "      <td>0</td>\n",
       "      <td>0</td>\n",
       "      <td>0</td>\n",
       "      <td>1</td>\n",
       "    </tr>\n",
       "  </tbody>\n",
       "</table>\n",
       "<p>1025 rows × 12 columns</p>\n",
       "</div>"
      ],
      "text/plain": [
       "      level_0  index  GENDER  Car_Owner  Property_Owner  Annual_income   Age  \\\n",
       "0           0      8       1          1               1       382500.0  49.8   \n",
       "1           1      9       1          1               1       382500.0  49.8   \n",
       "2           2     10       1          1               1       382500.0  49.8   \n",
       "3           3     11       0          1               1        90000.0  51.9   \n",
       "4           4     13       0          1               1        90000.0  51.9   \n",
       "...       ...    ...     ...        ...             ...            ...   ...   \n",
       "1020     1020   1540       0          1               1       144000.0  35.4   \n",
       "1021     1021   1542       1          1               0       360000.0  30.9   \n",
       "1022     1022   1544       0          0               0       225000.0  28.0   \n",
       "1023     1023   1545       1          1               1       180000.0  36.1   \n",
       "1024     1024   1546       1          1               0       270000.0  41.9   \n",
       "\n",
       "      Employed(in years)  label  Type_Income_Pensioner  \\\n",
       "0                    1.9      1                      0   \n",
       "1                    1.9      1                      1   \n",
       "2                    1.9      1                      0   \n",
       "3                    2.7      1                      0   \n",
       "4                    2.7      1                      0   \n",
       "...                  ...    ...                    ...   \n",
       "1020                 8.0      0                      0   \n",
       "1021                 9.7      0                      0   \n",
       "1022                 3.3      0                      0   \n",
       "1023                 6.8      0                      0   \n",
       "1024                 1.8      0                      0   \n",
       "\n",
       "      Type_Income_State servant  Type_Income_Working  \n",
       "0                             0                    0  \n",
       "1                             0                    0  \n",
       "2                             0                    0  \n",
       "3                             0                    1  \n",
       "4                             0                    1  \n",
       "...                         ...                  ...  \n",
       "1020                          0                    1  \n",
       "1021                          1                    0  \n",
       "1022                          0                    0  \n",
       "1023                          0                    1  \n",
       "1024                          0                    1  \n",
       "\n",
       "[1025 rows x 12 columns]"
      ]
     },
     "execution_count": 339,
     "metadata": {},
     "output_type": "execute_result"
    }
   ],
   "source": [
    "creditdata_dummies"
   ]
  },
  {
   "cell_type": "markdown",
   "id": "94ed0b41",
   "metadata": {},
   "source": [
    "## ***From above also we can observe that the following features are affecting the output mostly***\n",
    "***Annual_income***\n",
    "\n",
    "***Age***\n",
    "\n",
    "***Employed(in years)***\n",
    "\n",
    "***Type_Income_Pensioner***\n",
    "\n",
    "\n",
    "\n",
    "\n"
   ]
  },
  {
   "cell_type": "code",
   "execution_count": 340,
   "id": "6bdef192",
   "metadata": {},
   "outputs": [],
   "source": [
    "New_X=X.drop(['GENDER','Car_Owner','Property_Owner'],axis =1)\n"
   ]
  },
  {
   "cell_type": "code",
   "execution_count": null,
   "id": "62232df4",
   "metadata": {},
   "outputs": [],
   "source": []
  },
  {
   "cell_type": "markdown",
   "id": "6cf7f599",
   "metadata": {},
   "source": [
    "## 5.Modeling"
   ]
  },
  {
   "cell_type": "markdown",
   "id": "f2885cb2",
   "metadata": {},
   "source": [
    "***Now we have our dataset ready for building a machine learning-based classifier. There are several classification models that can be used for this task. In this analysis, we will build five different types of classification models namely Logistic Regression, Decision Tree, Gradient Boost, XGBoost and, K-Nearest Neighbors (KNN). These are the most popular models used for solving classification problems.***"
   ]
  },
  {
   "cell_type": "code",
   "execution_count": null,
   "id": "e86a01c1",
   "metadata": {},
   "outputs": [],
   "source": []
  },
  {
   "cell_type": "markdown",
   "id": "1bd16521",
   "metadata": {},
   "source": [
    "## 6.Train-Test Split"
   ]
  },
  {
   "cell_type": "code",
   "execution_count": 341,
   "id": "68473e06",
   "metadata": {},
   "outputs": [],
   "source": [
    "from sklearn.model_selection import train_test_split\n",
    "X_train,X_test,Y_train,Y_test = train_test_split(X,Y,test_size = 0.2, random_state = 42)"
   ]
  },
  {
   "cell_type": "markdown",
   "id": "7cf7d580",
   "metadata": {},
   "source": [
    "#### Perform Feature Scaling\n",
    "After we’ve split the dataset into training and testing sets, we’ll perform feature scaling. Feature scaling is the process of standardizing the range of features. It’s an important step because it ensures that all features are given equal importance during training."
   ]
  },
  {
   "cell_type": "code",
   "execution_count": 342,
   "id": "254ed3e7",
   "metadata": {},
   "outputs": [],
   "source": [
    "from sklearn.preprocessing import StandardScaler\n",
    "scaler = StandardScaler()\n",
    "X_train = scaler.fit_transform(X_train)\n",
    "X_test = scaler.transform(X_test)"
   ]
  },
  {
   "cell_type": "code",
   "execution_count": 343,
   "id": "38a107b2",
   "metadata": {},
   "outputs": [],
   "source": [
    "from sklearn.feature_selection import SelectKBest\n",
    "from sklearn.feature_selection import f_classif\n",
    "\n",
    "selector = SelectKBest(f_classif, k='all')\n",
    "X_train = selector.fit_transform(X_train, Y_train)\n",
    "X_test = selector.transform(X_test)"
   ]
  },
  {
   "cell_type": "code",
   "execution_count": 344,
   "id": "3b4318a1",
   "metadata": {},
   "outputs": [
    {
     "data": {
      "text/plain": [
       "array([ True,  True,  True,  True,  True,  True,  True,  True,  True,\n",
       "        True])"
      ]
     },
     "execution_count": 344,
     "metadata": {},
     "output_type": "execute_result"
    }
   ],
   "source": [
    "selector.get_support()"
   ]
  },
  {
   "cell_type": "markdown",
   "id": "722776fa",
   "metadata": {},
   "source": [
    "## 7.Model Training"
   ]
  },
  {
   "cell_type": "markdown",
   "id": "b35f3ba2",
   "metadata": {},
   "source": [
    "#### X value has all the features.\n",
    "#### New_X value which has all features except Gender,car_owner and Property owner .\n"
   ]
  },
  {
   "cell_type": "markdown",
   "id": "5ee1cce7",
   "metadata": {},
   "source": [
    "#### Model: Logistic Regression"
   ]
  },
  {
   "cell_type": "markdown",
   "id": "e81a7108",
   "metadata": {},
   "source": [
    "***Logistic Regression is a statistical and machine learning technique used for binary classification tasks, where the goal is to predict one of two possible outcomes (e.g., yes/no, true/false, 1/0).***"
   ]
  },
  {
   "cell_type": "code",
   "execution_count": 345,
   "id": "335a9acd",
   "metadata": {},
   "outputs": [
    {
     "data": {
      "text/html": [
       "<style>#sk-container-id-13 {color: black;}#sk-container-id-13 pre{padding: 0;}#sk-container-id-13 div.sk-toggleable {background-color: white;}#sk-container-id-13 label.sk-toggleable__label {cursor: pointer;display: block;width: 100%;margin-bottom: 0;padding: 0.3em;box-sizing: border-box;text-align: center;}#sk-container-id-13 label.sk-toggleable__label-arrow:before {content: \"▸\";float: left;margin-right: 0.25em;color: #696969;}#sk-container-id-13 label.sk-toggleable__label-arrow:hover:before {color: black;}#sk-container-id-13 div.sk-estimator:hover label.sk-toggleable__label-arrow:before {color: black;}#sk-container-id-13 div.sk-toggleable__content {max-height: 0;max-width: 0;overflow: hidden;text-align: left;background-color: #f0f8ff;}#sk-container-id-13 div.sk-toggleable__content pre {margin: 0.2em;color: black;border-radius: 0.25em;background-color: #f0f8ff;}#sk-container-id-13 input.sk-toggleable__control:checked~div.sk-toggleable__content {max-height: 200px;max-width: 100%;overflow: auto;}#sk-container-id-13 input.sk-toggleable__control:checked~label.sk-toggleable__label-arrow:before {content: \"▾\";}#sk-container-id-13 div.sk-estimator input.sk-toggleable__control:checked~label.sk-toggleable__label {background-color: #d4ebff;}#sk-container-id-13 div.sk-label input.sk-toggleable__control:checked~label.sk-toggleable__label {background-color: #d4ebff;}#sk-container-id-13 input.sk-hidden--visually {border: 0;clip: rect(1px 1px 1px 1px);clip: rect(1px, 1px, 1px, 1px);height: 1px;margin: -1px;overflow: hidden;padding: 0;position: absolute;width: 1px;}#sk-container-id-13 div.sk-estimator {font-family: monospace;background-color: #f0f8ff;border: 1px dotted black;border-radius: 0.25em;box-sizing: border-box;margin-bottom: 0.5em;}#sk-container-id-13 div.sk-estimator:hover {background-color: #d4ebff;}#sk-container-id-13 div.sk-parallel-item::after {content: \"\";width: 100%;border-bottom: 1px solid gray;flex-grow: 1;}#sk-container-id-13 div.sk-label:hover label.sk-toggleable__label {background-color: #d4ebff;}#sk-container-id-13 div.sk-serial::before {content: \"\";position: absolute;border-left: 1px solid gray;box-sizing: border-box;top: 0;bottom: 0;left: 50%;z-index: 0;}#sk-container-id-13 div.sk-serial {display: flex;flex-direction: column;align-items: center;background-color: white;padding-right: 0.2em;padding-left: 0.2em;position: relative;}#sk-container-id-13 div.sk-item {position: relative;z-index: 1;}#sk-container-id-13 div.sk-parallel {display: flex;align-items: stretch;justify-content: center;background-color: white;position: relative;}#sk-container-id-13 div.sk-item::before, #sk-container-id-13 div.sk-parallel-item::before {content: \"\";position: absolute;border-left: 1px solid gray;box-sizing: border-box;top: 0;bottom: 0;left: 50%;z-index: -1;}#sk-container-id-13 div.sk-parallel-item {display: flex;flex-direction: column;z-index: 1;position: relative;background-color: white;}#sk-container-id-13 div.sk-parallel-item:first-child::after {align-self: flex-end;width: 50%;}#sk-container-id-13 div.sk-parallel-item:last-child::after {align-self: flex-start;width: 50%;}#sk-container-id-13 div.sk-parallel-item:only-child::after {width: 0;}#sk-container-id-13 div.sk-dashed-wrapped {border: 1px dashed gray;margin: 0 0.4em 0.5em 0.4em;box-sizing: border-box;padding-bottom: 0.4em;background-color: white;}#sk-container-id-13 div.sk-label label {font-family: monospace;font-weight: bold;display: inline-block;line-height: 1.2em;}#sk-container-id-13 div.sk-label-container {text-align: center;}#sk-container-id-13 div.sk-container {/* jupyter's `normalize.less` sets `[hidden] { display: none; }` but bootstrap.min.css set `[hidden] { display: none !important; }` so we also need the `!important` here to be able to override the default hidden behavior on the sphinx rendered scikit-learn.org. See: https://github.com/scikit-learn/scikit-learn/issues/21755 */display: inline-block !important;position: relative;}#sk-container-id-13 div.sk-text-repr-fallback {display: none;}</style><div id=\"sk-container-id-13\" class=\"sk-top-container\"><div class=\"sk-text-repr-fallback\"><pre>LogisticRegression()</pre><b>In a Jupyter environment, please rerun this cell to show the HTML representation or trust the notebook. <br />On GitHub, the HTML representation is unable to render, please try loading this page with nbviewer.org.</b></div><div class=\"sk-container\" hidden><div class=\"sk-item\"><div class=\"sk-estimator sk-toggleable\"><input class=\"sk-toggleable__control sk-hidden--visually\" id=\"sk-estimator-id-13\" type=\"checkbox\" checked><label for=\"sk-estimator-id-13\" class=\"sk-toggleable__label sk-toggleable__label-arrow\">LogisticRegression</label><div class=\"sk-toggleable__content\"><pre>LogisticRegression()</pre></div></div></div></div></div>"
      ],
      "text/plain": [
       "LogisticRegression()"
      ]
     },
     "execution_count": 345,
     "metadata": {},
     "output_type": "execute_result"
    }
   ],
   "source": [
    "from sklearn.linear_model import LogisticRegression\n",
    "\n",
    "model1 = LogisticRegression()\n",
    "model1.fit(X_train, Y_train)"
   ]
  },
  {
   "cell_type": "code",
   "execution_count": 346,
   "id": "40268fd7",
   "metadata": {},
   "outputs": [
    {
     "name": "stdout",
     "output_type": "stream",
     "text": [
      "Accuracy: 0.9853658536585366\n"
     ]
    }
   ],
   "source": [
    "from sklearn.metrics import accuracy_score\n",
    "\n",
    "y_pred = model1.predict(X_test)\n",
    "accuracyl1 = accuracy_score(Y_test, y_pred)\n",
    "print(\"Accuracy:\", accuracyl1)"
   ]
  },
  {
   "cell_type": "markdown",
   "id": "bb8748ba",
   "metadata": {},
   "source": [
    "#### Logisticregression with New_X"
   ]
  },
  {
   "cell_type": "code",
   "execution_count": 347,
   "id": "e5faad6b",
   "metadata": {},
   "outputs": [
    {
     "name": "stdout",
     "output_type": "stream",
     "text": [
      "Accuracy: 0.9837662337662337\n"
     ]
    },
    {
     "name": "stderr",
     "output_type": "stream",
     "text": [
      "C:\\Users\\ASUS\\anaconda3\\lib\\site-packages\\sklearn\\linear_model\\_logistic.py:460: ConvergenceWarning: lbfgs failed to converge (status=1):\n",
      "STOP: TOTAL NO. of ITERATIONS REACHED LIMIT.\n",
      "\n",
      "Increase the number of iterations (max_iter) or scale the data as shown in:\n",
      "    https://scikit-learn.org/stable/modules/preprocessing.html\n",
      "Please also refer to the documentation for alternative solver options:\n",
      "    https://scikit-learn.org/stable/modules/linear_model.html#logistic-regression\n",
      "  n_iter_i = _check_optimize_result(\n"
     ]
    }
   ],
   "source": [
    "from sklearn.model_selection import train_test_split\n",
    "X_train2,X_test2,Y_train2,Y_test2 = train_test_split(New_X,Y,test_size = 0.3, random_state = 42)\n",
    "model1.fit(X_train2,Y_train2)\n",
    "y_pred2 = model1.predict(X_test2)\n",
    "\n",
    "from sklearn.metrics import accuracy_score\n",
    "\n",
    "y_pred = model1.predict(X_test2)\n",
    "accuracyl2 = accuracy_score(Y_test2, y_pred2)\n",
    "print(\"Accuracy:\", accuracyl2)"
   ]
  },
  {
   "cell_type": "code",
   "execution_count": null,
   "id": "d371504a",
   "metadata": {},
   "outputs": [],
   "source": []
  },
  {
   "cell_type": "markdown",
   "id": "7d63239a",
   "metadata": {},
   "source": [
    "#### Model: Decision Tree"
   ]
  },
  {
   "cell_type": "markdown",
   "id": "24ecb58e",
   "metadata": {},
   "source": [
    "***A Decision Tree is a popular supervised machine learning algorithm used for both classification and regression tasks. It works by recursively partitioning the data into subsets based on the values of input features.***"
   ]
  },
  {
   "cell_type": "code",
   "execution_count": 348,
   "id": "73cc388e",
   "metadata": {},
   "outputs": [],
   "source": [
    "from sklearn import tree"
   ]
  },
  {
   "cell_type": "code",
   "execution_count": 349,
   "id": "fd1dacb4",
   "metadata": {},
   "outputs": [],
   "source": [
    "model2 = tree.DecisionTreeClassifier()"
   ]
  },
  {
   "cell_type": "code",
   "execution_count": 350,
   "id": "7c006565",
   "metadata": {},
   "outputs": [],
   "source": [
    "from sklearn.model_selection import train_test_split\n",
    "X_train1,X_test1,Y_train1,Y_test1 = train_test_split(X,Y,test_size = 0.3, random_state = 42)"
   ]
  },
  {
   "cell_type": "code",
   "execution_count": 351,
   "id": "4e29b303",
   "metadata": {},
   "outputs": [
    {
     "data": {
      "text/html": [
       "<style>#sk-container-id-14 {color: black;}#sk-container-id-14 pre{padding: 0;}#sk-container-id-14 div.sk-toggleable {background-color: white;}#sk-container-id-14 label.sk-toggleable__label {cursor: pointer;display: block;width: 100%;margin-bottom: 0;padding: 0.3em;box-sizing: border-box;text-align: center;}#sk-container-id-14 label.sk-toggleable__label-arrow:before {content: \"▸\";float: left;margin-right: 0.25em;color: #696969;}#sk-container-id-14 label.sk-toggleable__label-arrow:hover:before {color: black;}#sk-container-id-14 div.sk-estimator:hover label.sk-toggleable__label-arrow:before {color: black;}#sk-container-id-14 div.sk-toggleable__content {max-height: 0;max-width: 0;overflow: hidden;text-align: left;background-color: #f0f8ff;}#sk-container-id-14 div.sk-toggleable__content pre {margin: 0.2em;color: black;border-radius: 0.25em;background-color: #f0f8ff;}#sk-container-id-14 input.sk-toggleable__control:checked~div.sk-toggleable__content {max-height: 200px;max-width: 100%;overflow: auto;}#sk-container-id-14 input.sk-toggleable__control:checked~label.sk-toggleable__label-arrow:before {content: \"▾\";}#sk-container-id-14 div.sk-estimator input.sk-toggleable__control:checked~label.sk-toggleable__label {background-color: #d4ebff;}#sk-container-id-14 div.sk-label input.sk-toggleable__control:checked~label.sk-toggleable__label {background-color: #d4ebff;}#sk-container-id-14 input.sk-hidden--visually {border: 0;clip: rect(1px 1px 1px 1px);clip: rect(1px, 1px, 1px, 1px);height: 1px;margin: -1px;overflow: hidden;padding: 0;position: absolute;width: 1px;}#sk-container-id-14 div.sk-estimator {font-family: monospace;background-color: #f0f8ff;border: 1px dotted black;border-radius: 0.25em;box-sizing: border-box;margin-bottom: 0.5em;}#sk-container-id-14 div.sk-estimator:hover {background-color: #d4ebff;}#sk-container-id-14 div.sk-parallel-item::after {content: \"\";width: 100%;border-bottom: 1px solid gray;flex-grow: 1;}#sk-container-id-14 div.sk-label:hover label.sk-toggleable__label {background-color: #d4ebff;}#sk-container-id-14 div.sk-serial::before {content: \"\";position: absolute;border-left: 1px solid gray;box-sizing: border-box;top: 0;bottom: 0;left: 50%;z-index: 0;}#sk-container-id-14 div.sk-serial {display: flex;flex-direction: column;align-items: center;background-color: white;padding-right: 0.2em;padding-left: 0.2em;position: relative;}#sk-container-id-14 div.sk-item {position: relative;z-index: 1;}#sk-container-id-14 div.sk-parallel {display: flex;align-items: stretch;justify-content: center;background-color: white;position: relative;}#sk-container-id-14 div.sk-item::before, #sk-container-id-14 div.sk-parallel-item::before {content: \"\";position: absolute;border-left: 1px solid gray;box-sizing: border-box;top: 0;bottom: 0;left: 50%;z-index: -1;}#sk-container-id-14 div.sk-parallel-item {display: flex;flex-direction: column;z-index: 1;position: relative;background-color: white;}#sk-container-id-14 div.sk-parallel-item:first-child::after {align-self: flex-end;width: 50%;}#sk-container-id-14 div.sk-parallel-item:last-child::after {align-self: flex-start;width: 50%;}#sk-container-id-14 div.sk-parallel-item:only-child::after {width: 0;}#sk-container-id-14 div.sk-dashed-wrapped {border: 1px dashed gray;margin: 0 0.4em 0.5em 0.4em;box-sizing: border-box;padding-bottom: 0.4em;background-color: white;}#sk-container-id-14 div.sk-label label {font-family: monospace;font-weight: bold;display: inline-block;line-height: 1.2em;}#sk-container-id-14 div.sk-label-container {text-align: center;}#sk-container-id-14 div.sk-container {/* jupyter's `normalize.less` sets `[hidden] { display: none; }` but bootstrap.min.css set `[hidden] { display: none !important; }` so we also need the `!important` here to be able to override the default hidden behavior on the sphinx rendered scikit-learn.org. See: https://github.com/scikit-learn/scikit-learn/issues/21755 */display: inline-block !important;position: relative;}#sk-container-id-14 div.sk-text-repr-fallback {display: none;}</style><div id=\"sk-container-id-14\" class=\"sk-top-container\"><div class=\"sk-text-repr-fallback\"><pre>DecisionTreeClassifier()</pre><b>In a Jupyter environment, please rerun this cell to show the HTML representation or trust the notebook. <br />On GitHub, the HTML representation is unable to render, please try loading this page with nbviewer.org.</b></div><div class=\"sk-container\" hidden><div class=\"sk-item\"><div class=\"sk-estimator sk-toggleable\"><input class=\"sk-toggleable__control sk-hidden--visually\" id=\"sk-estimator-id-14\" type=\"checkbox\" checked><label for=\"sk-estimator-id-14\" class=\"sk-toggleable__label sk-toggleable__label-arrow\">DecisionTreeClassifier</label><div class=\"sk-toggleable__content\"><pre>DecisionTreeClassifier()</pre></div></div></div></div></div>"
      ],
      "text/plain": [
       "DecisionTreeClassifier()"
      ]
     },
     "execution_count": 351,
     "metadata": {},
     "output_type": "execute_result"
    }
   ],
   "source": [
    "model2.fit(X_train1,Y_train1)"
   ]
  },
  {
   "cell_type": "code",
   "execution_count": 352,
   "id": "c63255f8",
   "metadata": {},
   "outputs": [],
   "source": [
    "y_pred1 = model2.predict(X_test1)\n"
   ]
  },
  {
   "cell_type": "markdown",
   "id": "1906ae60",
   "metadata": {},
   "source": [
    "***Accuracy Score For Decision tree***"
   ]
  },
  {
   "cell_type": "code",
   "execution_count": 353,
   "id": "e113b8cb",
   "metadata": {},
   "outputs": [
    {
     "name": "stdout",
     "output_type": "stream",
     "text": [
      "Accuracy: 1.0\n"
     ]
    }
   ],
   "source": [
    "from sklearn.metrics import accuracy_score\n",
    "accuracyd1=accuracy_score(Y_test1, y_pred1)\n",
    "print(f'Accuracy: {accuracyd1}')"
   ]
  },
  {
   "cell_type": "markdown",
   "id": "a5cdc02b",
   "metadata": {},
   "source": [
    "#### Decisiontree  with New_X"
   ]
  },
  {
   "cell_type": "code",
   "execution_count": 354,
   "id": "7f2106d6",
   "metadata": {},
   "outputs": [
    {
     "name": "stdout",
     "output_type": "stream",
     "text": [
      "Accuracy: 1.0\n"
     ]
    }
   ],
   "source": [
    "model2 = tree.DecisionTreeClassifier()\n",
    "from sklearn.model_selection import train_test_split\n",
    "X_train3,X_test3,Y_train3,Y_test3 = train_test_split(New_X,Y,test_size = 0.3, random_state = 42)\n",
    "model2.fit(X_train3,Y_train3)\n",
    "y_pred3=model2.predict(X_test3)\n",
    "from sklearn.metrics import accuracy_score\n",
    "accuracyd2=accuracy_score(Y_test3,y_pred3)\n",
    "print(f'Accuracy: {accuracyd2}')"
   ]
  },
  {
   "cell_type": "markdown",
   "id": "650f472d",
   "metadata": {},
   "source": [
    "#### Model:XGBoost "
   ]
  },
  {
   "cell_type": "markdown",
   "id": "06b7c231",
   "metadata": {},
   "source": [
    "We built this model using the XGBClassifier algorithm provided by the XGBoost package. Using the XGBoost model with default values for hyperparameters, we obtained an accuracy of ***90%*** on the test dataset."
   ]
  },
  {
   "cell_type": "markdown",
   "id": "99e8b50d",
   "metadata": {},
   "source": [
    "#### XGBoost with Original X"
   ]
  },
  {
   "cell_type": "code",
   "execution_count": 355,
   "id": "3adb6e57",
   "metadata": {},
   "outputs": [
    {
     "name": "stdout",
     "output_type": "stream",
     "text": [
      "Train score: 1.0 Test score: 1.0\n"
     ]
    }
   ],
   "source": [
    "# fit model to training data\n",
    "import xgboost as xgb\n",
    "model3 = xgb.XGBClassifier()\n",
    "model3.fit(X_train, Y_train)\n",
    "\n",
    "train_predict = model3.predict(X_train)\n",
    "test_predict = model3.predict(X_test)\n",
    "\n",
    "test_acc = accuracy_score(Y_test, test_predict)\n",
    "train_acc = accuracy_score(Y_train, train_predict)\n",
    "print('Train score:',train_acc,'Test score:',test_acc)"
   ]
  },
  {
   "cell_type": "markdown",
   "id": "8e095866",
   "metadata": {},
   "source": [
    "***Here we are using only the relevant features for model training and the accuracy score is 90.***"
   ]
  },
  {
   "cell_type": "markdown",
   "id": "12197639",
   "metadata": {},
   "source": [
    "#### XGBoost with New_X"
   ]
  },
  {
   "cell_type": "code",
   "execution_count": 356,
   "id": "a3389306",
   "metadata": {},
   "outputs": [
    {
     "name": "stdout",
     "output_type": "stream",
     "text": [
      "Train score: 1.0 Test score: 1.0\n"
     ]
    }
   ],
   "source": [
    "# fit model to training data\n",
    "import xgboost as xgb\n",
    "model3 = xgb.XGBClassifier()\n",
    "model3.fit(X_train3, Y_train3)\n",
    "\n",
    "train_predict = model3.predict(X_train3)\n",
    "test_predict = model3.predict(X_test3)\n",
    "\n",
    "test_acc2 = accuracy_score(Y_test3, test_predict)\n",
    "train_acc = accuracy_score(Y_train3, train_predict)\n",
    "print('Train score:',train_acc,'Test score:',test_acc2)"
   ]
  },
  {
   "cell_type": "code",
   "execution_count": null,
   "id": "7189fcb5",
   "metadata": {},
   "outputs": [],
   "source": []
  },
  {
   "cell_type": "markdown",
   "id": "5081dd1c",
   "metadata": {},
   "source": [
    "#### Model:KNN"
   ]
  },
  {
   "cell_type": "markdown",
   "id": "313388ff",
   "metadata": {},
   "source": [
    "***K-Nearest Neighbors (KNN) is a simple and intuitive machine learning algorithm used for classification and regression tasks***"
   ]
  },
  {
   "cell_type": "markdown",
   "id": "0cd08419",
   "metadata": {},
   "source": [
    "***Original X Value***"
   ]
  },
  {
   "cell_type": "code",
   "execution_count": 357,
   "id": "d9f2f2d4",
   "metadata": {},
   "outputs": [
    {
     "name": "stdout",
     "output_type": "stream",
     "text": [
      "label Train score: 0.9426829268292682 Test score: 0.9317073170731708\n"
     ]
    }
   ],
   "source": [
    "from sklearn.neighbors import KNeighborsClassifier\n",
    "knn =KNeighborsClassifier()\n",
    "knn.fit(X_train,Y_train)\n",
    "train_predict = knn.predict(X_train)\n",
    "test_predict = knn.predict(X_test)\n",
    "test_acck1 = accuracy_score(Y_test, test_predict)\n",
    "train_acc = accuracy_score(Y_train, train_predict)\n",
    "\n",
    "print(i,'Train score:',train_acc,'Test score:',test_acck1)"
   ]
  },
  {
   "cell_type": "markdown",
   "id": "7bf9b5a6",
   "metadata": {},
   "source": [
    "***With New X value***"
   ]
  },
  {
   "cell_type": "code",
   "execution_count": 358,
   "id": "2a393643",
   "metadata": {},
   "outputs": [
    {
     "name": "stdout",
     "output_type": "stream",
     "text": [
      "label Train score: 0.9707112970711297 Test score: 0.9675324675324676\n"
     ]
    }
   ],
   "source": [
    "from sklearn.neighbors import KNeighborsClassifier\n",
    "knn =KNeighborsClassifier()\n",
    "knn.fit(X_train3,Y_train3)\n",
    "train_predict = knn.predict(X_train3)\n",
    "test_predict = knn.predict(X_test3)\n",
    "test_acck2 = accuracy_score(Y_test3, test_predict)\n",
    "train_acc = accuracy_score(Y_train3, train_predict)\n",
    "\n",
    "print(i,'Train score:',train_acc,'Test score:',test_acck2)"
   ]
  },
  {
   "cell_type": "markdown",
   "id": "f1a60b4f",
   "metadata": {},
   "source": [
    "#### Model: Random Forest "
   ]
  },
  {
   "cell_type": "markdown",
   "id": "549277f6",
   "metadata": {},
   "source": [
    "***A Random Forest model is an ensemble machine learning technique that combines multiple decision trees to make more accurate and robust predictions.***"
   ]
  },
  {
   "cell_type": "markdown",
   "id": "22ea9ee2",
   "metadata": {},
   "source": [
    "***Original X Value***"
   ]
  },
  {
   "cell_type": "code",
   "execution_count": 359,
   "id": "2ad5d880",
   "metadata": {},
   "outputs": [
    {
     "name": "stdout",
     "output_type": "stream",
     "text": [
      "Accuracy: 1.0\n"
     ]
    }
   ],
   "source": [
    "from sklearn.ensemble import RandomForestClassifier\n",
    "rf = RandomForestClassifier()\n",
    "rf.fit(X_train, Y_train)\n",
    "y_pred = rf.predict(X_test)\n",
    "accuracyR1 = accuracy_score(Y_test, y_pred)\n",
    "print(\"Accuracy:\", accuracyR1)"
   ]
  },
  {
   "cell_type": "markdown",
   "id": "8bffc9d9",
   "metadata": {},
   "source": [
    "***With New X value***"
   ]
  },
  {
   "cell_type": "code",
   "execution_count": 360,
   "id": "0a250b31",
   "metadata": {},
   "outputs": [
    {
     "name": "stdout",
     "output_type": "stream",
     "text": [
      "Accuracy: 1.0\n"
     ]
    }
   ],
   "source": [
    "from sklearn.ensemble import RandomForestClassifier\n",
    "rf = RandomForestClassifier()\n",
    "rf.fit(X_train3, Y_train3)\n",
    "y_pred = rf.predict(X_test3)\n",
    "accuracyR2 = accuracy_score(Y_test3, y_pred)\n",
    "print(\"Accuracy:\", accuracyR2)"
   ]
  },
  {
   "cell_type": "markdown",
   "id": "5276b2db",
   "metadata": {},
   "source": [
    "#### Now for comparison we will put the results in a Dataframe "
   ]
  },
  {
   "cell_type": "code",
   "execution_count": 361,
   "id": "f4d9600c",
   "metadata": {},
   "outputs": [],
   "source": [
    "results = {'Logistic Regression':round(accuracyl1*100,2),\n",
    "          'Decision tree':round(accuracyd1*100,2),\n",
    "          'XG Boost':round(test_acc*100,2),\n",
    "          'KNN':round(test_acck1*100,2),\n",
    "          'Random Forest':round(accuracyR1*100,2)}"
   ]
  },
  {
   "cell_type": "code",
   "execution_count": 362,
   "id": "e53aa10b",
   "metadata": {},
   "outputs": [],
   "source": [
    "result=pd.DataFrame(results,index = [0])"
   ]
  },
  {
   "cell_type": "code",
   "execution_count": 363,
   "id": "9bf0b028",
   "metadata": {},
   "outputs": [
    {
     "data": {
      "text/html": [
       "<div>\n",
       "<style scoped>\n",
       "    .dataframe tbody tr th:only-of-type {\n",
       "        vertical-align: middle;\n",
       "    }\n",
       "\n",
       "    .dataframe tbody tr th {\n",
       "        vertical-align: top;\n",
       "    }\n",
       "\n",
       "    .dataframe thead th {\n",
       "        text-align: right;\n",
       "    }\n",
       "</style>\n",
       "<table border=\"1\" class=\"dataframe\">\n",
       "  <thead>\n",
       "    <tr style=\"text-align: right;\">\n",
       "      <th></th>\n",
       "      <th>0</th>\n",
       "    </tr>\n",
       "  </thead>\n",
       "  <tbody>\n",
       "    <tr>\n",
       "      <th>Logistic Regression</th>\n",
       "      <td>98.54</td>\n",
       "    </tr>\n",
       "    <tr>\n",
       "      <th>Decision tree</th>\n",
       "      <td>100.00</td>\n",
       "    </tr>\n",
       "    <tr>\n",
       "      <th>XG Boost</th>\n",
       "      <td>100.00</td>\n",
       "    </tr>\n",
       "    <tr>\n",
       "      <th>KNN</th>\n",
       "      <td>93.17</td>\n",
       "    </tr>\n",
       "    <tr>\n",
       "      <th>Random Forest</th>\n",
       "      <td>100.00</td>\n",
       "    </tr>\n",
       "  </tbody>\n",
       "</table>\n",
       "</div>"
      ],
      "text/plain": [
       "                          0\n",
       "Logistic Regression   98.54\n",
       "Decision tree        100.00\n",
       "XG Boost             100.00\n",
       "KNN                   93.17\n",
       "Random Forest        100.00"
      ]
     },
     "execution_count": 363,
     "metadata": {},
     "output_type": "execute_result"
    }
   ],
   "source": [
    "result=result.transpose()\n",
    "result"
   ]
  },
  {
   "cell_type": "code",
   "execution_count": 364,
   "id": "7eb6ffd1",
   "metadata": {},
   "outputs": [],
   "source": [
    "result.rename(columns = {0:'Accuracy(in Percentage)'},inplace = True)"
   ]
  },
  {
   "cell_type": "code",
   "execution_count": 365,
   "id": "a560c460",
   "metadata": {},
   "outputs": [
    {
     "data": {
      "text/html": [
       "<div>\n",
       "<style scoped>\n",
       "    .dataframe tbody tr th:only-of-type {\n",
       "        vertical-align: middle;\n",
       "    }\n",
       "\n",
       "    .dataframe tbody tr th {\n",
       "        vertical-align: top;\n",
       "    }\n",
       "\n",
       "    .dataframe thead th {\n",
       "        text-align: right;\n",
       "    }\n",
       "</style>\n",
       "<table border=\"1\" class=\"dataframe\">\n",
       "  <thead>\n",
       "    <tr style=\"text-align: right;\">\n",
       "      <th></th>\n",
       "      <th>Accuracy(in Percentage)</th>\n",
       "    </tr>\n",
       "  </thead>\n",
       "  <tbody>\n",
       "    <tr>\n",
       "      <th>Logistic Regression</th>\n",
       "      <td>98.54</td>\n",
       "    </tr>\n",
       "    <tr>\n",
       "      <th>Decision tree</th>\n",
       "      <td>100.00</td>\n",
       "    </tr>\n",
       "    <tr>\n",
       "      <th>XG Boost</th>\n",
       "      <td>100.00</td>\n",
       "    </tr>\n",
       "    <tr>\n",
       "      <th>KNN</th>\n",
       "      <td>93.17</td>\n",
       "    </tr>\n",
       "    <tr>\n",
       "      <th>Random Forest</th>\n",
       "      <td>100.00</td>\n",
       "    </tr>\n",
       "  </tbody>\n",
       "</table>\n",
       "</div>"
      ],
      "text/plain": [
       "                     Accuracy(in Percentage)\n",
       "Logistic Regression                    98.54\n",
       "Decision tree                         100.00\n",
       "XG Boost                              100.00\n",
       "KNN                                    93.17\n",
       "Random Forest                         100.00"
      ]
     },
     "execution_count": 365,
     "metadata": {},
     "output_type": "execute_result"
    }
   ],
   "source": [
    "result"
   ]
  },
  {
   "cell_type": "markdown",
   "id": "63e3661b",
   "metadata": {},
   "source": [
    "## Conclusion"
   ]
  },
  {
   "cell_type": "markdown",
   "id": "a1faec23",
   "metadata": {},
   "source": [
    "Following analysis and model construction, it is discovered that the dataset is unbalanced, resulting in less accurate model results.Oversampling will be performed on the dataset to address this imbalancing."
   ]
  },
  {
   "cell_type": "code",
   "execution_count": null,
   "id": "c8de56b4",
   "metadata": {},
   "outputs": [],
   "source": []
  },
  {
   "cell_type": "markdown",
   "id": "8683f7d1",
   "metadata": {},
   "source": [
    "*************************************\n",
    "***To rectify imbalanced data we will be using Over-sampling to check if it has any sigificant effects on the model results.***\n",
    "*************************************"
   ]
  },
  {
   "cell_type": "markdown",
   "id": "e69bbb81",
   "metadata": {},
   "source": [
    "## Over-sampling using SMOTE"
   ]
  },
  {
   "cell_type": "markdown",
   "id": "bdf26f8e",
   "metadata": {},
   "source": [
    "Applying reset_index to  have a index column "
   ]
  },
  {
   "cell_type": "code",
   "execution_count": 366,
   "id": "4743c419",
   "metadata": {},
   "outputs": [],
   "source": [
    "##creditdata_dummies.drop(columns=['level_0','index'],inplace = True)"
   ]
  },
  {
   "cell_type": "code",
   "execution_count": 367,
   "id": "d29906db",
   "metadata": {},
   "outputs": [],
   "source": [
    "##creditdata_dummies.reset_index(inplace =True)"
   ]
  },
  {
   "cell_type": "code",
   "execution_count": 368,
   "id": "f9648087",
   "metadata": {},
   "outputs": [
    {
     "data": {
      "text/html": [
       "<div>\n",
       "<style scoped>\n",
       "    .dataframe tbody tr th:only-of-type {\n",
       "        vertical-align: middle;\n",
       "    }\n",
       "\n",
       "    .dataframe tbody tr th {\n",
       "        vertical-align: top;\n",
       "    }\n",
       "\n",
       "    .dataframe thead th {\n",
       "        text-align: right;\n",
       "    }\n",
       "</style>\n",
       "<table border=\"1\" class=\"dataframe\">\n",
       "  <thead>\n",
       "    <tr style=\"text-align: right;\">\n",
       "      <th></th>\n",
       "      <th>level_0</th>\n",
       "      <th>index</th>\n",
       "      <th>GENDER</th>\n",
       "      <th>Car_Owner</th>\n",
       "      <th>Property_Owner</th>\n",
       "      <th>Annual_income</th>\n",
       "      <th>Age</th>\n",
       "      <th>Employed(in years)</th>\n",
       "      <th>label</th>\n",
       "      <th>Type_Income_Pensioner</th>\n",
       "      <th>Type_Income_State servant</th>\n",
       "      <th>Type_Income_Working</th>\n",
       "    </tr>\n",
       "  </thead>\n",
       "  <tbody>\n",
       "    <tr>\n",
       "      <th>0</th>\n",
       "      <td>0</td>\n",
       "      <td>8</td>\n",
       "      <td>1</td>\n",
       "      <td>1</td>\n",
       "      <td>1</td>\n",
       "      <td>382500.0</td>\n",
       "      <td>49.8</td>\n",
       "      <td>1.9</td>\n",
       "      <td>1</td>\n",
       "      <td>0</td>\n",
       "      <td>0</td>\n",
       "      <td>0</td>\n",
       "    </tr>\n",
       "    <tr>\n",
       "      <th>1</th>\n",
       "      <td>1</td>\n",
       "      <td>9</td>\n",
       "      <td>1</td>\n",
       "      <td>1</td>\n",
       "      <td>1</td>\n",
       "      <td>382500.0</td>\n",
       "      <td>49.8</td>\n",
       "      <td>1.9</td>\n",
       "      <td>1</td>\n",
       "      <td>1</td>\n",
       "      <td>0</td>\n",
       "      <td>0</td>\n",
       "    </tr>\n",
       "    <tr>\n",
       "      <th>2</th>\n",
       "      <td>2</td>\n",
       "      <td>10</td>\n",
       "      <td>1</td>\n",
       "      <td>1</td>\n",
       "      <td>1</td>\n",
       "      <td>382500.0</td>\n",
       "      <td>49.8</td>\n",
       "      <td>1.9</td>\n",
       "      <td>1</td>\n",
       "      <td>0</td>\n",
       "      <td>0</td>\n",
       "      <td>0</td>\n",
       "    </tr>\n",
       "    <tr>\n",
       "      <th>3</th>\n",
       "      <td>3</td>\n",
       "      <td>11</td>\n",
       "      <td>0</td>\n",
       "      <td>1</td>\n",
       "      <td>1</td>\n",
       "      <td>90000.0</td>\n",
       "      <td>51.9</td>\n",
       "      <td>2.7</td>\n",
       "      <td>1</td>\n",
       "      <td>0</td>\n",
       "      <td>0</td>\n",
       "      <td>1</td>\n",
       "    </tr>\n",
       "    <tr>\n",
       "      <th>4</th>\n",
       "      <td>4</td>\n",
       "      <td>13</td>\n",
       "      <td>0</td>\n",
       "      <td>1</td>\n",
       "      <td>1</td>\n",
       "      <td>90000.0</td>\n",
       "      <td>51.9</td>\n",
       "      <td>2.7</td>\n",
       "      <td>1</td>\n",
       "      <td>0</td>\n",
       "      <td>0</td>\n",
       "      <td>1</td>\n",
       "    </tr>\n",
       "  </tbody>\n",
       "</table>\n",
       "</div>"
      ],
      "text/plain": [
       "   level_0  index  GENDER  Car_Owner  Property_Owner  Annual_income   Age  \\\n",
       "0        0      8       1          1               1       382500.0  49.8   \n",
       "1        1      9       1          1               1       382500.0  49.8   \n",
       "2        2     10       1          1               1       382500.0  49.8   \n",
       "3        3     11       0          1               1        90000.0  51.9   \n",
       "4        4     13       0          1               1        90000.0  51.9   \n",
       "\n",
       "   Employed(in years)  label  Type_Income_Pensioner  \\\n",
       "0                 1.9      1                      0   \n",
       "1                 1.9      1                      1   \n",
       "2                 1.9      1                      0   \n",
       "3                 2.7      1                      0   \n",
       "4                 2.7      1                      0   \n",
       "\n",
       "   Type_Income_State servant  Type_Income_Working  \n",
       "0                          0                    0  \n",
       "1                          0                    0  \n",
       "2                          0                    0  \n",
       "3                          0                    1  \n",
       "4                          0                    1  "
      ]
     },
     "execution_count": 368,
     "metadata": {},
     "output_type": "execute_result"
    }
   ],
   "source": [
    "creditdata_dummies.head()"
   ]
  },
  {
   "cell_type": "code",
   "execution_count": 369,
   "id": "ff2c5fb6",
   "metadata": {},
   "outputs": [
    {
     "data": {
      "text/html": [
       "<div>\n",
       "<style scoped>\n",
       "    .dataframe tbody tr th:only-of-type {\n",
       "        vertical-align: middle;\n",
       "    }\n",
       "\n",
       "    .dataframe tbody tr th {\n",
       "        vertical-align: top;\n",
       "    }\n",
       "\n",
       "    .dataframe thead th {\n",
       "        text-align: right;\n",
       "    }\n",
       "</style>\n",
       "<table border=\"1\" class=\"dataframe\">\n",
       "  <thead>\n",
       "    <tr style=\"text-align: right;\">\n",
       "      <th></th>\n",
       "      <th>level_0</th>\n",
       "      <th>GENDER</th>\n",
       "      <th>Car_Owner</th>\n",
       "      <th>Property_Owner</th>\n",
       "      <th>Annual_income</th>\n",
       "      <th>Age</th>\n",
       "      <th>Employed(in years)</th>\n",
       "      <th>Type_Income_Pensioner</th>\n",
       "      <th>Type_Income_State servant</th>\n",
       "      <th>Type_Income_Working</th>\n",
       "    </tr>\n",
       "  </thead>\n",
       "  <tbody>\n",
       "    <tr>\n",
       "      <th>0</th>\n",
       "      <td>0</td>\n",
       "      <td>1</td>\n",
       "      <td>1</td>\n",
       "      <td>1</td>\n",
       "      <td>382500.0</td>\n",
       "      <td>49.8</td>\n",
       "      <td>1.9</td>\n",
       "      <td>0</td>\n",
       "      <td>0</td>\n",
       "      <td>0</td>\n",
       "    </tr>\n",
       "    <tr>\n",
       "      <th>1</th>\n",
       "      <td>1</td>\n",
       "      <td>1</td>\n",
       "      <td>1</td>\n",
       "      <td>1</td>\n",
       "      <td>382500.0</td>\n",
       "      <td>49.8</td>\n",
       "      <td>1.9</td>\n",
       "      <td>1</td>\n",
       "      <td>0</td>\n",
       "      <td>0</td>\n",
       "    </tr>\n",
       "    <tr>\n",
       "      <th>2</th>\n",
       "      <td>2</td>\n",
       "      <td>1</td>\n",
       "      <td>1</td>\n",
       "      <td>1</td>\n",
       "      <td>382500.0</td>\n",
       "      <td>49.8</td>\n",
       "      <td>1.9</td>\n",
       "      <td>0</td>\n",
       "      <td>0</td>\n",
       "      <td>0</td>\n",
       "    </tr>\n",
       "    <tr>\n",
       "      <th>3</th>\n",
       "      <td>3</td>\n",
       "      <td>0</td>\n",
       "      <td>1</td>\n",
       "      <td>1</td>\n",
       "      <td>90000.0</td>\n",
       "      <td>51.9</td>\n",
       "      <td>2.7</td>\n",
       "      <td>0</td>\n",
       "      <td>0</td>\n",
       "      <td>1</td>\n",
       "    </tr>\n",
       "    <tr>\n",
       "      <th>4</th>\n",
       "      <td>4</td>\n",
       "      <td>0</td>\n",
       "      <td>1</td>\n",
       "      <td>1</td>\n",
       "      <td>90000.0</td>\n",
       "      <td>51.9</td>\n",
       "      <td>2.7</td>\n",
       "      <td>0</td>\n",
       "      <td>0</td>\n",
       "      <td>1</td>\n",
       "    </tr>\n",
       "  </tbody>\n",
       "</table>\n",
       "</div>"
      ],
      "text/plain": [
       "   level_0  GENDER  Car_Owner  Property_Owner  Annual_income   Age  \\\n",
       "0        0       1          1               1       382500.0  49.8   \n",
       "1        1       1          1               1       382500.0  49.8   \n",
       "2        2       1          1               1       382500.0  49.8   \n",
       "3        3       0          1               1        90000.0  51.9   \n",
       "4        4       0          1               1        90000.0  51.9   \n",
       "\n",
       "   Employed(in years)  Type_Income_Pensioner  Type_Income_State servant  \\\n",
       "0                 1.9                      0                          0   \n",
       "1                 1.9                      1                          0   \n",
       "2                 1.9                      0                          0   \n",
       "3                 2.7                      0                          0   \n",
       "4                 2.7                      0                          0   \n",
       "\n",
       "   Type_Income_Working  \n",
       "0                    0  \n",
       "1                    0  \n",
       "2                    0  \n",
       "3                    1  \n",
       "4                    1  "
      ]
     },
     "execution_count": 369,
     "metadata": {},
     "output_type": "execute_result"
    }
   ],
   "source": [
    "X.head()"
   ]
  },
  {
   "cell_type": "code",
   "execution_count": 370,
   "id": "f7d94e27",
   "metadata": {},
   "outputs": [
    {
     "data": {
      "text/plain": [
       "0       1\n",
       "1       1\n",
       "2       1\n",
       "3       1\n",
       "4       1\n",
       "       ..\n",
       "1020    0\n",
       "1021    0\n",
       "1022    0\n",
       "1023    0\n",
       "1024    0\n",
       "Name: label, Length: 1025, dtype: int64"
      ]
     },
     "execution_count": 370,
     "metadata": {},
     "output_type": "execute_result"
    }
   ],
   "source": [
    "Y"
   ]
  },
  {
   "cell_type": "markdown",
   "id": "93a8dd3e",
   "metadata": {},
   "source": [
    "We already have X and Y split data,\n",
    "we can use them for Over-sampling."
   ]
  },
  {
   "cell_type": "code",
   "execution_count": 371,
   "id": "e38e861a",
   "metadata": {},
   "outputs": [],
   "source": [
    "from imblearn.over_sampling import SMOTE"
   ]
  },
  {
   "cell_type": "code",
   "execution_count": 372,
   "id": "472f765b",
   "metadata": {},
   "outputs": [],
   "source": [
    "os = SMOTE(random_state = 42)\n",
    "columns = X.columns"
   ]
  },
  {
   "cell_type": "code",
   "execution_count": 373,
   "id": "6610141e",
   "metadata": {},
   "outputs": [],
   "source": [
    "os_data_X,os_data_Y = os.fit_sample(X,Y)\n",
    "os_data_X = pd.DataFrame(data = os_data_X,columns = columns)\n",
    "os_data_Y = pd.DataFrame(data = os_data_Y,columns = ['label'])"
   ]
  },
  {
   "cell_type": "code",
   "execution_count": 374,
   "id": "fe84042d",
   "metadata": {},
   "outputs": [
    {
     "name": "stdout",
     "output_type": "stream",
     "text": [
      "length of oversampled data is  1830\n",
      "Number of no card in oversampled data 915\n",
      "Number of card 915\n",
      "Proportion of no card data in oversampled data is  0.5\n",
      "Proportion of card data in oversampled data is  0.5\n"
     ]
    }
   ],
   "source": [
    "#We can Check the numbers of our data\n",
    "print('length of oversampled data is ',len(os_data_X))\n",
    "print('Number of no card in oversampled data',len(os_data_Y[os_data_Y['label']==0]))\n",
    "print('Number of card',len(os_data_Y[os_data_Y['label']==1]))\n",
    "print('Proportion of no card data in oversampled data is ',len(os_data_Y[os_data_Y['label']==0])/len(os_data_X))\n",
    "print('Proportion of card data in oversampled data is ',len(os_data_Y[os_data_Y['label']==1])/len(os_data_X))"
   ]
  },
  {
   "cell_type": "markdown",
   "id": "15837107",
   "metadata": {},
   "source": [
    "## Train-Test Split (after over-sampling)\n"
   ]
  },
  {
   "cell_type": "code",
   "execution_count": 375,
   "id": "f0cc7f84",
   "metadata": {},
   "outputs": [],
   "source": [
    "from sklearn.model_selection import train_test_split\n",
    "X_train_O,X_test_O,Y_train_O,Y_test_O = train_test_split(os_data_X,os_data_Y,test_size = 0.2, random_state = 42)"
   ]
  },
  {
   "cell_type": "markdown",
   "id": "1cecadba",
   "metadata": {},
   "source": [
    "## Standardiztion of Data"
   ]
  },
  {
   "cell_type": "code",
   "execution_count": 376,
   "id": "270acd5d",
   "metadata": {},
   "outputs": [],
   "source": [
    "from sklearn.preprocessing import StandardScaler\n",
    "scaler = StandardScaler()\n",
    "X_train_O = scaler.fit_transform(X_train_O)\n",
    "X_test_O = scaler.transform(X_test_O)"
   ]
  },
  {
   "cell_type": "markdown",
   "id": "e8d0b4fe",
   "metadata": {},
   "source": [
    "#### Model: Logistic Regression"
   ]
  },
  {
   "cell_type": "code",
   "execution_count": 377,
   "id": "8adb699e",
   "metadata": {},
   "outputs": [
    {
     "data": {
      "text/html": [
       "<style>#sk-container-id-15 {color: black;}#sk-container-id-15 pre{padding: 0;}#sk-container-id-15 div.sk-toggleable {background-color: white;}#sk-container-id-15 label.sk-toggleable__label {cursor: pointer;display: block;width: 100%;margin-bottom: 0;padding: 0.3em;box-sizing: border-box;text-align: center;}#sk-container-id-15 label.sk-toggleable__label-arrow:before {content: \"▸\";float: left;margin-right: 0.25em;color: #696969;}#sk-container-id-15 label.sk-toggleable__label-arrow:hover:before {color: black;}#sk-container-id-15 div.sk-estimator:hover label.sk-toggleable__label-arrow:before {color: black;}#sk-container-id-15 div.sk-toggleable__content {max-height: 0;max-width: 0;overflow: hidden;text-align: left;background-color: #f0f8ff;}#sk-container-id-15 div.sk-toggleable__content pre {margin: 0.2em;color: black;border-radius: 0.25em;background-color: #f0f8ff;}#sk-container-id-15 input.sk-toggleable__control:checked~div.sk-toggleable__content {max-height: 200px;max-width: 100%;overflow: auto;}#sk-container-id-15 input.sk-toggleable__control:checked~label.sk-toggleable__label-arrow:before {content: \"▾\";}#sk-container-id-15 div.sk-estimator input.sk-toggleable__control:checked~label.sk-toggleable__label {background-color: #d4ebff;}#sk-container-id-15 div.sk-label input.sk-toggleable__control:checked~label.sk-toggleable__label {background-color: #d4ebff;}#sk-container-id-15 input.sk-hidden--visually {border: 0;clip: rect(1px 1px 1px 1px);clip: rect(1px, 1px, 1px, 1px);height: 1px;margin: -1px;overflow: hidden;padding: 0;position: absolute;width: 1px;}#sk-container-id-15 div.sk-estimator {font-family: monospace;background-color: #f0f8ff;border: 1px dotted black;border-radius: 0.25em;box-sizing: border-box;margin-bottom: 0.5em;}#sk-container-id-15 div.sk-estimator:hover {background-color: #d4ebff;}#sk-container-id-15 div.sk-parallel-item::after {content: \"\";width: 100%;border-bottom: 1px solid gray;flex-grow: 1;}#sk-container-id-15 div.sk-label:hover label.sk-toggleable__label {background-color: #d4ebff;}#sk-container-id-15 div.sk-serial::before {content: \"\";position: absolute;border-left: 1px solid gray;box-sizing: border-box;top: 0;bottom: 0;left: 50%;z-index: 0;}#sk-container-id-15 div.sk-serial {display: flex;flex-direction: column;align-items: center;background-color: white;padding-right: 0.2em;padding-left: 0.2em;position: relative;}#sk-container-id-15 div.sk-item {position: relative;z-index: 1;}#sk-container-id-15 div.sk-parallel {display: flex;align-items: stretch;justify-content: center;background-color: white;position: relative;}#sk-container-id-15 div.sk-item::before, #sk-container-id-15 div.sk-parallel-item::before {content: \"\";position: absolute;border-left: 1px solid gray;box-sizing: border-box;top: 0;bottom: 0;left: 50%;z-index: -1;}#sk-container-id-15 div.sk-parallel-item {display: flex;flex-direction: column;z-index: 1;position: relative;background-color: white;}#sk-container-id-15 div.sk-parallel-item:first-child::after {align-self: flex-end;width: 50%;}#sk-container-id-15 div.sk-parallel-item:last-child::after {align-self: flex-start;width: 50%;}#sk-container-id-15 div.sk-parallel-item:only-child::after {width: 0;}#sk-container-id-15 div.sk-dashed-wrapped {border: 1px dashed gray;margin: 0 0.4em 0.5em 0.4em;box-sizing: border-box;padding-bottom: 0.4em;background-color: white;}#sk-container-id-15 div.sk-label label {font-family: monospace;font-weight: bold;display: inline-block;line-height: 1.2em;}#sk-container-id-15 div.sk-label-container {text-align: center;}#sk-container-id-15 div.sk-container {/* jupyter's `normalize.less` sets `[hidden] { display: none; }` but bootstrap.min.css set `[hidden] { display: none !important; }` so we also need the `!important` here to be able to override the default hidden behavior on the sphinx rendered scikit-learn.org. See: https://github.com/scikit-learn/scikit-learn/issues/21755 */display: inline-block !important;position: relative;}#sk-container-id-15 div.sk-text-repr-fallback {display: none;}</style><div id=\"sk-container-id-15\" class=\"sk-top-container\"><div class=\"sk-text-repr-fallback\"><pre>LogisticRegression()</pre><b>In a Jupyter environment, please rerun this cell to show the HTML representation or trust the notebook. <br />On GitHub, the HTML representation is unable to render, please try loading this page with nbviewer.org.</b></div><div class=\"sk-container\" hidden><div class=\"sk-item\"><div class=\"sk-estimator sk-toggleable\"><input class=\"sk-toggleable__control sk-hidden--visually\" id=\"sk-estimator-id-15\" type=\"checkbox\" checked><label for=\"sk-estimator-id-15\" class=\"sk-toggleable__label sk-toggleable__label-arrow\">LogisticRegression</label><div class=\"sk-toggleable__content\"><pre>LogisticRegression()</pre></div></div></div></div></div>"
      ],
      "text/plain": [
       "LogisticRegression()"
      ]
     },
     "execution_count": 377,
     "metadata": {},
     "output_type": "execute_result"
    }
   ],
   "source": [
    "from sklearn.linear_model import LogisticRegression\n",
    "\n",
    "model1 = LogisticRegression()\n",
    "model1.fit(X_train_O, Y_train_O.values.ravel())"
   ]
  },
  {
   "cell_type": "code",
   "execution_count": 378,
   "id": "91658a0b",
   "metadata": {},
   "outputs": [
    {
     "name": "stdout",
     "output_type": "stream",
     "text": [
      "Accuracy: 0.9863387978142076\n"
     ]
    }
   ],
   "source": [
    "from sklearn.metrics import accuracy_score\n",
    "\n",
    "y_pred = model1.predict(X_test_O)\n",
    "accuracyl1_O = accuracy_score(Y_test_O, y_pred)\n",
    "print(\"Accuracy:\", accuracyl1_O)"
   ]
  },
  {
   "cell_type": "code",
   "execution_count": null,
   "id": "b48c5e23",
   "metadata": {},
   "outputs": [],
   "source": [
    "plt.plot(neighbors_settings, accuracyl1_O, label=”training accuracy”)\n",
    "plt.plot(neighbors_settings, test_accuracy, label=”test accuracy”)\n",
    "plt.ylabel(“Logistic Regression”)\n",
    "plt.xlabel(“n_neighbors”)\n",
    "plt.legend()\n",
    "plt.savefig(‘Logistic Regression’)"
   ]
  },
  {
   "cell_type": "code",
   "execution_count": null,
   "id": "eb7270b6",
   "metadata": {},
   "outputs": [],
   "source": []
  },
  {
   "cell_type": "markdown",
   "id": "7912b623",
   "metadata": {},
   "source": [
    "#### Model: Decision Tree"
   ]
  },
  {
   "cell_type": "code",
   "execution_count": 379,
   "id": "ba6b67ce",
   "metadata": {},
   "outputs": [
    {
     "data": {
      "text/html": [
       "<style>#sk-container-id-16 {color: black;}#sk-container-id-16 pre{padding: 0;}#sk-container-id-16 div.sk-toggleable {background-color: white;}#sk-container-id-16 label.sk-toggleable__label {cursor: pointer;display: block;width: 100%;margin-bottom: 0;padding: 0.3em;box-sizing: border-box;text-align: center;}#sk-container-id-16 label.sk-toggleable__label-arrow:before {content: \"▸\";float: left;margin-right: 0.25em;color: #696969;}#sk-container-id-16 label.sk-toggleable__label-arrow:hover:before {color: black;}#sk-container-id-16 div.sk-estimator:hover label.sk-toggleable__label-arrow:before {color: black;}#sk-container-id-16 div.sk-toggleable__content {max-height: 0;max-width: 0;overflow: hidden;text-align: left;background-color: #f0f8ff;}#sk-container-id-16 div.sk-toggleable__content pre {margin: 0.2em;color: black;border-radius: 0.25em;background-color: #f0f8ff;}#sk-container-id-16 input.sk-toggleable__control:checked~div.sk-toggleable__content {max-height: 200px;max-width: 100%;overflow: auto;}#sk-container-id-16 input.sk-toggleable__control:checked~label.sk-toggleable__label-arrow:before {content: \"▾\";}#sk-container-id-16 div.sk-estimator input.sk-toggleable__control:checked~label.sk-toggleable__label {background-color: #d4ebff;}#sk-container-id-16 div.sk-label input.sk-toggleable__control:checked~label.sk-toggleable__label {background-color: #d4ebff;}#sk-container-id-16 input.sk-hidden--visually {border: 0;clip: rect(1px 1px 1px 1px);clip: rect(1px, 1px, 1px, 1px);height: 1px;margin: -1px;overflow: hidden;padding: 0;position: absolute;width: 1px;}#sk-container-id-16 div.sk-estimator {font-family: monospace;background-color: #f0f8ff;border: 1px dotted black;border-radius: 0.25em;box-sizing: border-box;margin-bottom: 0.5em;}#sk-container-id-16 div.sk-estimator:hover {background-color: #d4ebff;}#sk-container-id-16 div.sk-parallel-item::after {content: \"\";width: 100%;border-bottom: 1px solid gray;flex-grow: 1;}#sk-container-id-16 div.sk-label:hover label.sk-toggleable__label {background-color: #d4ebff;}#sk-container-id-16 div.sk-serial::before {content: \"\";position: absolute;border-left: 1px solid gray;box-sizing: border-box;top: 0;bottom: 0;left: 50%;z-index: 0;}#sk-container-id-16 div.sk-serial {display: flex;flex-direction: column;align-items: center;background-color: white;padding-right: 0.2em;padding-left: 0.2em;position: relative;}#sk-container-id-16 div.sk-item {position: relative;z-index: 1;}#sk-container-id-16 div.sk-parallel {display: flex;align-items: stretch;justify-content: center;background-color: white;position: relative;}#sk-container-id-16 div.sk-item::before, #sk-container-id-16 div.sk-parallel-item::before {content: \"\";position: absolute;border-left: 1px solid gray;box-sizing: border-box;top: 0;bottom: 0;left: 50%;z-index: -1;}#sk-container-id-16 div.sk-parallel-item {display: flex;flex-direction: column;z-index: 1;position: relative;background-color: white;}#sk-container-id-16 div.sk-parallel-item:first-child::after {align-self: flex-end;width: 50%;}#sk-container-id-16 div.sk-parallel-item:last-child::after {align-self: flex-start;width: 50%;}#sk-container-id-16 div.sk-parallel-item:only-child::after {width: 0;}#sk-container-id-16 div.sk-dashed-wrapped {border: 1px dashed gray;margin: 0 0.4em 0.5em 0.4em;box-sizing: border-box;padding-bottom: 0.4em;background-color: white;}#sk-container-id-16 div.sk-label label {font-family: monospace;font-weight: bold;display: inline-block;line-height: 1.2em;}#sk-container-id-16 div.sk-label-container {text-align: center;}#sk-container-id-16 div.sk-container {/* jupyter's `normalize.less` sets `[hidden] { display: none; }` but bootstrap.min.css set `[hidden] { display: none !important; }` so we also need the `!important` here to be able to override the default hidden behavior on the sphinx rendered scikit-learn.org. See: https://github.com/scikit-learn/scikit-learn/issues/21755 */display: inline-block !important;position: relative;}#sk-container-id-16 div.sk-text-repr-fallback {display: none;}</style><div id=\"sk-container-id-16\" class=\"sk-top-container\"><div class=\"sk-text-repr-fallback\"><pre>DecisionTreeClassifier()</pre><b>In a Jupyter environment, please rerun this cell to show the HTML representation or trust the notebook. <br />On GitHub, the HTML representation is unable to render, please try loading this page with nbviewer.org.</b></div><div class=\"sk-container\" hidden><div class=\"sk-item\"><div class=\"sk-estimator sk-toggleable\"><input class=\"sk-toggleable__control sk-hidden--visually\" id=\"sk-estimator-id-16\" type=\"checkbox\" checked><label for=\"sk-estimator-id-16\" class=\"sk-toggleable__label sk-toggleable__label-arrow\">DecisionTreeClassifier</label><div class=\"sk-toggleable__content\"><pre>DecisionTreeClassifier()</pre></div></div></div></div></div>"
      ],
      "text/plain": [
       "DecisionTreeClassifier()"
      ]
     },
     "execution_count": 379,
     "metadata": {},
     "output_type": "execute_result"
    }
   ],
   "source": [
    "from sklearn import tree\n",
    "model2"
   ]
  },
  {
   "cell_type": "code",
   "execution_count": 380,
   "id": "88ef33ff",
   "metadata": {},
   "outputs": [],
   "source": [
    "model2.fit(X_train_O,Y_train_O)\n",
    "y_pred_O = model2.predict(X_test_O)"
   ]
  },
  {
   "cell_type": "code",
   "execution_count": 381,
   "id": "7a257ec1",
   "metadata": {},
   "outputs": [
    {
     "name": "stdout",
     "output_type": "stream",
     "text": [
      "Accuracy: 1.0\n"
     ]
    }
   ],
   "source": [
    "accuracy_O = accuracy_score(Y_test_O,y_pred_O)\n",
    "print(f'Accuracy: {accuracy_O}')"
   ]
  },
  {
   "cell_type": "markdown",
   "id": "58ab94e4",
   "metadata": {},
   "source": [
    "#### Model: XG Boost"
   ]
  },
  {
   "cell_type": "code",
   "execution_count": 382,
   "id": "114f5dbb",
   "metadata": {},
   "outputs": [
    {
     "name": "stdout",
     "output_type": "stream",
     "text": [
      "Train score: 1.0 Test score: 0.9972677595628415\n"
     ]
    }
   ],
   "source": [
    "# fit model to training data\n",
    "import xgboost as xgb\n",
    "model3 = xgb.XGBClassifier()\n",
    "model3.fit(X_train_O, Y_train_O)\n",
    "\n",
    "train_predict = model3.predict(X_train_O)\n",
    "test_predict = model3.predict(X_test_O)\n",
    "\n",
    "test_acc_O = accuracy_score(Y_test_O, test_predict)\n",
    "train_acc_O = accuracy_score(Y_train_O, train_predict)\n",
    "print('Train score:',train_acc_O,'Test score:',test_acc_O)"
   ]
  },
  {
   "cell_type": "markdown",
   "id": "8eb109d3",
   "metadata": {},
   "source": [
    "#### Model:KNN"
   ]
  },
  {
   "cell_type": "code",
   "execution_count": 383,
   "id": "e305e1ce",
   "metadata": {},
   "outputs": [
    {
     "name": "stdout",
     "output_type": "stream",
     "text": [
      "label Train score: 0.9474043715846995 Test score: 0.9207650273224044\n"
     ]
    }
   ],
   "source": [
    "from sklearn.neighbors import KNeighborsClassifier\n",
    "knn =KNeighborsClassifier()\n",
    "knn.fit(X_train_O,Y_train_O.values.ravel())\n",
    "train_predict = knn.predict(X_train_O)\n",
    "test_predict = knn.predict(X_test_O)\n",
    "test_acck1_O = accuracy_score(Y_test_O, test_predict)\n",
    "train_acc_O = accuracy_score(Y_train_O, train_predict)\n",
    "\n",
    "print(i,'Train score:',train_acc_O,'Test score:',test_acck1_O)"
   ]
  },
  {
   "cell_type": "markdown",
   "id": "e9e0010d",
   "metadata": {},
   "source": [
    "#### Model:Random Forest"
   ]
  },
  {
   "cell_type": "code",
   "execution_count": 384,
   "id": "674919c2",
   "metadata": {},
   "outputs": [
    {
     "name": "stdout",
     "output_type": "stream",
     "text": [
      "Accuracy: 1.0\n"
     ]
    }
   ],
   "source": [
    "from sklearn.ensemble import RandomForestClassifier\n",
    "rf = RandomForestClassifier()\n",
    "rf.fit(X_train_O, Y_train_O.values.ravel())\n",
    "y_pred_OR = rf.predict(X_test_O)\n",
    "accuracyR1_O = accuracy_score(Y_test_O, y_pred_OR)\n",
    "print(\"Accuracy:\", accuracyR1_O)"
   ]
  },
  {
   "cell_type": "markdown",
   "id": "88a5476e",
   "metadata": {},
   "source": [
    "## Conclusion"
   ]
  },
  {
   "cell_type": "code",
   "execution_count": 418,
   "id": "e624e8b9",
   "metadata": {},
   "outputs": [],
   "source": [
    "results_Oversampling= {'Logistic Regression':round(accuracyl1_O*100,2),\n",
    "          'Decision tree':round(accuracy_O*100,2),\n",
    "          'XG Boost':round(test_acc_O*100,2),\n",
    "          'KNN':round(test_acck1_O*100,2),\n",
    "          'Random Forest':round(accuracyR1_O*100,2)}"
   ]
  },
  {
   "cell_type": "code",
   "execution_count": 419,
   "id": "98fccaf5",
   "metadata": {},
   "outputs": [],
   "source": [
    "results_Oversampling=pd.DataFrame(results_Oversampling,index = [0])\n",
    "results_Oversampling=results_Oversampling.transpose()\n"
   ]
  },
  {
   "cell_type": "code",
   "execution_count": 420,
   "id": "a9e10e97",
   "metadata": {},
   "outputs": [],
   "source": [
    "results_Oversampling.rename(columns = {0:'Oversampling_data_Accuracy(in Percentage)'},inplace = True)"
   ]
  },
  {
   "cell_type": "code",
   "execution_count": 421,
   "id": "1ca829aa",
   "metadata": {},
   "outputs": [],
   "source": [
    "results_Oversampling.rename(columns = {'Accuracy(in Percentage)':'Oversampling_data_Accuracy(in Percentage)'},inplace = True)"
   ]
  },
  {
   "cell_type": "code",
   "execution_count": 422,
   "id": "96ffeaaa",
   "metadata": {},
   "outputs": [
    {
     "data": {
      "text/html": [
       "<div>\n",
       "<style scoped>\n",
       "    .dataframe tbody tr th:only-of-type {\n",
       "        vertical-align: middle;\n",
       "    }\n",
       "\n",
       "    .dataframe tbody tr th {\n",
       "        vertical-align: top;\n",
       "    }\n",
       "\n",
       "    .dataframe thead th {\n",
       "        text-align: right;\n",
       "    }\n",
       "</style>\n",
       "<table border=\"1\" class=\"dataframe\">\n",
       "  <thead>\n",
       "    <tr style=\"text-align: right;\">\n",
       "      <th></th>\n",
       "      <th>Oversampling_data_Accuracy(in Percentage)</th>\n",
       "    </tr>\n",
       "  </thead>\n",
       "  <tbody>\n",
       "    <tr>\n",
       "      <th>Logistic Regression</th>\n",
       "      <td>98.63</td>\n",
       "    </tr>\n",
       "    <tr>\n",
       "      <th>Decision tree</th>\n",
       "      <td>100.00</td>\n",
       "    </tr>\n",
       "    <tr>\n",
       "      <th>XG Boost</th>\n",
       "      <td>99.73</td>\n",
       "    </tr>\n",
       "    <tr>\n",
       "      <th>KNN</th>\n",
       "      <td>92.08</td>\n",
       "    </tr>\n",
       "    <tr>\n",
       "      <th>Random Forest</th>\n",
       "      <td>100.00</td>\n",
       "    </tr>\n",
       "  </tbody>\n",
       "</table>\n",
       "</div>"
      ],
      "text/plain": [
       "                     Oversampling_data_Accuracy(in Percentage)\n",
       "Logistic Regression                                      98.63\n",
       "Decision tree                                           100.00\n",
       "XG Boost                                                 99.73\n",
       "KNN                                                      92.08\n",
       "Random Forest                                           100.00"
      ]
     },
     "execution_count": 422,
     "metadata": {},
     "output_type": "execute_result"
    }
   ],
   "source": [
    "results_Oversampling"
   ]
  },
  {
   "cell_type": "markdown",
   "id": "72f80933",
   "metadata": {},
   "source": [
    "After oversampling the data we got to know that Random Forest will be the best for analysis."
   ]
  },
  {
   "cell_type": "code",
   "execution_count": null,
   "id": "b839e935",
   "metadata": {},
   "outputs": [],
   "source": []
  },
  {
   "cell_type": "code",
   "execution_count": 423,
   "id": "eb344f31",
   "metadata": {},
   "outputs": [],
   "source": [
    "frames = [result,results_Oversampling]\n",
    "\n",
    "results = pd.concat(frames,axis = 1)"
   ]
  },
  {
   "cell_type": "code",
   "execution_count": 424,
   "id": "0f1ef296",
   "metadata": {},
   "outputs": [
    {
     "data": {
      "text/html": [
       "<div>\n",
       "<style scoped>\n",
       "    .dataframe tbody tr th:only-of-type {\n",
       "        vertical-align: middle;\n",
       "    }\n",
       "\n",
       "    .dataframe tbody tr th {\n",
       "        vertical-align: top;\n",
       "    }\n",
       "\n",
       "    .dataframe thead th {\n",
       "        text-align: right;\n",
       "    }\n",
       "</style>\n",
       "<table border=\"1\" class=\"dataframe\">\n",
       "  <thead>\n",
       "    <tr style=\"text-align: right;\">\n",
       "      <th></th>\n",
       "      <th>Accuracy(in Percentage)</th>\n",
       "      <th>Oversampling_data_Accuracy(in Percentage)</th>\n",
       "    </tr>\n",
       "  </thead>\n",
       "  <tbody>\n",
       "    <tr>\n",
       "      <th>Logistic Regression</th>\n",
       "      <td>98.54</td>\n",
       "      <td>98.63</td>\n",
       "    </tr>\n",
       "    <tr>\n",
       "      <th>Decision tree</th>\n",
       "      <td>100.00</td>\n",
       "      <td>100.00</td>\n",
       "    </tr>\n",
       "    <tr>\n",
       "      <th>XG Boost</th>\n",
       "      <td>100.00</td>\n",
       "      <td>99.73</td>\n",
       "    </tr>\n",
       "    <tr>\n",
       "      <th>KNN</th>\n",
       "      <td>93.17</td>\n",
       "      <td>92.08</td>\n",
       "    </tr>\n",
       "    <tr>\n",
       "      <th>Random Forest</th>\n",
       "      <td>100.00</td>\n",
       "      <td>100.00</td>\n",
       "    </tr>\n",
       "  </tbody>\n",
       "</table>\n",
       "</div>"
      ],
      "text/plain": [
       "                     Accuracy(in Percentage)  \\\n",
       "Logistic Regression                    98.54   \n",
       "Decision tree                         100.00   \n",
       "XG Boost                              100.00   \n",
       "KNN                                    93.17   \n",
       "Random Forest                         100.00   \n",
       "\n",
       "                     Oversampling_data_Accuracy(in Percentage)  \n",
       "Logistic Regression                                      98.63  \n",
       "Decision tree                                           100.00  \n",
       "XG Boost                                                 99.73  \n",
       "KNN                                                      92.08  \n",
       "Random Forest                                           100.00  "
      ]
     },
     "execution_count": 424,
     "metadata": {},
     "output_type": "execute_result"
    }
   ],
   "source": [
    "results"
   ]
  },
  {
   "cell_type": "code",
   "execution_count": 425,
   "id": "933bba7b",
   "metadata": {},
   "outputs": [
    {
     "data": {
      "text/plain": [
       "Accuracy(in Percentage)                      98.342\n",
       "Oversampling_data_Accuracy(in Percentage)    98.088\n",
       "dtype: float64"
      ]
     },
     "execution_count": 425,
     "metadata": {},
     "output_type": "execute_result"
    }
   ],
   "source": [
    "results.mean(axis = 0)"
   ]
  },
  {
   "cell_type": "markdown",
   "id": "f9b7986a",
   "metadata": {},
   "source": [
    "Almost Same mean value for both scenarios.(Balanced and Imbalnced datasets)"
   ]
  },
  {
   "cell_type": "markdown",
   "id": "04ce06c3",
   "metadata": {},
   "source": [
    "## Summary:"
   ]
  },
  {
   "cell_type": "markdown",
   "id": "b3f106c9",
   "metadata": {},
   "source": [
    "After conducting a comprehensive analysis and employing machine learning modeling techniques, the following key steps were taken:\n",
    "\n",
    "1. **Data Preprocessing:** Initially, the dataset exhibited issues such as data imbalance and missing values. To address these concerns, a rigorous data cleaning process was executed to rectify the data quality.\n",
    "\n",
    "2. **Data Analysis:** Subsequent to data cleaning, an in-depth data analysis was conducted. This analysis included the identification and treatment of outliers within the dataset.\n",
    "\n",
    "3. **Exploratory Data Analysis (EDA):** EDA encompassed univariate and bivariate analyses, which served to uncover valuable insights. Furthermore, this stage facilitated feature engineering and feature encoding to enhance the dataset for modeling.\n",
    "\n",
    "4. **Machine Learning Modeling:** Several machine learning models were considered for predictive modeling, including:\n",
    "   - Logistic Regression\n",
    "   - Decision Tree\n",
    "   - XG Boost\n",
    "   - K-Nearest Neighbors (KNN)\n",
    "   - Random Forest\n",
    "\n",
    "5. **Model Evaluation:** During the evaluation of these models, it was observed that the Decision Tree and Random Forest models consistently achieved 100% accuracy across both imbalanced and balanced data cases.\n",
    "\n",
    "This systematic approach ensured a thorough examination of the data and resulted in the identification of highly accurate models for further consideration or deployment."
   ]
  },
  {
   "cell_type": "code",
   "execution_count": 426,
   "id": "c6a62b9f",
   "metadata": {},
   "outputs": [
    {
     "data": {
      "text/html": [
       "<div>\n",
       "<style scoped>\n",
       "    .dataframe tbody tr th:only-of-type {\n",
       "        vertical-align: middle;\n",
       "    }\n",
       "\n",
       "    .dataframe tbody tr th {\n",
       "        vertical-align: top;\n",
       "    }\n",
       "\n",
       "    .dataframe thead th {\n",
       "        text-align: right;\n",
       "    }\n",
       "</style>\n",
       "<table border=\"1\" class=\"dataframe\">\n",
       "  <thead>\n",
       "    <tr style=\"text-align: right;\">\n",
       "      <th></th>\n",
       "      <th>Accuracy(in Percentage)</th>\n",
       "      <th>Oversampling_data_Accuracy(in Percentage)</th>\n",
       "    </tr>\n",
       "  </thead>\n",
       "  <tbody>\n",
       "    <tr>\n",
       "      <th>Logistic Regression</th>\n",
       "      <td>98.54</td>\n",
       "      <td>98.63</td>\n",
       "    </tr>\n",
       "    <tr>\n",
       "      <th>Decision tree</th>\n",
       "      <td>100.00</td>\n",
       "      <td>100.00</td>\n",
       "    </tr>\n",
       "    <tr>\n",
       "      <th>XG Boost</th>\n",
       "      <td>100.00</td>\n",
       "      <td>99.73</td>\n",
       "    </tr>\n",
       "    <tr>\n",
       "      <th>KNN</th>\n",
       "      <td>93.17</td>\n",
       "      <td>92.08</td>\n",
       "    </tr>\n",
       "    <tr>\n",
       "      <th>Random Forest</th>\n",
       "      <td>100.00</td>\n",
       "      <td>100.00</td>\n",
       "    </tr>\n",
       "  </tbody>\n",
       "</table>\n",
       "</div>"
      ],
      "text/plain": [
       "                     Accuracy(in Percentage)  \\\n",
       "Logistic Regression                    98.54   \n",
       "Decision tree                         100.00   \n",
       "XG Boost                              100.00   \n",
       "KNN                                    93.17   \n",
       "Random Forest                         100.00   \n",
       "\n",
       "                     Oversampling_data_Accuracy(in Percentage)  \n",
       "Logistic Regression                                      98.63  \n",
       "Decision tree                                           100.00  \n",
       "XG Boost                                                 99.73  \n",
       "KNN                                                      92.08  \n",
       "Random Forest                                           100.00  "
      ]
     },
     "execution_count": 426,
     "metadata": {},
     "output_type": "execute_result"
    }
   ],
   "source": [
    "results"
   ]
  },
  {
   "cell_type": "markdown",
   "id": "cf270ffe",
   "metadata": {},
   "source": [
    "***************************\n",
    "## SQL Questions and Answers\n",
    "***************************"
   ]
  },
  {
   "cell_type": "markdown",
   "id": "b4d53a39",
   "metadata": {},
   "source": [
    "***1. Group the customers based on their income type and find the average of their annual income.***\n",
    "\n",
    "select Type_Income,\n",
    "round(AVG(Annual_income),2) as Average_Income from Creditdata group by Type_Income\n",
    "\n",
    "***2. Find the female owners of cars and property.***\n",
    "\n",
    "select * from Creditdata where GENDER = 'F' and Car_Owner = 'Y' and Property_Owner = 'Y'\n",
    "\n",
    "***3. Find the male customers who are staying with their families.***\n",
    "\n",
    "select * from Creditdata where GENDER = 'M' and Family_Members <> 1\n",
    "\n",
    "***4. Please list the top five people having the highest income.***\n",
    "\n",
    "select * from creditdata where annual_income in (select top 5 annual_income from Creditdata order by Annual_income desc)\n",
    "\n",
    "***5. How many married people are having bad credit?***\n",
    "\n",
    "select COUNT() Married_Bad_credit from Creditdata where Marital_status = 'Married' and label = 0\n",
    "\n",
    "***6. What is the highest education level and what is the total count?***\n",
    "\n",
    "select top 1 education, COUNT() no_of_people from creditdata group by EDUCATION order by EDUCATION\n",
    "\n",
    "***7. Between married males and females, who is having more bad credit?***\n",
    "\n",
    "select gender,COUNT(*) no_of_people from Creditdata where label like 0 and Marital_status like 'Married' group by GENDER order by no_of_people desc\n"
   ]
  },
  {
   "cell_type": "markdown",
   "id": "0482eb2c",
   "metadata": {},
   "source": [
    "### *********************************END OF THE PROJECT****************************************"
   ]
  },
  {
   "cell_type": "code",
   "execution_count": null,
   "id": "3f82c8ce",
   "metadata": {},
   "outputs": [],
   "source": []
  }
 ],
 "metadata": {
  "kernelspec": {
   "display_name": "Python 3 (ipykernel)",
   "language": "python",
   "name": "python3"
  },
  "language_info": {
   "codemirror_mode": {
    "name": "ipython",
    "version": 3
   },
   "file_extension": ".py",
   "mimetype": "text/x-python",
   "name": "python",
   "nbconvert_exporter": "python",
   "pygments_lexer": "ipython3",
   "version": "3.9.7"
  }
 },
 "nbformat": 4,
 "nbformat_minor": 5
}
